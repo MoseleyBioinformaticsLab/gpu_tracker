{
 "cells": [
  {
   "cell_type": "markdown",
   "id": "32566971-73e6-47c8-b27e-d6def06bec4e",
   "metadata": {},
   "source": [
    "# Tutorial"
   ]
  },
  {
   "cell_type": "markdown",
   "id": "51c6e812-ad8f-4061-b5dc-22ccfdd15b1c",
   "metadata": {},
   "source": [
    "## API"
   ]
  },
  {
   "cell_type": "markdown",
   "id": "c5757429-9f80-44f2-9318-91182372ada1",
   "metadata": {},
   "source": [
    "### Tracking"
   ]
  },
  {
   "cell_type": "markdown",
   "id": "402ba04f-4773-43fc-940f-8cfe705ec487",
   "metadata": {},
   "source": [
    "#### Basics"
   ]
  },
  {
   "cell_type": "markdown",
   "id": "2bb9e84a-8523-4e5f-bc01-1d6b234c19a6",
   "metadata": {},
   "source": [
    "The `gpu_tracker` package provides the `Tracker` class which uses a subprocess to measure computational resource usage, namely the compute time, maximum CPU utilization, mean CPU utilization, maximum RAM used, maximum GPU utilization, mean GPU utilization, and maximum GPU RAM used. It supports both NVIDIA and AMD GPUs. The `start()` method starts this process which tracks usage in the background. The `Tracker` class can be used as a context manager. Upon entering the context, one can write the code for which resource usage is measured. The compute time will be the time from entering the context to exiting the context and the RAM, GPU RAM, CPU utilization, and GPU utilization quantities will be the respective computational resources used by the code that's within the context."
   ]
  },
  {
   "cell_type": "code",
   "execution_count": 14,
   "id": "2ac7e291-08e4-4f88-a38c-02023dd813c1",
   "metadata": {},
   "outputs": [],
   "source": [
    "import gpu_tracker as gput\n",
    "from example_module import example_function"
   ]
  },
  {
   "cell_type": "code",
   "execution_count": 15,
   "id": "5ad59e55-2bde-4453-9727-2302aa8c231a",
   "metadata": {},
   "outputs": [],
   "source": [
    "with gput.Tracker(n_expected_cores=1, sleep_time=0.1) as tracker:\n",
    "    example_function()"
   ]
  },
  {
   "cell_type": "markdown",
   "id": "0a02518b-f55a-4119-8fc1-2daac6429e44",
   "metadata": {},
   "source": [
    "The `Tracker` class implements the `__str__` method so it can be printed as a string with the values and units of each computational resource formatted."
   ]
  },
  {
   "cell_type": "code",
   "execution_count": 16,
   "id": "710e11da-7a70-49fe-be6d-c1d25ce9d53f",
   "metadata": {},
   "outputs": [
    {
     "name": "stdout",
     "output_type": "stream",
     "text": [
      "Max RAM:\n",
      "   Unit: gigabytes\n",
      "   System capacity: 67.254\n",
      "   System: 4.307\n",
      "   Main:\n",
      "      Total RSS: 0.924\n",
      "      Private RSS: 0.755\n",
      "      Shared RSS: 0.171\n",
      "   Descendants:\n",
      "      Total RSS: 0.0\n",
      "      Private RSS: 0.0\n",
      "      Shared RSS: 0.0\n",
      "   Combined:\n",
      "      Total RSS: 0.924\n",
      "      Private RSS: 0.755\n",
      "      Shared RSS: 0.171\n",
      "Max GPU RAM:\n",
      "   Unit: gigabytes\n",
      "   System capacity: 16.376\n",
      "   System: 0.535\n",
      "   Main: 0.314\n",
      "   Descendants: 0.0\n",
      "   Combined: 0.314\n",
      "CPU utilization:\n",
      "   System core count: 12\n",
      "   Number of expected cores: 1\n",
      "   System:\n",
      "      Max sum percent: 222.6\n",
      "      Max hardware percent: 18.55\n",
      "      Mean sum percent: 149.285\n",
      "      Mean hardware percent: 12.44\n",
      "   Main:\n",
      "      Max sum percent: 103.3\n",
      "      Max hardware percent: 103.3\n",
      "      Mean sum percent: 94.285\n",
      "      Mean hardware percent: 94.285\n",
      "   Descendants:\n",
      "      Max sum percent: 0.0\n",
      "      Max hardware percent: 0.0\n",
      "      Mean sum percent: 0.0\n",
      "      Mean hardware percent: 0.0\n",
      "   Combined:\n",
      "      Max sum percent: 103.3\n",
      "      Max hardware percent: 103.3\n",
      "      Mean sum percent: 94.285\n",
      "      Mean hardware percent: 94.285\n",
      "   Main number of threads: 15\n",
      "   Descendants number of threads: 0\n",
      "   Combined number of threads: 15\n",
      "GPU utilization:\n",
      "   System GPU count: 1\n",
      "   Number of expected GPUs: 1\n",
      "   GPU percentages:\n",
      "      Max sum percent: 5.0\n",
      "      Max hardware percent: 5.0\n",
      "      Mean sum percent: 0.385\n",
      "      Mean hardware percent: 0.385\n",
      "Compute time:\n",
      "   Unit: hours\n",
      "   Time: 0.001\n"
     ]
    }
   ],
   "source": [
    "print(tracker)"
   ]
  },
  {
   "cell_type": "markdown",
   "id": "fc7819ab-a3fc-4a29-8a5c-1790e192a465",
   "metadata": {},
   "source": [
    "The output is organized by computational resource followed by information specific to that resource. The system capacity is a constant for the total RAM capacity across the entire operating system. There is a system capacity field both for RAM and GPU RAM. This is not to be confused with the system field, which measures the maximum RAM / GPU RAM (operating system wide) that was actually used over the duration of the computational-resource tracking. Both the RAM and GPU RAM have 3 additional fields, namely the usage of the main process itself followed by the summed usage of any descendant processes it may have (i.e. child processes, grandchild processes, etc.), and combined usage which is the sum of the main and its descendant processes. RAM is divided further to include the private RSS (RAM usage unique to the process), shared RSS (RAM that's shared by a process and at least one other process), and total RSS (the sum of private and shared RSS). The private and shared RSS values are only available on Linux distributions. So for non-linux operating systems, the private and shared RSS will remain 0 and only the total RSS will be reported. Theoretically, the combined total RSS would never exceed the overall system RAM usage, but inaccuracies resulting from shared RSS can cause this to happen, especially for non-linux operating systems (see note below).\n",
    "\n",
    "The `Tracker` assumes that GPU memory is not shared across multiple processes and if it is, the reported GPU RAM of \"descendant\" and \"combined\" may be an overestimation.\n",
    "\n",
    "The CPU utilization includes the system core count field which is the total number of cores available system-wide. Utilization is measured for the main process, its descendants, the main process and its descendants combined, and CPU utilization across the entire system. The sum percent is the sum of the percentages of all the cores being used. The hardware percent is that divided by the expected number of cores being used i.e. the optional `n_expected_cores` parameter (defaults to the number of cores in the entire system) for the main, descendants, and combined measurements. For the system measurements, hardware percent is divided by the total number of cores in the system regardless of the value of `n_expected_cores`. The max percent is the highest percentage detected through the duration of tracking while the mean percent is the average of all the percentages detected over that duration. The CPU utilization concludes with the maximum number of threads used at any time for the main process and the sum of the threads used across its descendant processes and combined.\n",
    "\n",
    "The GPU utilization is similar to the CPU utilization but rather than being based on utilization of processes, it can only measure the utilization percentages of the GPUs themselves, regardless of what processes are using them. To ameliorate this limitation, the optional `gpu_uuids` parameter can be set to specify which GPUs to measure utilization for (defaults to all the GPUs in the system). The system GPU count is the total number of GPUs in the system.  The sum percent is the sum of all the percentages of these GPUs and the hardware percent is that divided by the expected number of GPUs being used (i.e. `len(gpu_uuids)`). Likewise with CPU utilization, the max and mean of both the sum and hardware percentages are provided.\n",
    "\n",
    "The compute time is the real time that the computational-resource tracking lasted (as compared to CPU time)."
   ]
  },
  {
   "cell_type": "markdown",
   "id": "9eb6f048-68cf-4dc5-b11d-cdcdf39bde3a",
   "metadata": {},
   "source": [
    "***NOTE** The keywords \"descendants\" and \"combined\" in the output above indicate a sum of the RSS used by multiple processes. It's important to keep in mind that on non-linux operating systems, this sum does not take into account shared memory but rather adds up the total RSS of all processes, which can lead to an overestimation. For Linux distributions, however, pieces of shared memory are only counted once.*"
   ]
  },
  {
   "cell_type": "markdown",
   "id": "dbf7ad83-21d0-4cd2-adbb-278fa80d2b13",
   "metadata": {},
   "source": [
    "The `Tracker` can alternatively be used by explicitly calling its `start()` and `stop()` methods which behave the same as entering and exiting the context manager respectively."
   ]
  },
  {
   "cell_type": "code",
   "execution_count": 18,
   "id": "08f688f4-f1b6-41dc-91f9-76f9c7e0fdb3",
   "metadata": {},
   "outputs": [],
   "source": [
    "tracker = gput.Tracker()\n",
    "tracker.start()\n",
    "example_function()\n",
    "tracker.stop()"
   ]
  },
  {
   "cell_type": "markdown",
   "id": "ad1d5fc4-0554-4717-9674-a435ee4e4126",
   "metadata": {},
   "source": [
    "#### Arguments and Attributes"
   ]
  },
  {
   "cell_type": "markdown",
   "id": "7c7afe26-b2e0-4a4a-ba88-327ed6d4bb63",
   "metadata": {},
   "source": [
    "The units of the computational resources can be modified as desired. The following example measures the RAM in megabytes, the GPU RAM in megabytes, and the compute time in seconds."
   ]
  },
  {
   "cell_type": "code",
   "execution_count": 5,
   "id": "09201850-de04-4864-a7e2-3747d4fb9b3a",
   "metadata": {},
   "outputs": [
    {
     "name": "stdout",
     "output_type": "stream",
     "text": [
      "Max RAM:\n",
      "   Unit: megabytes\n",
      "   System capacity: 67254.166\n",
      "   System: 1984.791\n",
      "   Main:\n",
      "      Total RSS: 873.853\n",
      "      Private RSS: 638.353\n",
      "      Shared RSS: 235.68\n",
      "   Descendants:\n",
      "      Total RSS: 0.0\n",
      "      Private RSS: 0.0\n",
      "      Shared RSS: 0.0\n",
      "   Combined:\n",
      "      Total RSS: 873.853\n",
      "      Private RSS: 638.353\n",
      "      Shared RSS: 235.68\n",
      "Max GPU RAM:\n",
      "   Unit: megabytes\n",
      "   System capacity: 16376.0\n",
      "   System: 728.0\n",
      "   Main: 506.0\n",
      "   Descendants: 0.0\n",
      "   Combined: 506.0\n",
      "CPU utilization:\n",
      "   System core count: 12\n",
      "   Number of expected cores: 12\n",
      "   System:\n",
      "      Max sum percent: 161.6\n",
      "      Max hardware percent: 13.467\n",
      "      Mean sum percent: 145.517\n",
      "      Mean hardware percent: 12.126\n",
      "   Main:\n",
      "      Max sum percent: 101.5\n",
      "      Max hardware percent: 8.458\n",
      "      Mean sum percent: 98.683\n",
      "      Mean hardware percent: 8.224\n",
      "   Descendants:\n",
      "      Max sum percent: 0.0\n",
      "      Max hardware percent: 0.0\n",
      "      Mean sum percent: 0.0\n",
      "      Mean hardware percent: 0.0\n",
      "   Combined:\n",
      "      Max sum percent: 101.5\n",
      "      Max hardware percent: 8.458\n",
      "      Mean sum percent: 98.683\n",
      "      Mean hardware percent: 8.224\n",
      "   Main number of threads: 15\n",
      "   Descendants number of threads: 0\n",
      "   Combined number of threads: 15\n",
      "GPU utilization:\n",
      "   System GPU count: 1\n",
      "   Number of expected GPUs: 1\n",
      "   GPU percentages:\n",
      "      Max sum percent: 3.0\n",
      "      Max hardware percent: 3.0\n",
      "      Mean sum percent: 0.25\n",
      "      Mean hardware percent: 0.25\n",
      "Compute time:\n",
      "   Unit: seconds\n",
      "   Time: 2.729\n"
     ]
    }
   ],
   "source": [
    "with gput.Tracker(ram_unit='megabytes', gpu_ram_unit='megabytes', time_unit='seconds', sleep_time=0.1) as tracker:\n",
    "    example_function()\n",
    "print(tracker)"
   ]
  },
  {
   "cell_type": "markdown",
   "id": "2323016e-f390-4584-b540-a330af5b635e",
   "metadata": {},
   "source": [
    "The same information as the text format can be provided as a dictionary via the `to_json()` method of the `Tracker`."
   ]
  },
  {
   "cell_type": "code",
   "execution_count": 6,
   "id": "85291150-bac7-4057-8ce6-35dfb6badb88",
   "metadata": {},
   "outputs": [
    {
     "name": "stdout",
     "output_type": "stream",
     "text": [
      "{\n",
      " \"max_ram\": {\n",
      "  \"unit\": \"megabytes\",\n",
      "  \"system_capacity\": 67254.165504,\n",
      "  \"system\": 1984.790528,\n",
      "  \"main\": {\n",
      "   \"total_rss\": 873.8529279999999,\n",
      "   \"private_rss\": 638.353408,\n",
      "   \"shared_rss\": 235.679744\n",
      "  },\n",
      "  \"descendants\": {\n",
      "   \"total_rss\": 0.0,\n",
      "   \"private_rss\": 0.0,\n",
      "   \"shared_rss\": 0.0\n",
      "  },\n",
      "  \"combined\": {\n",
      "   \"total_rss\": 873.8529279999999,\n",
      "   \"private_rss\": 638.353408,\n",
      "   \"shared_rss\": 235.679744\n",
      "  }\n",
      " },\n",
      " \"max_gpu_ram\": {\n",
      "  \"unit\": \"megabytes\",\n",
      "  \"system_capacity\": 16376.0,\n",
      "  \"system\": 728.0,\n",
      "  \"main\": 506.0,\n",
      "  \"descendants\": 0.0,\n",
      "  \"combined\": 506.0\n",
      " },\n",
      " \"cpu_utilization\": {\n",
      "  \"system_core_count\": 12,\n",
      "  \"n_expected_cores\": 12,\n",
      "  \"system\": {\n",
      "   \"max_sum_percent\": 161.60000000000002,\n",
      "   \"max_hardware_percent\": 13.466666666666669,\n",
      "   \"mean_sum_percent\": 145.51666666666668,\n",
      "   \"mean_hardware_percent\": 12.12638888888889\n",
      "  },\n",
      "  \"main\": {\n",
      "   \"max_sum_percent\": 101.5,\n",
      "   \"max_hardware_percent\": 8.458333333333334,\n",
      "   \"mean_sum_percent\": 98.68333333333334,\n",
      "   \"mean_hardware_percent\": 8.22361111111111\n",
      "  },\n",
      "  \"descendants\": {\n",
      "   \"max_sum_percent\": 0.0,\n",
      "   \"max_hardware_percent\": 0.0,\n",
      "   \"mean_sum_percent\": 0.0,\n",
      "   \"mean_hardware_percent\": 0.0\n",
      "  },\n",
      "  \"combined\": {\n",
      "   \"max_sum_percent\": 101.5,\n",
      "   \"max_hardware_percent\": 8.458333333333334,\n",
      "   \"mean_sum_percent\": 98.68333333333334,\n",
      "   \"mean_hardware_percent\": 8.22361111111111\n",
      "  },\n",
      "  \"main_n_threads\": 15,\n",
      "  \"descendants_n_threads\": 0,\n",
      "  \"combined_n_threads\": 15\n",
      " },\n",
      " \"gpu_utilization\": {\n",
      "  \"system_gpu_count\": 1,\n",
      "  \"n_expected_gpus\": 1,\n",
      "  \"gpu_percentages\": {\n",
      "   \"max_sum_percent\": 3.0,\n",
      "   \"max_hardware_percent\": 3.0,\n",
      "   \"mean_sum_percent\": 0.25,\n",
      "   \"mean_hardware_percent\": 0.25\n",
      "  }\n",
      " },\n",
      " \"compute_time\": {\n",
      "  \"unit\": \"seconds\",\n",
      "  \"time\": 2.728560209274292\n",
      " }\n",
      "}\n"
     ]
    }
   ],
   "source": [
    "import json\n",
    "print(json.dumps(tracker.to_json(), indent=1))"
   ]
  },
  {
   "cell_type": "markdown",
   "id": "3ab1039a-09bc-44b7-b106-37e6986869d4",
   "metadata": {},
   "source": [
    "Using Python data classes, the `Tracker` class additionally has a `resource_usage` attribute containing fields that provide the usage information for each individual computational resource."
   ]
  },
  {
   "cell_type": "code",
   "execution_count": 7,
   "id": "882210f5-233f-4ca9-b2ca-8b187d0d7d7e",
   "metadata": {},
   "outputs": [
    {
     "data": {
      "text/plain": [
       "MaxRAM(unit='megabytes', system_capacity=67254.165504, system=1984.790528, main=RSSValues(total_rss=873.8529279999999, private_rss=638.353408, shared_rss=235.679744), descendants=RSSValues(total_rss=0.0, private_rss=0.0, shared_rss=0.0), combined=RSSValues(total_rss=873.8529279999999, private_rss=638.353408, shared_rss=235.679744))"
      ]
     },
     "execution_count": 7,
     "metadata": {},
     "output_type": "execute_result"
    }
   ],
   "source": [
    "tracker.resource_usage.max_ram"
   ]
  },
  {
   "cell_type": "code",
   "execution_count": 8,
   "id": "4a380bd0-199c-4c50-9592-05519b00da7c",
   "metadata": {},
   "outputs": [
    {
     "data": {
      "text/plain": [
       "'megabytes'"
      ]
     },
     "execution_count": 8,
     "metadata": {},
     "output_type": "execute_result"
    }
   ],
   "source": [
    "tracker.resource_usage.max_ram.unit"
   ]
  },
  {
   "cell_type": "code",
   "execution_count": 9,
   "id": "0e4c0b1a-8a4c-40d7-9270-a2274456575b",
   "metadata": {},
   "outputs": [
    {
     "data": {
      "text/plain": [
       "RSSValues(total_rss=873.8529279999999, private_rss=638.353408, shared_rss=235.679744)"
      ]
     },
     "execution_count": 9,
     "metadata": {},
     "output_type": "execute_result"
    }
   ],
   "source": [
    "tracker.resource_usage.max_ram.main"
   ]
  },
  {
   "cell_type": "code",
   "execution_count": 10,
   "id": "47e6c47b-586a-4534-9346-76fcf3f5ab83",
   "metadata": {},
   "outputs": [
    {
     "data": {
      "text/plain": [
       "873.8529279999999"
      ]
     },
     "execution_count": 10,
     "metadata": {},
     "output_type": "execute_result"
    }
   ],
   "source": [
    "tracker.resource_usage.max_ram.main.total_rss"
   ]
  },
  {
   "cell_type": "code",
   "execution_count": 11,
   "id": "421c5118-7421-4681-bd16-b9697c28078e",
   "metadata": {},
   "outputs": [
    {
     "data": {
      "text/plain": [
       "MaxGPURAM(unit='megabytes', system_capacity=16376.0, system=728.0, main=506.0, descendants=0.0, combined=506.0)"
      ]
     },
     "execution_count": 11,
     "metadata": {},
     "output_type": "execute_result"
    }
   ],
   "source": [
    "tracker.resource_usage.max_gpu_ram"
   ]
  },
  {
   "cell_type": "code",
   "execution_count": 12,
   "id": "8d047dfc-f7f8-4906-964a-16fd725f6e4b",
   "metadata": {},
   "outputs": [
    {
     "data": {
      "text/plain": [
       "ComputeTime(unit='seconds', time=2.728560209274292)"
      ]
     },
     "execution_count": 12,
     "metadata": {},
     "output_type": "execute_result"
    }
   ],
   "source": [
    "tracker.resource_usage.compute_time"
   ]
  },
  {
   "cell_type": "markdown",
   "id": "57c1c857-175d-4497-bee8-28c615f31ac4",
   "metadata": {},
   "source": [
    "Below is an example of using a child process. Notice the descendants fields are now non-zero."
   ]
  },
  {
   "cell_type": "code",
   "execution_count": 13,
   "id": "f429ced6-573b-4f0f-ad64-658e9c05242d",
   "metadata": {},
   "outputs": [
    {
     "name": "stdout",
     "output_type": "stream",
     "text": [
      "Max RAM:\n",
      "   Unit: gigabytes\n",
      "   System capacity: 67.254\n",
      "   System: 2.388\n",
      "   Main:\n",
      "      Total RSS: 0.849\n",
      "      Private RSS: 0.528\n",
      "      Shared RSS: 0.325\n",
      "   Descendants:\n",
      "      Total RSS: 0.845\n",
      "      Private RSS: 0.734\n",
      "      Shared RSS: 0.112\n",
      "   Combined:\n",
      "      Total RSS: 1.371\n",
      "      Private RSS: 1.05\n",
      "      Shared RSS: 0.325\n",
      "Max GPU RAM:\n",
      "   Unit: gigabytes\n",
      "   System capacity: 16.376\n",
      "   System: 1.236\n",
      "   Main: 0.506\n",
      "   Descendants: 0.506\n",
      "   Combined: 1.012\n",
      "CPU utilization:\n",
      "   System core count: 12\n",
      "   Number of expected cores: 2\n",
      "   System:\n",
      "      Max sum percent: 338.0\n",
      "      Max hardware percent: 28.167\n",
      "      Mean sum percent: 183.644\n",
      "      Mean hardware percent: 15.304\n",
      "   Main:\n",
      "      Max sum percent: 101.0\n",
      "      Max hardware percent: 50.5\n",
      "      Mean sum percent: 60.178\n",
      "      Mean hardware percent: 30.089\n",
      "   Descendants:\n",
      "      Max sum percent: 354.1\n",
      "      Max hardware percent: 177.05\n",
      "      Mean sum percent: 109.033\n",
      "      Mean hardware percent: 54.517\n",
      "   Combined:\n",
      "      Max sum percent: 452.2\n",
      "      Max hardware percent: 226.1\n",
      "      Mean sum percent: 169.211\n",
      "      Mean hardware percent: 84.606\n",
      "   Main number of threads: 15\n",
      "   Descendants number of threads: 13\n",
      "   Combined number of threads: 28\n",
      "GPU utilization:\n",
      "   System GPU count: 1\n",
      "   Number of expected GPUs: 1\n",
      "   GPU percentages:\n",
      "      Max sum percent: 5.0\n",
      "      Max hardware percent: 5.0\n",
      "      Mean sum percent: 0.556\n",
      "      Mean hardware percent: 0.556\n",
      "Compute time:\n",
      "   Unit: hours\n",
      "   Time: 0.001\n"
     ]
    }
   ],
   "source": [
    "import multiprocessing as mp\n",
    "ctx = mp.get_context(method='spawn')\n",
    "child_process = ctx.Process(target=example_function)\n",
    "with gput.Tracker(n_expected_cores=2, sleep_time=0.4) as tracker:\n",
    "    child_process.start()\n",
    "    example_function()\n",
    "    child_process.join()\n",
    "child_process.close()\n",
    "print(tracker)"
   ]
  },
  {
   "cell_type": "markdown",
   "id": "c2cacaf2-316f-463b-bccd-3a9cdcd89a66",
   "metadata": {},
   "source": [
    "Sometimes the code can fail. In order to collect the resource usage up to the point of failure, use a try/except block like so:"
   ]
  },
  {
   "cell_type": "code",
   "execution_count": 14,
   "id": "8de6c83f-63b1-4fd3-ae22-a87bd760aad2",
   "metadata": {},
   "outputs": [
    {
     "name": "stdout",
     "output_type": "stream",
     "text": [
      "The following error occured while tracking: AN ERROR\n",
      "0.506\n"
     ]
    }
   ],
   "source": [
    "try:\n",
    "    with gput.Tracker() as tracker:\n",
    "        example_function()\n",
    "        raise RuntimeError('AN ERROR')\n",
    "except Exception as error:\n",
    "    print(f'The following error occured while tracking: {error}')\n",
    "finally:\n",
    "    print(tracker.resource_usage.max_gpu_ram.main)"
   ]
  },
  {
   "cell_type": "markdown",
   "id": "e9a549d5-79aa-4442-a89d-81dd3ce945c1",
   "metadata": {},
   "source": [
    "If you do not catch the error in your code or if tracking otherwise is interrupted (e.g. you are debugging your code and you stop partway), the `resource_usage` attribute will not be set and that information will not be able to be obtained in memory. In such a case, the `resource_usage` attribute will be stored in a hidden pickle file in the working directory with a randomly generated name. Its file path can be optionally overriden with the `resource_usage_file` parameter."
   ]
  },
  {
   "cell_type": "code",
   "execution_count": 15,
   "id": "e568483c-18bc-4162-b74e-03a4d6ff8b45",
   "metadata": {},
   "outputs": [],
   "source": [
    "tracker = gput.Tracker(resource_usage_file='path/to/my-file.pkl')"
   ]
  },
  {
   "cell_type": "markdown",
   "id": "7abc5c16-0d24-4c73-8e06-8bfa9b101298",
   "metadata": {},
   "source": [
    "While the `Tracker` class automatically detects which brand of GPU is installed (either NVIDIA or AMD), one can explicitly choose the GPU brand with the `gpu_brand` parameter"
   ]
  },
  {
   "cell_type": "code",
   "execution_count": 17,
   "id": "da1a8850-d143-451e-8faf-352f6b5b37c6",
   "metadata": {},
   "outputs": [],
   "source": [
    "tracker = gput.Tracker(gpu_brand='nvidia')"
   ]
  },
  {
   "cell_type": "markdown",
   "id": "ad908deb-2314-4b1d-bc1d-4ab14ebbcb32",
   "metadata": {},
   "source": [
    "While the `Tracker` by default stores aggregates of the computational resource usage across the timepoints, one can store the individual measured values at every timepoint in a file, either CSV or SQLite format, using the `tracking_file` parameter. **NOTE** for the CSV format, the static data (e.g. RAM system capacity, number of cores in the OS, etc.) is stored on the the first two rows with the headers on the first row followed by the static data on the second row. The headers of the timepoint data is on the third row followed by the timepoint data on the remaining rows. The SQLite file, however, stores the static data and timepoint data in different tables: \"data\" and \"static_data\" respectively."
   ]
  },
  {
   "cell_type": "code",
   "execution_count": 3,
   "id": "fc8b9ce0-3b78-4527-9905-2b1a6564c9b0",
   "metadata": {},
   "outputs": [],
   "source": [
    "tracker = gput.Tracker(tracking_file='my-file.csv')\n",
    "tracker = gput.Tracker(tracking_file='my-file.sqlite')"
   ]
  },
  {
   "cell_type": "markdown",
   "id": "5f8f5b0d-2200-4b39-8abf-2dddc03f952f",
   "metadata": {},
   "source": [
    "### Sub-tracking"
   ]
  },
  {
   "cell_type": "markdown",
   "id": "17200926-f0e1-42c4-a8f2-3e6d3734de9a",
   "metadata": {},
   "source": [
    "#### Logging Code Block Timestamps"
   ]
  },
  {
   "cell_type": "markdown",
   "id": "841d90bc-7f79-4d1f-a92c-d339a6403851",
   "metadata": {},
   "source": [
    "While the `Tracker` object by itself can track a block of code, there are some cases where one might want to track one code block and a smaller code block within it or track multiple code blocks at a time without creating several tracking processes simultaneously, especially when tracking a code block that is called within multi-processing or a code block that is called several times. Similarly, one might want to track the resource usage of a particular function whenever it is called. Whether a function or some other specified code block, the `SubTracker` class can determine the computational resources used during the start times and stop times of a given code block. This includes the mean resources used during the times the code block is called, the mean time taken to complete the code block each time it is called, the number of times it is called, etc. Sub-tracking uses the tracking file specified by the `tracking_file` parameter of the `Tracker` object alonside a sub-tracking file which contains the start and stop times of each code block one desires to sub-track. The sub-tracking file can be created in Python using the `SubTracker` class, a context manager around the desired code block. Setting the `overwrite` parameter (default `False`) of the `Tracker` and `SubTracker` to `True` overwrites the `tracking_file` or `sub_tracking_file` respectively if a file of that path already exists. Keep this paramter at `False` to avoid loss of data if it is still needed."
   ]
  },
  {
   "cell_type": "code",
   "execution_count": 2,
   "id": "b3b5e400-1e00-4a6d-b11b-6618efaf2b4a",
   "metadata": {},
   "outputs": [],
   "source": [
    "tracker = gput.Tracker(sleep_time=0.5, tracking_file='tracking.csv', overwrite=False)\n",
    "tracker.start()\n",
    "# Perform other computation here\n",
    "for _ in range(5):\n",
    "    with gput.SubTracker(code_block_name='my-code-block', sub_tracking_file='sub-tracking.csv', overwrite=False):\n",
    "        example_function()\n",
    "# Perform other computation here"
   ]
  },
  {
   "cell_type": "markdown",
   "id": "20a8fac6-26a9-425d-91f1-b40216f59e0a",
   "metadata": {},
   "source": [
    "In the above example, a tracking session is initiated within the context of the `Tracker` object whose tracking file is 'tracking.csv'. Then we have a for loop wherein a function is called 5 times. Other computation might be performed before or after this for loop, but if the computational resource usage of the contents of the for loop is of interest in particular, that code block can be sub-tracked by wrapping it within the context of the `SubTracker` object whose sub-tracking file is 'sub-tracking.csv'. Alternatively, SQLite (.sqlite) files can be used to speed up querying in the case of very long tracking sessions. The name of the code block is 'my-code-block', given to distinguish it from other code blocks being sub-tracked."
   ]
  },
  {
   "cell_type": "markdown",
   "id": "883a4070-caf3-469f-ad73-75a104764f94",
   "metadata": {},
   "source": [
    "If one wants to sub-track all calls to a particular function, the `sub_track` function decorator can be used instead of wrapping the function call with a `SubTracker` context every time it is called:"
   ]
  },
  {
   "cell_type": "code",
   "execution_count": 3,
   "id": "c96501c1-75ed-4af9-b93c-9ff9aef607c8",
   "metadata": {},
   "outputs": [],
   "source": [
    "@gput.sub_track(code_block_name='my-function', sub_tracking_file='sub-tracking.csv', overwrite=False)\n",
    "def my_function(*args, **kwargs):\n",
    "    example_function()\n",
    "\n",
    "for _ in range(3):\n",
    "    my_function()\n",
    "tracker.stop()"
   ]
  },
  {
   "cell_type": "markdown",
   "id": "0760a8e1-dd2c-4dde-9513-f135c3587e91",
   "metadata": {},
   "source": [
    "When sub-tracking a code block using the `SubTracker` context, the default `code_block_name` is the relative path of the Python file followed by a colon followed by the line number where the `SubTracker` context is initialized. When sub-tracking a function, the default `code_block_name` is the relative path of the Python file followed by a colon followed by the name of the function."
   ]
  },
  {
   "cell_type": "markdown",
   "id": "24bfedad-8388-4305-890c-2b8690940527",
   "metadata": {},
   "source": [
    "#### Analysis"
   ]
  },
  {
   "cell_type": "markdown",
   "id": "92490af9-d033-4ca6-a9d2-32aa6e9901e6",
   "metadata": {},
   "source": [
    "Once a tracking file and at least one sub-tracking file have been created, the results can be analyzed using the `SubTrackingAnalyzer` class, instantiated by passing in the path to the tracking file and the path to the sub-tracking file."
   ]
  },
  {
   "cell_type": "code",
   "execution_count": 2,
   "id": "9d06fd55-0910-438f-8192-f458e6235628",
   "metadata": {},
   "outputs": [],
   "source": [
    "analyzer = gput.SubTrackingAnalyzer(tracking_file='tracking.csv', sub_tracking_file='sub-tracking.csv')"
   ]
  },
  {
   "cell_type": "markdown",
   "id": "254db857-6d60-4dad-9982-5a19310c7acb",
   "metadata": {},
   "source": [
    "When sub-tracking a code block within a function that's part of multi-processing (i.e. called within one of multiple sub-processes), the sub-tracking file must be unique to that process, which is why the default `sub_tracking_file` is the process ID followed by \".csv\". One way or another, a different sub-tracking file must be created per worker to prevent multiple processes from logging to the same file. The `SubTrackingAnalyzer` has a `combine_sub_tracking_files` method that can combine these multiple sub-tracking files into a single sub-tracking file whose path is specified by the `sub_tracking_file` parameter above. Once a sub-tracking file is created from a single process or combined from multiple, the results can be obtained via the `sub_tracking_results` method."
   ]
  },
  {
   "cell_type": "code",
   "execution_count": 3,
   "id": "c2690ab9-a602-4b32-9920-6929e7bf9de4",
   "metadata": {},
   "outputs": [
    {
     "data": {
      "text/plain": [
       "gpu_tracker.sub_tracker.SubTrackingResults"
      ]
     },
     "execution_count": 3,
     "metadata": {},
     "output_type": "execute_result"
    }
   ],
   "source": [
    "results = analyzer.sub_tracking_results()\n",
    "type(results)"
   ]
  },
  {
   "cell_type": "markdown",
   "id": "7b5dca7b-65f4-4efe-bb01-e88d7ec4f5b9",
   "metadata": {},
   "source": [
    "The `sub_tracking_results` method returns a `SubTrackingResults` object which contains summary statistics of the overall resource usage (all time points in the tracking file) and the per code block resource usage (the timepoints within calls to a code block i.e. the start/stop times) as `DataFrame` or `Series` objects from the `pandas` package."
   ]
  },
  {
   "cell_type": "code",
   "execution_count": 6,
   "id": "89893780-3de4-42cc-b947-c2b1c951f382",
   "metadata": {},
   "outputs": [
    {
     "data": {
      "text/html": [
       "<div>\n",
       "<style scoped>\n",
       "    .dataframe tbody tr th:only-of-type {\n",
       "        vertical-align: middle;\n",
       "    }\n",
       "\n",
       "    .dataframe tbody tr th {\n",
       "        vertical-align: top;\n",
       "    }\n",
       "\n",
       "    .dataframe thead th {\n",
       "        text-align: right;\n",
       "    }\n",
       "</style>\n",
       "<table border=\"1\" class=\"dataframe\">\n",
       "  <thead>\n",
       "    <tr style=\"text-align: right;\">\n",
       "      <th></th>\n",
       "      <th>min</th>\n",
       "      <th>max</th>\n",
       "      <th>mean</th>\n",
       "      <th>std</th>\n",
       "    </tr>\n",
       "  </thead>\n",
       "  <tbody>\n",
       "    <tr>\n",
       "      <th>main_ram</th>\n",
       "      <td>0.341217</td>\n",
       "      <td>0.920560</td>\n",
       "      <td>0.861921</td>\n",
       "      <td>0.100084</td>\n",
       "    </tr>\n",
       "    <tr>\n",
       "      <th>descendants_ram</th>\n",
       "      <td>0.000000</td>\n",
       "      <td>0.000000</td>\n",
       "      <td>0.000000</td>\n",
       "      <td>0.000000</td>\n",
       "    </tr>\n",
       "    <tr>\n",
       "      <th>combined_ram</th>\n",
       "      <td>0.341217</td>\n",
       "      <td>0.920560</td>\n",
       "      <td>0.861921</td>\n",
       "      <td>0.100084</td>\n",
       "    </tr>\n",
       "    <tr>\n",
       "      <th>system_ram</th>\n",
       "      <td>4.602618</td>\n",
       "      <td>5.701517</td>\n",
       "      <td>5.281926</td>\n",
       "      <td>0.220270</td>\n",
       "    </tr>\n",
       "    <tr>\n",
       "      <th>main_gpu_ram</th>\n",
       "      <td>0.000000</td>\n",
       "      <td>0.506000</td>\n",
       "      <td>0.448364</td>\n",
       "      <td>0.151267</td>\n",
       "    </tr>\n",
       "    <tr>\n",
       "      <th>descendants_gpu_ram</th>\n",
       "      <td>0.000000</td>\n",
       "      <td>0.000000</td>\n",
       "      <td>0.000000</td>\n",
       "      <td>0.000000</td>\n",
       "    </tr>\n",
       "    <tr>\n",
       "      <th>combined_gpu_ram</th>\n",
       "      <td>0.000000</td>\n",
       "      <td>0.506000</td>\n",
       "      <td>0.448364</td>\n",
       "      <td>0.151267</td>\n",
       "    </tr>\n",
       "    <tr>\n",
       "      <th>system_gpu_ram</th>\n",
       "      <td>0.215000</td>\n",
       "      <td>0.727000</td>\n",
       "      <td>0.668909</td>\n",
       "      <td>0.152657</td>\n",
       "    </tr>\n",
       "    <tr>\n",
       "      <th>gpu_sum_utilization_percent</th>\n",
       "      <td>0.000000</td>\n",
       "      <td>0.000000</td>\n",
       "      <td>0.000000</td>\n",
       "      <td>0.000000</td>\n",
       "    </tr>\n",
       "    <tr>\n",
       "      <th>gpu_hardware_utilization_percent</th>\n",
       "      <td>0.000000</td>\n",
       "      <td>0.000000</td>\n",
       "      <td>0.000000</td>\n",
       "      <td>0.000000</td>\n",
       "    </tr>\n",
       "    <tr>\n",
       "      <th>main_n_threads</th>\n",
       "      <td>12.000000</td>\n",
       "      <td>15.000000</td>\n",
       "      <td>14.757576</td>\n",
       "      <td>0.791766</td>\n",
       "    </tr>\n",
       "    <tr>\n",
       "      <th>descendants_n_threads</th>\n",
       "      <td>0.000000</td>\n",
       "      <td>0.000000</td>\n",
       "      <td>0.000000</td>\n",
       "      <td>0.000000</td>\n",
       "    </tr>\n",
       "    <tr>\n",
       "      <th>combined_n_threads</th>\n",
       "      <td>12.000000</td>\n",
       "      <td>15.000000</td>\n",
       "      <td>14.757576</td>\n",
       "      <td>0.791766</td>\n",
       "    </tr>\n",
       "    <tr>\n",
       "      <th>cpu_system_sum_utilization_percent</th>\n",
       "      <td>15.400000</td>\n",
       "      <td>138.400000</td>\n",
       "      <td>121.918182</td>\n",
       "      <td>19.484617</td>\n",
       "    </tr>\n",
       "    <tr>\n",
       "      <th>cpu_system_hardware_utilization_percent</th>\n",
       "      <td>1.283333</td>\n",
       "      <td>11.533333</td>\n",
       "      <td>10.159848</td>\n",
       "      <td>1.623718</td>\n",
       "    </tr>\n",
       "    <tr>\n",
       "      <th>cpu_main_sum_utilization_percent</th>\n",
       "      <td>91.400000</td>\n",
       "      <td>103.300000</td>\n",
       "      <td>99.060606</td>\n",
       "      <td>2.571228</td>\n",
       "    </tr>\n",
       "    <tr>\n",
       "      <th>cpu_main_hardware_utilization_percent</th>\n",
       "      <td>7.616667</td>\n",
       "      <td>8.608333</td>\n",
       "      <td>8.255051</td>\n",
       "      <td>0.214269</td>\n",
       "    </tr>\n",
       "    <tr>\n",
       "      <th>cpu_descendants_sum_utilization_percent</th>\n",
       "      <td>0.000000</td>\n",
       "      <td>0.000000</td>\n",
       "      <td>0.000000</td>\n",
       "      <td>0.000000</td>\n",
       "    </tr>\n",
       "    <tr>\n",
       "      <th>cpu_descendants_hardware_utilization_percent</th>\n",
       "      <td>0.000000</td>\n",
       "      <td>0.000000</td>\n",
       "      <td>0.000000</td>\n",
       "      <td>0.000000</td>\n",
       "    </tr>\n",
       "    <tr>\n",
       "      <th>cpu_combined_sum_utilization_percent</th>\n",
       "      <td>91.400000</td>\n",
       "      <td>103.300000</td>\n",
       "      <td>99.060606</td>\n",
       "      <td>2.571228</td>\n",
       "    </tr>\n",
       "    <tr>\n",
       "      <th>cpu_combined_hardware_utilization_percent</th>\n",
       "      <td>7.616667</td>\n",
       "      <td>8.608333</td>\n",
       "      <td>8.255051</td>\n",
       "      <td>0.214269</td>\n",
       "    </tr>\n",
       "  </tbody>\n",
       "</table>\n",
       "</div>"
      ],
      "text/plain": [
       "                                                    min         max  \\\n",
       "main_ram                                       0.341217    0.920560   \n",
       "descendants_ram                                0.000000    0.000000   \n",
       "combined_ram                                   0.341217    0.920560   \n",
       "system_ram                                     4.602618    5.701517   \n",
       "main_gpu_ram                                   0.000000    0.506000   \n",
       "descendants_gpu_ram                            0.000000    0.000000   \n",
       "combined_gpu_ram                               0.000000    0.506000   \n",
       "system_gpu_ram                                 0.215000    0.727000   \n",
       "gpu_sum_utilization_percent                    0.000000    0.000000   \n",
       "gpu_hardware_utilization_percent               0.000000    0.000000   \n",
       "main_n_threads                                12.000000   15.000000   \n",
       "descendants_n_threads                          0.000000    0.000000   \n",
       "combined_n_threads                            12.000000   15.000000   \n",
       "cpu_system_sum_utilization_percent            15.400000  138.400000   \n",
       "cpu_system_hardware_utilization_percent        1.283333   11.533333   \n",
       "cpu_main_sum_utilization_percent              91.400000  103.300000   \n",
       "cpu_main_hardware_utilization_percent          7.616667    8.608333   \n",
       "cpu_descendants_sum_utilization_percent        0.000000    0.000000   \n",
       "cpu_descendants_hardware_utilization_percent   0.000000    0.000000   \n",
       "cpu_combined_sum_utilization_percent          91.400000  103.300000   \n",
       "cpu_combined_hardware_utilization_percent      7.616667    8.608333   \n",
       "\n",
       "                                                    mean        std  \n",
       "main_ram                                        0.861921   0.100084  \n",
       "descendants_ram                                 0.000000   0.000000  \n",
       "combined_ram                                    0.861921   0.100084  \n",
       "system_ram                                      5.281926   0.220270  \n",
       "main_gpu_ram                                    0.448364   0.151267  \n",
       "descendants_gpu_ram                             0.000000   0.000000  \n",
       "combined_gpu_ram                                0.448364   0.151267  \n",
       "system_gpu_ram                                  0.668909   0.152657  \n",
       "gpu_sum_utilization_percent                     0.000000   0.000000  \n",
       "gpu_hardware_utilization_percent                0.000000   0.000000  \n",
       "main_n_threads                                 14.757576   0.791766  \n",
       "descendants_n_threads                           0.000000   0.000000  \n",
       "combined_n_threads                             14.757576   0.791766  \n",
       "cpu_system_sum_utilization_percent            121.918182  19.484617  \n",
       "cpu_system_hardware_utilization_percent        10.159848   1.623718  \n",
       "cpu_main_sum_utilization_percent               99.060606   2.571228  \n",
       "cpu_main_hardware_utilization_percent           8.255051   0.214269  \n",
       "cpu_descendants_sum_utilization_percent         0.000000   0.000000  \n",
       "cpu_descendants_hardware_utilization_percent    0.000000   0.000000  \n",
       "cpu_combined_sum_utilization_percent           99.060606   2.571228  \n",
       "cpu_combined_hardware_utilization_percent       8.255051   0.214269  "
      ]
     },
     "execution_count": 6,
     "metadata": {},
     "output_type": "execute_result"
    }
   ],
   "source": [
    "results.overall"
   ]
  },
  {
   "cell_type": "markdown",
   "id": "4f840359-3ab5-45f2-a5cf-d1c442d7fe44",
   "metadata": {},
   "source": [
    "The `SubTrackingResults` class additionally contains the static data i.e. the information that remains constant throughout the tracking session."
   ]
  },
  {
   "cell_type": "code",
   "execution_count": 7,
   "id": "ba266d13-7317-4eff-8ca9-e547baf890f3",
   "metadata": {},
   "outputs": [
    {
     "data": {
      "text/plain": [
       "ram_unit                   gigabytes\n",
       "gpu_ram_unit               gigabytes\n",
       "time_unit                      hours\n",
       "ram_system_capacity        67.254166\n",
       "gpu_ram_system_capacity       16.376\n",
       "system_core_count                 12\n",
       "n_expected_cores                  12\n",
       "system_gpu_count                   1\n",
       "n_expected_gpus                    1\n",
       "Name: 0, dtype: object"
      ]
     },
     "execution_count": 7,
     "metadata": {},
     "output_type": "execute_result"
    }
   ],
   "source": [
    "results.static_data"
   ]
  },
  {
   "cell_type": "markdown",
   "id": "1af42d3a-da9e-4be1-a5ea-808887ecab3d",
   "metadata": {},
   "source": [
    "The `code_block_results` attribute of the `SubTrackingResults` class is a list of `CodeBlockResults` objects, containing the resource usage and compute time summary statistics. In this case, there are two `CodeBlockResults` objects in the list since there were two code blocks sub-tracked in this tracking session."
   ]
  },
  {
   "cell_type": "code",
   "execution_count": 8,
   "id": "7aa9edb7-bf15-4cbf-a55c-5eb4eb950240",
   "metadata": {},
   "outputs": [
    {
     "data": {
      "text/plain": [
       "gpu_tracker.sub_tracker.CodeBlockResults"
      ]
     },
     "execution_count": 8,
     "metadata": {},
     "output_type": "execute_result"
    }
   ],
   "source": [
    "[my_code_block_results, my_function_results] = results.code_block_results\n",
    "type(my_code_block_results)"
   ]
  },
  {
   "cell_type": "markdown",
   "id": "d9226949-f9de-4f88-ac1d-a5bd90a835e2",
   "metadata": {},
   "source": [
    "The `compute_time` attribute of the `CodeBlockResults` class contains summary statistics for the time spent on the code block, where `total` is the total amount of time spent within the code block during the tracking session, `mean` is the average time taken on each call to the code block, etc. The `resource_usage` attribute provides summary statistics for the computational resources used during calls to the code block i.e. within the start/stop times."
   ]
  },
  {
   "cell_type": "code",
   "execution_count": 9,
   "id": "9bb17d2a-7149-4d04-a543-8f3793bae678",
   "metadata": {},
   "outputs": [
    {
     "data": {
      "text/plain": [
       "min       2.630907\n",
       "max       2.869182\n",
       "mean      2.685580\n",
       "std       0.102789\n",
       "total    13.427902\n",
       "dtype: float64"
      ]
     },
     "execution_count": 9,
     "metadata": {},
     "output_type": "execute_result"
    }
   ],
   "source": [
    "my_code_block_results.compute_time"
   ]
  },
  {
   "cell_type": "code",
   "execution_count": 10,
   "id": "6b843a24-9e9f-4566-b447-2067410ba64e",
   "metadata": {},
   "outputs": [
    {
     "data": {
      "text/html": [
       "<div>\n",
       "<style scoped>\n",
       "    .dataframe tbody tr th:only-of-type {\n",
       "        vertical-align: middle;\n",
       "    }\n",
       "\n",
       "    .dataframe tbody tr th {\n",
       "        vertical-align: top;\n",
       "    }\n",
       "\n",
       "    .dataframe thead th {\n",
       "        text-align: right;\n",
       "    }\n",
       "</style>\n",
       "<table border=\"1\" class=\"dataframe\">\n",
       "  <thead>\n",
       "    <tr style=\"text-align: right;\">\n",
       "      <th></th>\n",
       "      <th>min</th>\n",
       "      <th>max</th>\n",
       "      <th>mean</th>\n",
       "      <th>std</th>\n",
       "    </tr>\n",
       "  </thead>\n",
       "  <tbody>\n",
       "    <tr>\n",
       "      <th>main_ram</th>\n",
       "      <td>0.341217</td>\n",
       "      <td>0.912278</td>\n",
       "      <td>0.846999</td>\n",
       "      <td>0.122948</td>\n",
       "    </tr>\n",
       "    <tr>\n",
       "      <th>descendants_ram</th>\n",
       "      <td>0.000000</td>\n",
       "      <td>0.000000</td>\n",
       "      <td>0.000000</td>\n",
       "      <td>0.000000</td>\n",
       "    </tr>\n",
       "    <tr>\n",
       "      <th>combined_ram</th>\n",
       "      <td>0.341217</td>\n",
       "      <td>0.912278</td>\n",
       "      <td>0.846999</td>\n",
       "      <td>0.122948</td>\n",
       "    </tr>\n",
       "    <tr>\n",
       "      <th>system_ram</th>\n",
       "      <td>4.602618</td>\n",
       "      <td>5.261357</td>\n",
       "      <td>5.170665</td>\n",
       "      <td>0.147118</td>\n",
       "    </tr>\n",
       "    <tr>\n",
       "      <th>main_gpu_ram</th>\n",
       "      <td>0.000000</td>\n",
       "      <td>0.506000</td>\n",
       "      <td>0.415429</td>\n",
       "      <td>0.182971</td>\n",
       "    </tr>\n",
       "    <tr>\n",
       "      <th>descendants_gpu_ram</th>\n",
       "      <td>0.000000</td>\n",
       "      <td>0.000000</td>\n",
       "      <td>0.000000</td>\n",
       "      <td>0.000000</td>\n",
       "    </tr>\n",
       "    <tr>\n",
       "      <th>combined_gpu_ram</th>\n",
       "      <td>0.000000</td>\n",
       "      <td>0.506000</td>\n",
       "      <td>0.415429</td>\n",
       "      <td>0.182971</td>\n",
       "    </tr>\n",
       "    <tr>\n",
       "      <th>system_gpu_ram</th>\n",
       "      <td>0.215000</td>\n",
       "      <td>0.727000</td>\n",
       "      <td>0.635714</td>\n",
       "      <td>0.184676</td>\n",
       "    </tr>\n",
       "    <tr>\n",
       "      <th>gpu_sum_utilization_percent</th>\n",
       "      <td>0.000000</td>\n",
       "      <td>0.000000</td>\n",
       "      <td>0.000000</td>\n",
       "      <td>0.000000</td>\n",
       "    </tr>\n",
       "    <tr>\n",
       "      <th>gpu_hardware_utilization_percent</th>\n",
       "      <td>0.000000</td>\n",
       "      <td>0.000000</td>\n",
       "      <td>0.000000</td>\n",
       "      <td>0.000000</td>\n",
       "    </tr>\n",
       "    <tr>\n",
       "      <th>main_n_threads</th>\n",
       "      <td>12.000000</td>\n",
       "      <td>15.000000</td>\n",
       "      <td>14.619048</td>\n",
       "      <td>0.973457</td>\n",
       "    </tr>\n",
       "    <tr>\n",
       "      <th>descendants_n_threads</th>\n",
       "      <td>0.000000</td>\n",
       "      <td>0.000000</td>\n",
       "      <td>0.000000</td>\n",
       "      <td>0.000000</td>\n",
       "    </tr>\n",
       "    <tr>\n",
       "      <th>combined_n_threads</th>\n",
       "      <td>12.000000</td>\n",
       "      <td>15.000000</td>\n",
       "      <td>14.619048</td>\n",
       "      <td>0.973457</td>\n",
       "    </tr>\n",
       "    <tr>\n",
       "      <th>cpu_system_sum_utilization_percent</th>\n",
       "      <td>15.400000</td>\n",
       "      <td>138.400000</td>\n",
       "      <td>120.142857</td>\n",
       "      <td>24.347907</td>\n",
       "    </tr>\n",
       "    <tr>\n",
       "      <th>cpu_system_hardware_utilization_percent</th>\n",
       "      <td>1.283333</td>\n",
       "      <td>11.533333</td>\n",
       "      <td>10.011905</td>\n",
       "      <td>2.028992</td>\n",
       "    </tr>\n",
       "    <tr>\n",
       "      <th>cpu_main_sum_utilization_percent</th>\n",
       "      <td>91.400000</td>\n",
       "      <td>103.300000</td>\n",
       "      <td>98.652381</td>\n",
       "      <td>2.733243</td>\n",
       "    </tr>\n",
       "    <tr>\n",
       "      <th>cpu_main_hardware_utilization_percent</th>\n",
       "      <td>7.616667</td>\n",
       "      <td>8.608333</td>\n",
       "      <td>8.221032</td>\n",
       "      <td>0.227770</td>\n",
       "    </tr>\n",
       "    <tr>\n",
       "      <th>cpu_descendants_sum_utilization_percent</th>\n",
       "      <td>0.000000</td>\n",
       "      <td>0.000000</td>\n",
       "      <td>0.000000</td>\n",
       "      <td>0.000000</td>\n",
       "    </tr>\n",
       "    <tr>\n",
       "      <th>cpu_descendants_hardware_utilization_percent</th>\n",
       "      <td>0.000000</td>\n",
       "      <td>0.000000</td>\n",
       "      <td>0.000000</td>\n",
       "      <td>0.000000</td>\n",
       "    </tr>\n",
       "    <tr>\n",
       "      <th>cpu_combined_sum_utilization_percent</th>\n",
       "      <td>91.400000</td>\n",
       "      <td>103.300000</td>\n",
       "      <td>98.652381</td>\n",
       "      <td>2.733243</td>\n",
       "    </tr>\n",
       "    <tr>\n",
       "      <th>cpu_combined_hardware_utilization_percent</th>\n",
       "      <td>7.616667</td>\n",
       "      <td>8.608333</td>\n",
       "      <td>8.221032</td>\n",
       "      <td>0.227770</td>\n",
       "    </tr>\n",
       "  </tbody>\n",
       "</table>\n",
       "</div>"
      ],
      "text/plain": [
       "                                                    min         max  \\\n",
       "main_ram                                       0.341217    0.912278   \n",
       "descendants_ram                                0.000000    0.000000   \n",
       "combined_ram                                   0.341217    0.912278   \n",
       "system_ram                                     4.602618    5.261357   \n",
       "main_gpu_ram                                   0.000000    0.506000   \n",
       "descendants_gpu_ram                            0.000000    0.000000   \n",
       "combined_gpu_ram                               0.000000    0.506000   \n",
       "system_gpu_ram                                 0.215000    0.727000   \n",
       "gpu_sum_utilization_percent                    0.000000    0.000000   \n",
       "gpu_hardware_utilization_percent               0.000000    0.000000   \n",
       "main_n_threads                                12.000000   15.000000   \n",
       "descendants_n_threads                          0.000000    0.000000   \n",
       "combined_n_threads                            12.000000   15.000000   \n",
       "cpu_system_sum_utilization_percent            15.400000  138.400000   \n",
       "cpu_system_hardware_utilization_percent        1.283333   11.533333   \n",
       "cpu_main_sum_utilization_percent              91.400000  103.300000   \n",
       "cpu_main_hardware_utilization_percent          7.616667    8.608333   \n",
       "cpu_descendants_sum_utilization_percent        0.000000    0.000000   \n",
       "cpu_descendants_hardware_utilization_percent   0.000000    0.000000   \n",
       "cpu_combined_sum_utilization_percent          91.400000  103.300000   \n",
       "cpu_combined_hardware_utilization_percent      7.616667    8.608333   \n",
       "\n",
       "                                                    mean        std  \n",
       "main_ram                                        0.846999   0.122948  \n",
       "descendants_ram                                 0.000000   0.000000  \n",
       "combined_ram                                    0.846999   0.122948  \n",
       "system_ram                                      5.170665   0.147118  \n",
       "main_gpu_ram                                    0.415429   0.182971  \n",
       "descendants_gpu_ram                             0.000000   0.000000  \n",
       "combined_gpu_ram                                0.415429   0.182971  \n",
       "system_gpu_ram                                  0.635714   0.184676  \n",
       "gpu_sum_utilization_percent                     0.000000   0.000000  \n",
       "gpu_hardware_utilization_percent                0.000000   0.000000  \n",
       "main_n_threads                                 14.619048   0.973457  \n",
       "descendants_n_threads                           0.000000   0.000000  \n",
       "combined_n_threads                             14.619048   0.973457  \n",
       "cpu_system_sum_utilization_percent            120.142857  24.347907  \n",
       "cpu_system_hardware_utilization_percent        10.011905   2.028992  \n",
       "cpu_main_sum_utilization_percent               98.652381   2.733243  \n",
       "cpu_main_hardware_utilization_percent           8.221032   0.227770  \n",
       "cpu_descendants_sum_utilization_percent         0.000000   0.000000  \n",
       "cpu_descendants_hardware_utilization_percent    0.000000   0.000000  \n",
       "cpu_combined_sum_utilization_percent           98.652381   2.733243  \n",
       "cpu_combined_hardware_utilization_percent       8.221032   0.227770  "
      ]
     },
     "execution_count": 10,
     "metadata": {},
     "output_type": "execute_result"
    }
   ],
   "source": [
    "my_code_block_results.resource_usage"
   ]
  },
  {
   "cell_type": "markdown",
   "id": "1b7149fe-ebac-4575-a203-9a6410371f4c",
   "metadata": {},
   "source": [
    "Additionally, the `CodeBlockResults` class also has attributes for the name of the code block, the number of times it was called during the tracking session, the number of calls that included at least one timepoint, and the total number of timepoints measured within all calls to the code block."
   ]
  },
  {
   "cell_type": "code",
   "execution_count": 11,
   "id": "c6626a74-24a3-4676-a322-41f4514f192c",
   "metadata": {},
   "outputs": [
    {
     "data": {
      "text/plain": [
       "('my-code-block', 5, 5, 21)"
      ]
     },
     "execution_count": 11,
     "metadata": {},
     "output_type": "execute_result"
    }
   ],
   "source": [
    "my_code_block_results.name, my_code_block_results.num_calls, my_code_block_results.num_non_empty_calls, my_code_block_results.num_timepoints"
   ]
  },
  {
   "cell_type": "markdown",
   "id": "b1eb73ed-7b5d-4250-9758-c2d8f5b92223",
   "metadata": {},
   "source": [
    "The analysis results can also be printed in their entirety. Alternatively, the `to_json` method can provide this comprehensive information in JSON format."
   ]
  },
  {
   "cell_type": "code",
   "execution_count": 4,
   "id": "1cfa4d02-9812-4ad5-b6d9-dc5f1f80cc03",
   "metadata": {},
   "outputs": [
    {
     "name": "stdout",
     "output_type": "stream",
     "text": [
      "Overall:\n",
      "\t                                                    min         max        mean        std\n",
      "\tmain_ram                                       0.341860    0.944374    0.856037   0.125014\n",
      "\tdescendants_ram                                0.000000    0.000000    0.000000   0.000000\n",
      "\tcombined_ram                                   0.341860    0.944374    0.856037   0.125014\n",
      "\tsystem_ram                                     4.859711    5.553644    5.253445   0.134081\n",
      "\tmain_gpu_ram                                   0.000000    0.506000    0.429920   0.170432\n",
      "\tdescendants_gpu_ram                            0.000000    0.000000    0.000000   0.000000\n",
      "\tcombined_gpu_ram                               0.000000    0.506000    0.429920   0.170432\n",
      "\tsystem_gpu_ram                                 0.215000    0.727000    0.650320   0.172010\n",
      "\tgpu_sum_utilization_percent                    0.000000    3.000000    0.120000   0.600000\n",
      "\tgpu_hardware_utilization_percent               0.000000    3.000000    0.120000   0.600000\n",
      "\tmain_n_threads                                12.000000   15.000000   14.720000   0.842615\n",
      "\tdescendants_n_threads                          0.000000    0.000000    0.000000   0.000000\n",
      "\tcombined_n_threads                            12.000000   15.000000   14.720000   0.842615\n",
      "\tcpu_system_sum_utilization_percent            11.900000  133.400000  119.212000  22.741909\n",
      "\tcpu_system_hardware_utilization_percent        0.991667   11.116667    9.934333   1.895159\n",
      "\tcpu_main_sum_utilization_percent              78.000000  103.200000   96.924000   6.390767\n",
      "\tcpu_main_hardware_utilization_percent          6.500000    8.600000    8.077000   0.532564\n",
      "\tcpu_descendants_sum_utilization_percent        0.000000    0.000000    0.000000   0.000000\n",
      "\tcpu_descendants_hardware_utilization_percent   0.000000    0.000000    0.000000   0.000000\n",
      "\tcpu_combined_sum_utilization_percent          78.000000  103.200000   96.924000   6.390767\n",
      "\tcpu_combined_hardware_utilization_percent      6.500000    8.600000    8.077000   0.532564\n",
      "Static Data:\n",
      "\t   ram_unit gpu_ram_unit time_unit ram_system_capacity gpu_ram_system_capacity system_core_count n_expected_cores system_gpu_count n_expected_gpus\n",
      "\t  gigabytes    gigabytes     hours           67.254166                  16.376                12               12                1               1\n",
      "Code Block Results:\n",
      "\tName:                my-code-block\n",
      "\tNum Timepoints:      12\n",
      "\tNum Calls:           3\n",
      "\tNum Non Empty Calls: 3\n",
      "\tCompute Time:\n",
      "\t\t       min       max      mean       std     total\n",
      "\t\t  2.580433  2.789909  2.651185  0.120147  7.953554\n",
      "\tResource Usage:\n",
      "\t\t                                                    min         max        mean        std\n",
      "\t\tmain_ram                                       0.341860    0.936559    0.808736   0.167663\n",
      "\t\tdescendants_ram                                0.000000    0.000000    0.000000   0.000000\n",
      "\t\tcombined_ram                                   0.341860    0.936559    0.808736   0.167663\n",
      "\t\tsystem_ram                                     4.859711    5.553644    5.231854   0.191567\n",
      "\t\tmain_gpu_ram                                   0.000000    0.506000    0.363500   0.225892\n",
      "\t\tdescendants_gpu_ram                            0.000000    0.000000    0.000000   0.000000\n",
      "\t\tcombined_gpu_ram                               0.000000    0.506000    0.363500   0.225892\n",
      "\t\tsystem_gpu_ram                                 0.215000    0.727000    0.583250   0.228088\n",
      "\t\tgpu_sum_utilization_percent                    0.000000    0.000000    0.000000   0.000000\n",
      "\t\tgpu_hardware_utilization_percent               0.000000    0.000000    0.000000   0.000000\n",
      "\t\tmain_n_threads                                12.000000   15.000000   14.416667   1.164500\n",
      "\t\tdescendants_n_threads                          0.000000    0.000000    0.000000   0.000000\n",
      "\t\tcombined_n_threads                            12.000000   15.000000   14.416667   1.164500\n",
      "\t\tcpu_system_sum_utilization_percent            11.900000  130.800000  113.641667  32.352363\n",
      "\t\tcpu_system_hardware_utilization_percent        0.991667   10.900000    9.470139   2.696030\n",
      "\t\tcpu_main_sum_utilization_percent              79.600000  103.100000   96.583333   6.726587\n",
      "\t\tcpu_main_hardware_utilization_percent          6.633333    8.591667    8.048611   0.560549\n",
      "\t\tcpu_descendants_sum_utilization_percent        0.000000    0.000000    0.000000   0.000000\n",
      "\t\tcpu_descendants_hardware_utilization_percent   0.000000    0.000000    0.000000   0.000000\n",
      "\t\tcpu_combined_sum_utilization_percent          79.600000  103.100000   96.583333   6.726587\n",
      "\t\tcpu_combined_hardware_utilization_percent      6.633333    8.591667    8.048611   0.560549\n",
      "\n",
      "\tName:                my-function\n",
      "\tNum Timepoints:      12\n",
      "\tNum Calls:           3\n",
      "\tNum Non Empty Calls: 3\n",
      "\tCompute Time:\n",
      "\t\t       min       max      mean       std     total\n",
      "\t\t  2.538011  2.577679  2.553176  0.021419  7.659528\n",
      "\tResource Usage:\n",
      "\t\t                                                     min         max        mean       std\n",
      "\t\tmain_ram                                        0.864592    0.944374    0.896998  0.034505\n",
      "\t\tdescendants_ram                                 0.000000    0.000000    0.000000  0.000000\n",
      "\t\tcombined_ram                                    0.864592    0.944374    0.896998  0.034505\n",
      "\t\tsystem_ram                                      5.203415    5.315219    5.271566  0.038751\n",
      "\t\tmain_gpu_ram                                    0.314000    0.506000    0.490000  0.055426\n",
      "\t\tdescendants_gpu_ram                             0.000000    0.000000    0.000000  0.000000\n",
      "\t\tcombined_gpu_ram                                0.314000    0.506000    0.490000  0.055426\n",
      "\t\tsystem_gpu_ram                                  0.535000    0.727000    0.711000  0.055426\n",
      "\t\tgpu_sum_utilization_percent                     0.000000    3.000000    0.250000  0.866025\n",
      "\t\tgpu_hardware_utilization_percent                0.000000    3.000000    0.250000  0.866025\n",
      "\t\tmain_n_threads                                 15.000000   15.000000   15.000000  0.000000\n",
      "\t\tdescendants_n_threads                           0.000000    0.000000    0.000000  0.000000\n",
      "\t\tcombined_n_threads                             15.000000   15.000000   15.000000  0.000000\n",
      "\t\tcpu_system_sum_utilization_percent            120.300000  133.400000  124.566667  4.001439\n",
      "\t\tcpu_system_hardware_utilization_percent        10.025000   11.116667   10.380556  0.333453\n",
      "\t\tcpu_main_sum_utilization_percent               94.700000  103.200000   98.841667  2.677332\n",
      "\t\tcpu_main_hardware_utilization_percent           7.891667    8.600000    8.236806  0.223111\n",
      "\t\tcpu_descendants_sum_utilization_percent         0.000000    0.000000    0.000000  0.000000\n",
      "\t\tcpu_descendants_hardware_utilization_percent    0.000000    0.000000    0.000000  0.000000\n",
      "\t\tcpu_combined_sum_utilization_percent           94.700000  103.200000   98.841667  2.677332\n",
      "\t\tcpu_combined_hardware_utilization_percent       7.891667    8.600000    8.236806  0.223111\n",
      "\n",
      "\n"
     ]
    }
   ],
   "source": [
    "print(results)"
   ]
  },
  {
   "cell_type": "markdown",
   "id": "91d9aa35-21b8-408e-a602-a542b68802cf",
   "metadata": {},
   "source": [
    "#### Comparison"
   ]
  },
  {
   "cell_type": "markdown",
   "id": "8c94f65e-e48d-4c7e-bdb2-2b6081651674",
   "metadata": {},
   "source": [
    "The `TrackingComparison` class allows for comparing the resource usage of multiple tracking sessions, both the overall usage of the sessions and any code blocks that were sub-tracked. This is helpful if one wants to see how changes to the process might impact the computational efficiency of it, such as changes to implementation, input data, etc. To do this, the `TrackingComparison` takes a mapping of the given name of a tracking session to the file path where a `SubTrackingResults` object is stored in pickle format. Say we had two tracking sessions and we wanted to compare them. First, we store the `results` of the first tracking session in a pickle file. If we'd like to re-use the same names for the `tracking_file` and `sub_tracking_file` in the second tracking session, we can safely set the `overwrite` argument to `True` since their data has been saved in 'results.pkl'."
   ]
  },
  {
   "cell_type": "code",
   "execution_count": null,
   "id": "f32eeb3f-7dc1-4e8c-99b0-617e057a8b50",
   "metadata": {},
   "outputs": [],
   "source": [
    "import pickle as pkl\n",
    "import os\n",
    "\n",
    "with open('results.pkl', 'wb') as file:\n",
    "    pkl.dump(results, file)\n",
    "os._exit(0)"
   ]
  },
  {
   "cell_type": "markdown",
   "id": "e6fe42cc-e069-456d-b084-e02162e3adca",
   "metadata": {},
   "source": [
    "Once we have the results of the first tracking session saved, we can start a new tracking session in another run of the program that we are profiling. Say we made some code changes and we want to compare the two implementations, we can populate a new `tracking_file` and `sub_tracking_file` with data from the new tracking session."
   ]
  },
  {
   "cell_type": "code",
   "execution_count": null,
   "id": "183ea8c3-79ad-4d73-bef8-51dcf74909a3",
   "metadata": {},
   "outputs": [],
   "source": [
    "import gpu_tracker as gput\n",
    "from example_module import example_function\n",
    "import pickle as pkl\n",
    "\n",
    "@gput.sub_track(code_block_name='my-function', sub_tracking_file='sub-tracking.csv', overwrite=True)\n",
    "def my_function(*args, **kwargs):\n",
    "    example_function()\n",
    "\n",
    "with gput.Tracker(sleep_time=0.5, tracking_file='tracking.csv', overwrite=True):\n",
    "    for _ in range(3):\n",
    "        with gput.SubTracker(code_block_name='my-code-block', sub_tracking_file='sub-tracking.csv', overwrite=True):\n",
    "            example_function()\n",
    "        my_function()\n",
    "results2 = gput.SubTrackingAnalyzer(tracking_file='tracking.csv', sub_tracking_file='sub-tracking.csv').sub_tracking_results()\n",
    "with open('results2.pkl', 'wb') as file:\n",
    "    pkl.dump(results2, file)"
   ]
  },
  {
   "cell_type": "markdown",
   "id": "f4df28d0-f020-449d-bdcc-f229ac88c986",
   "metadata": {},
   "source": [
    "The first tracking session stored its results in 'results.pkl' while the second tracking session stored its results in 'results2.pkl'. Say we decided to call the first session 'A' and the second session 'B'. The `TrackingComparison` object would be initialized like so:"
   ]
  },
  {
   "cell_type": "code",
   "execution_count": 5,
   "id": "39663fc5-c4b3-4099-b418-be5d57afa38a",
   "metadata": {},
   "outputs": [],
   "source": [
    "comparison = gput.TrackingComparison(file_path_map={'A': 'results.pkl', 'B': 'results2.pkl'})"
   ]
  },
  {
   "cell_type": "markdown",
   "id": "62c8d695-622d-475b-b264-1e4f549fce6f",
   "metadata": {},
   "source": [
    "Once the `TrackingComparison` is created, its compare method generates the `ComparisonResults` object detailing the computational resource usage measured in one tracking session to that of the other tracking sessions. The `statistic` parameter determines which summary statistic of the measurements to compare, defaulting to 'mean'. In this example, we will compare the maximum measurements by setting `statistic` to 'max'."
   ]
  },
  {
   "cell_type": "code",
   "execution_count": 6,
   "id": "6034e4c2-0837-4dd6-b305-5f0f97abdc55",
   "metadata": {},
   "outputs": [
    {
     "data": {
      "text/plain": [
       "gpu_tracker.sub_tracker.ComparisonResults"
      ]
     },
     "execution_count": 6,
     "metadata": {},
     "output_type": "execute_result"
    }
   ],
   "source": [
    "results = comparison.compare(statistic='max')\n",
    "type(results)"
   ]
  },
  {
   "cell_type": "markdown",
   "id": "cc24e155-5852-40ce-8dd5-7df088785153",
   "metadata": {},
   "source": [
    "The `overall_resource_usage` attribute of the `ComparisonResults` class is a dictionary mapping each measurement to a `Series` comparing that measurement across all timepoints in one tracking session to another."
   ]
  },
  {
   "cell_type": "code",
   "execution_count": 11,
   "id": "feb75a78-c84b-41e5-a266-2668ced824f3",
   "metadata": {},
   "outputs": [
    {
     "data": {
      "text/plain": [
       "dict_keys(['main_ram', 'descendants_ram', 'combined_ram', 'system_ram', 'main_gpu_ram', 'descendants_gpu_ram', 'combined_gpu_ram', 'system_gpu_ram', 'gpu_sum_utilization_percent', 'gpu_hardware_utilization_percent', 'main_n_threads', 'descendants_n_threads', 'combined_n_threads', 'cpu_system_sum_utilization_percent', 'cpu_system_hardware_utilization_percent', 'cpu_main_sum_utilization_percent', 'cpu_main_hardware_utilization_percent', 'cpu_descendants_sum_utilization_percent', 'cpu_descendants_hardware_utilization_percent', 'cpu_combined_sum_utilization_percent', 'cpu_combined_hardware_utilization_percent'])"
      ]
     },
     "execution_count": 11,
     "metadata": {},
     "output_type": "execute_result"
    }
   ],
   "source": [
    "results.overall_resource_usage.keys()"
   ]
  },
  {
   "cell_type": "markdown",
   "id": "ae8426f1-6cad-4180-80a8-f63048226609",
   "metadata": {},
   "source": [
    "For example, we can compare the overall maximum 'main_ram' of tracking session 'A' to tracking session 'B'."
   ]
  },
  {
   "cell_type": "code",
   "execution_count": 10,
   "id": "0a76fa26-a041-4e44-b5cd-0065066818ba",
   "metadata": {},
   "outputs": [
    {
     "data": {
      "text/plain": [
       "A    0.920560\n",
       "B    0.944374\n",
       "dtype: float64"
      ]
     },
     "execution_count": 10,
     "metadata": {},
     "output_type": "execute_result"
    }
   ],
   "source": [
    "results.overall_resource_usage['main_ram']"
   ]
  },
  {
   "cell_type": "markdown",
   "id": "4f0daecd-7560-4d8d-8677-da47119fba96",
   "metadata": {},
   "source": [
    "The `code_block_resource_usage` attribute is a dictionary that compares the same resource usage but for each code block rather than overall."
   ]
  },
  {
   "cell_type": "code",
   "execution_count": 17,
   "id": "e4d6ee1f-cfcb-47bb-9503-dddf757ed7cc",
   "metadata": {},
   "outputs": [
    {
     "data": {
      "text/plain": [
       "dict_keys(['main_ram', 'descendants_ram', 'combined_ram', 'system_ram', 'main_gpu_ram', 'descendants_gpu_ram', 'combined_gpu_ram', 'system_gpu_ram', 'gpu_sum_utilization_percent', 'gpu_hardware_utilization_percent', 'main_n_threads', 'descendants_n_threads', 'combined_n_threads', 'cpu_system_sum_utilization_percent', 'cpu_system_hardware_utilization_percent', 'cpu_main_sum_utilization_percent', 'cpu_main_hardware_utilization_percent', 'cpu_descendants_sum_utilization_percent', 'cpu_descendants_hardware_utilization_percent', 'cpu_combined_sum_utilization_percent', 'cpu_combined_hardware_utilization_percent'])"
      ]
     },
     "execution_count": 17,
     "metadata": {},
     "output_type": "execute_result"
    }
   ],
   "source": [
    "results.code_block_resource_usage.keys()"
   ]
  },
  {
   "cell_type": "markdown",
   "id": "f9bce9d8-4c21-4257-9481-36d8aed6c15b",
   "metadata": {},
   "source": [
    "Each measurement is a dictionary mapping each code block name to the resources used across tracking sessions in that code block."
   ]
  },
  {
   "cell_type": "code",
   "execution_count": 18,
   "id": "57e7a315-af09-4ded-adfb-90a49ae2ef52",
   "metadata": {},
   "outputs": [
    {
     "data": {
      "text/plain": [
       "dict_keys(['my-code-block', 'my-function'])"
      ]
     },
     "execution_count": 18,
     "metadata": {},
     "output_type": "execute_result"
    }
   ],
   "source": [
    "results.code_block_resource_usage['main_ram'].keys()"
   ]
  },
  {
   "cell_type": "markdown",
   "id": "4a3488dd-47ec-4be8-a30b-986dc4059a7c",
   "metadata": {},
   "source": [
    "For example, the maximum 'main_ram' used by 'my-code-block' in tracking session 'A' can be compared to that of tracking session 'B'."
   ]
  },
  {
   "cell_type": "code",
   "execution_count": 19,
   "id": "742c8755-ea9c-43b8-b10e-73a97d19b761",
   "metadata": {},
   "outputs": [
    {
     "data": {
      "text/plain": [
       "A    0.912278\n",
       "B    0.936559\n",
       "dtype: float64"
      ]
     },
     "execution_count": 19,
     "metadata": {},
     "output_type": "execute_result"
    }
   ],
   "source": [
    "results.code_block_resource_usage['main_ram']['my-code-block']"
   ]
  },
  {
   "cell_type": "markdown",
   "id": "bba31658-87b8-4708-a225-fdb44ca602c9",
   "metadata": {},
   "source": [
    "Finally the `code_block_compute_time` attribute is a dictionary that compares the compute time summary statistics for each code block and for each tracking session."
   ]
  },
  {
   "cell_type": "code",
   "execution_count": 23,
   "id": "4247891a-e0a9-46f1-8ca1-4ca28d13679b",
   "metadata": {},
   "outputs": [
    {
     "data": {
      "text/plain": [
       "dict_keys(['my-code-block', 'my-function'])"
      ]
     },
     "execution_count": 23,
     "metadata": {},
     "output_type": "execute_result"
    }
   ],
   "source": [
    "results.code_block_compute_time.keys()"
   ]
  },
  {
   "cell_type": "markdown",
   "id": "b8aba2e7-c49a-444d-b90d-c1488ad92071",
   "metadata": {},
   "source": [
    "For example, we can compare the maximum compute time of 'my-code-block' in tracking session 'A' to that of tracking session 'B'."
   ]
  },
  {
   "cell_type": "code",
   "execution_count": 25,
   "id": "355f6538-969d-412c-9e88-752f68f3c60d",
   "metadata": {},
   "outputs": [
    {
     "data": {
      "text/plain": [
       "B    2.789909\n",
       "A    2.869182\n",
       "dtype: float64"
      ]
     },
     "execution_count": 25,
     "metadata": {},
     "output_type": "execute_result"
    }
   ],
   "source": [
    "results.code_block_compute_time['my-code-block']"
   ]
  },
  {
   "cell_type": "markdown",
   "id": "308d0ff0-116c-48fb-b399-c7f000c69735",
   "metadata": {},
   "source": [
    "The comparison results can also be printed in their entirety. Alternatively, the `to_json` method can provide this comprehensive information in JSON format."
   ]
  },
  {
   "cell_type": "code",
   "execution_count": 7,
   "id": "a05307bd-ca33-42d9-a9b4-ed4643d303e5",
   "metadata": {},
   "outputs": [
    {
     "name": "stdout",
     "output_type": "stream",
     "text": [
      "Overall Resource Usage:\n",
      "\tMain Ram:\n",
      "\t\t        A         B\n",
      "\t\t  0.92056  0.944374\n",
      "\tDescendants Ram:\n",
      "\t\t    A    B\n",
      "\t\t  0.0  0.0\n",
      "\tCombined Ram:\n",
      "\t\t        A         B\n",
      "\t\t  0.92056  0.944374\n",
      "\tSystem Ram:\n",
      "\t\t         B         A\n",
      "\t\t  5.553644  5.701517\n",
      "\tMain Gpu Ram:\n",
      "\t\t      A      B\n",
      "\t\t  0.506  0.506\n",
      "\tDescendants Gpu Ram:\n",
      "\t\t    A    B\n",
      "\t\t  0.0  0.0\n",
      "\tCombined Gpu Ram:\n",
      "\t\t      A      B\n",
      "\t\t  0.506  0.506\n",
      "\tSystem Gpu Ram:\n",
      "\t\t      A      B\n",
      "\t\t  0.727  0.727\n",
      "\tGpu Sum Utilization Percent:\n",
      "\t\t    A    B\n",
      "\t\t  0.0  3.0\n",
      "\tGpu Hardware Utilization Percent:\n",
      "\t\t    A    B\n",
      "\t\t  0.0  3.0\n",
      "\tMain N Threads:\n",
      "\t\t     A     B\n",
      "\t\t  15.0  15.0\n",
      "\tDescendants N Threads:\n",
      "\t\t    A    B\n",
      "\t\t  0.0  0.0\n",
      "\tCombined N Threads:\n",
      "\t\t     A     B\n",
      "\t\t  15.0  15.0\n",
      "\tCpu System Sum Utilization Percent:\n",
      "\t\t      B      A\n",
      "\t\t  133.4  138.4\n",
      "\tCpu System Hardware Utilization Percent:\n",
      "\t\t          B          A\n",
      "\t\t  11.116667  11.533333\n",
      "\tCpu Main Sum Utilization Percent:\n",
      "\t\t      B      A\n",
      "\t\t  103.2  103.3\n",
      "\tCpu Main Hardware Utilization Percent:\n",
      "\t\t    B         A\n",
      "\t\t  8.6  8.608333\n",
      "\tCpu Descendants Sum Utilization Percent:\n",
      "\t\t    A    B\n",
      "\t\t  0.0  0.0\n",
      "\tCpu Descendants Hardware Utilization Percent:\n",
      "\t\t    A    B\n",
      "\t\t  0.0  0.0\n",
      "\tCpu Combined Sum Utilization Percent:\n",
      "\t\t      B      A\n",
      "\t\t  103.2  103.3\n",
      "\tCpu Combined Hardware Utilization Percent:\n",
      "\t\t    B         A\n",
      "\t\t  8.6  8.608333\n",
      "Code Block Resource Usage:\n",
      "\tMain Ram:\n",
      "\t\tmy-code-block:\n",
      "\t\t\t         A         B\n",
      "\t\t\t  0.912278  0.936559\n",
      "\t\tmy-function:\n",
      "\t\t\t        A         B\n",
      "\t\t\t  0.92056  0.944374\n",
      "\tDescendants Ram:\n",
      "\t\tmy-code-block:\n",
      "\t\t\t    A    B\n",
      "\t\t\t  0.0  0.0\n",
      "\t\tmy-function:\n",
      "\t\t\t    A    B\n",
      "\t\t\t  0.0  0.0\n",
      "\tCombined Ram:\n",
      "\t\tmy-code-block:\n",
      "\t\t\t         A         B\n",
      "\t\t\t  0.912278  0.936559\n",
      "\t\tmy-function:\n",
      "\t\t\t        A         B\n",
      "\t\t\t  0.92056  0.944374\n",
      "\tSystem Ram:\n",
      "\t\tmy-code-block:\n",
      "\t\t\t         A         B\n",
      "\t\t\t  5.261357  5.553644\n",
      "\t\tmy-function:\n",
      "\t\t\t         B         A\n",
      "\t\t\t  5.315219  5.701517\n",
      "\tMain Gpu Ram:\n",
      "\t\tmy-code-block:\n",
      "\t\t\t      A      B\n",
      "\t\t\t  0.506  0.506\n",
      "\t\tmy-function:\n",
      "\t\t\t      A      B\n",
      "\t\t\t  0.506  0.506\n",
      "\tDescendants Gpu Ram:\n",
      "\t\tmy-code-block:\n",
      "\t\t\t    A    B\n",
      "\t\t\t  0.0  0.0\n",
      "\t\tmy-function:\n",
      "\t\t\t    A    B\n",
      "\t\t\t  0.0  0.0\n",
      "\tCombined Gpu Ram:\n",
      "\t\tmy-code-block:\n",
      "\t\t\t      A      B\n",
      "\t\t\t  0.506  0.506\n",
      "\t\tmy-function:\n",
      "\t\t\t      A      B\n",
      "\t\t\t  0.506  0.506\n",
      "\tSystem Gpu Ram:\n",
      "\t\tmy-code-block:\n",
      "\t\t\t      A      B\n",
      "\t\t\t  0.727  0.727\n",
      "\t\tmy-function:\n",
      "\t\t\t      A      B\n",
      "\t\t\t  0.727  0.727\n",
      "\tGpu Sum Utilization Percent:\n",
      "\t\tmy-code-block:\n",
      "\t\t\t    A    B\n",
      "\t\t\t  0.0  0.0\n",
      "\t\tmy-function:\n",
      "\t\t\t    A    B\n",
      "\t\t\t  0.0  3.0\n",
      "\tGpu Hardware Utilization Percent:\n",
      "\t\tmy-code-block:\n",
      "\t\t\t    A    B\n",
      "\t\t\t  0.0  0.0\n",
      "\t\tmy-function:\n",
      "\t\t\t    A    B\n",
      "\t\t\t  0.0  3.0\n",
      "\tMain N Threads:\n",
      "\t\tmy-code-block:\n",
      "\t\t\t     A     B\n",
      "\t\t\t  15.0  15.0\n",
      "\t\tmy-function:\n",
      "\t\t\t     A     B\n",
      "\t\t\t  15.0  15.0\n",
      "\tDescendants N Threads:\n",
      "\t\tmy-code-block:\n",
      "\t\t\t    A    B\n",
      "\t\t\t  0.0  0.0\n",
      "\t\tmy-function:\n",
      "\t\t\t    A    B\n",
      "\t\t\t  0.0  0.0\n",
      "\tCombined N Threads:\n",
      "\t\tmy-code-block:\n",
      "\t\t\t     A     B\n",
      "\t\t\t  15.0  15.0\n",
      "\t\tmy-function:\n",
      "\t\t\t     A     B\n",
      "\t\t\t  15.0  15.0\n",
      "\tCpu System Sum Utilization Percent:\n",
      "\t\tmy-code-block:\n",
      "\t\t\t      B      A\n",
      "\t\t\t  130.8  138.4\n",
      "\t\tmy-function:\n",
      "\t\t\t      A      B\n",
      "\t\t\t  131.1  133.4\n",
      "\tCpu System Hardware Utilization Percent:\n",
      "\t\tmy-code-block:\n",
      "\t\t\t     B          A\n",
      "\t\t\t  10.9  11.533333\n",
      "\t\tmy-function:\n",
      "\t\t\t       A          B\n",
      "\t\t\t  10.925  11.116667\n",
      "\tCpu Main Sum Utilization Percent:\n",
      "\t\tmy-code-block:\n",
      "\t\t\t      B      A\n",
      "\t\t\t  103.1  103.3\n",
      "\t\tmy-function:\n",
      "\t\t\t      A      B\n",
      "\t\t\t  102.1  103.2\n",
      "\tCpu Main Hardware Utilization Percent:\n",
      "\t\tmy-code-block:\n",
      "\t\t\t         B         A\n",
      "\t\t\t  8.591667  8.608333\n",
      "\t\tmy-function:\n",
      "\t\t\t         A    B\n",
      "\t\t\t  8.508333  8.6\n",
      "\tCpu Descendants Sum Utilization Percent:\n",
      "\t\tmy-code-block:\n",
      "\t\t\t    A    B\n",
      "\t\t\t  0.0  0.0\n",
      "\t\tmy-function:\n",
      "\t\t\t    A    B\n",
      "\t\t\t  0.0  0.0\n",
      "\tCpu Descendants Hardware Utilization Percent:\n",
      "\t\tmy-code-block:\n",
      "\t\t\t    A    B\n",
      "\t\t\t  0.0  0.0\n",
      "\t\tmy-function:\n",
      "\t\t\t    A    B\n",
      "\t\t\t  0.0  0.0\n",
      "\tCpu Combined Sum Utilization Percent:\n",
      "\t\tmy-code-block:\n",
      "\t\t\t      B      A\n",
      "\t\t\t  103.1  103.3\n",
      "\t\tmy-function:\n",
      "\t\t\t      A      B\n",
      "\t\t\t  102.1  103.2\n",
      "\tCpu Combined Hardware Utilization Percent:\n",
      "\t\tmy-code-block:\n",
      "\t\t\t         B         A\n",
      "\t\t\t  8.591667  8.608333\n",
      "\t\tmy-function:\n",
      "\t\t\t         A    B\n",
      "\t\t\t  8.508333  8.6\n",
      "Code Block Compute Time:\n",
      "\tmy-code-block:\n",
      "\t\t         B         A\n",
      "\t\t  2.789909  2.869182\n",
      "\tmy-function:\n",
      "\t\t         A         B\n",
      "\t\t  2.570437  2.577679\n",
      "\n"
     ]
    }
   ],
   "source": [
    "print(results)"
   ]
  },
  {
   "cell_type": "markdown",
   "id": "c3db85b4-fe2b-4a5a-9b7e-6d390fe39d1c",
   "metadata": {},
   "source": [
    "## CLI"
   ]
  },
  {
   "cell_type": "markdown",
   "id": "5c7393bd-e3d3-4247-af95-4cdf66b43226",
   "metadata": {},
   "source": [
    "### Tracking"
   ]
  },
  {
   "cell_type": "markdown",
   "id": "99599c6a-ae1e-4e5f-9513-09ee33cb0a4d",
   "metadata": {},
   "source": [
    "#### Basics"
   ]
  },
  {
   "cell_type": "markdown",
   "id": "54a3a61b-81cf-4a65-85af-7ba15a111970",
   "metadata": {},
   "source": [
    "The `gpu-tracker` package also comes with a commandline interface that can track the computational-resource-usage of any shell command, not just Python code. Entering `gpu-tracker -h` in a shell will show the help message."
   ]
  },
  {
   "cell_type": "code",
   "execution_count": 26,
   "id": "f7deae10-a16b-4a38-acc6-c354911200ab",
   "metadata": {},
   "outputs": [
    {
     "name": "stdout",
     "output_type": "stream",
     "text": [
      "Tracks the computational resource usage (RAM, GPU RAM, CPU utilization, GPU utilization, and compute time) of a process corresponding to a given shell command.\n",
      "\n",
      "Usage:\n",
      "    gpu-tracker -h | --help\n",
      "    gpu-tracker -v | --version\n",
      "    gpu-tracker --execute=<command> [--output=<output>] [--format=<format>] [--tconfig=<config-file>] [--st=<sleep-time>] [--ru=<ram-unit>] [--gru=<gpu-ram-unit>] [--tu=<time-unit>] [--nec=<num-cores>] [--guuids=<gpu-uuids>] [--disable-logs] [--gb=<gpu-brand>] [--tf=<tracking-file>] [--overwrite]\n",
      "    gpu-tracker sub-track combine --stf=<sub-track-file> [-p <file-path>]...\n",
      "    gpu-tracker sub-track analyze --tf=<tracking-file> --stf=<sub-track-file> [--output=<output>] [--format=<format>]\n",
      "    gpu-tracker sub-track compare [--output=<output>] [--format=<format>] [--cconfig=<config-file>] [-m <name>=<file-path>...] [--stat=<statistic>]\n",
      "\n",
      "Options:\n",
      "    -h --help               Show this help message and exit.\n",
      "    -v --version            Show package version and exit.\n",
      "    -e --execute=<command>  The command to run along with its arguments all within quotes e.g. \"ls -l -a\".\n",
      "    -o --output=<output>    File path to store the computational-resource-usage measurements in the case of tracking or the analysis report in the case of sub-tracking. If not set, prints to the screen.\n",
      "    -f --format=<format>    File format of the output. Either 'json', 'text', or 'pickle'. Defaults to 'text'.\n",
      "    --tconfig=<config-file> JSON config file containing the key word arguments to the ``Tracker`` class (see API) to be optionally used instead of the corresponding commandline options. If any commandline options are set, they will override the corresponding arguments provided by the config file.\n",
      "    --st=<sleep-time>       The number of seconds to sleep in between usage-collection iterations.\n",
      "    --ru=<ram-unit>         One of 'bytes', 'kilobytes', 'megabytes', 'gigabytes', or 'terabytes'.\n",
      "    --gru=<gpu-ram-unit>    One of 'bytes', 'kilobytes', 'megabytes', 'gigabytes', or 'terabytes'.\n",
      "    --tu=<time-unit>        One of 'seconds', 'minutes', 'hours', or 'days'.\n",
      "    --nec=<num-cores>       The number of cores expected to be used. Defaults to the number of cores in the entire operating system.\n",
      "    --guuids=<gpu-uuids>    Comma separated list of the UUIDs of the GPUs for which to track utilization e.g. gpu-uuid1,gpu-uuid2,etc. Defaults to all the GPUs in the system.\n",
      "    --disable-logs          If set, warnings are suppressed during tracking. Otherwise, the Tracker logs warnings as usual.\n",
      "    --gb=<gpu-brand>        The brand of GPU to profile. Valid values are nvidia and amd. Defaults to the brand of GPU detected in the system, checking NVIDIA first.\n",
      "    --tf=<tracking-file>    If specified, stores the individual resource usage measurements at each iteration. Valid file formats are CSV (.csv) and SQLite (.sqlite) where the SQLite file format stores the data in a table called \"data\" and allows for more efficient querying.\n",
      "    --overwrite             Whether to overwrite the tracking file if it already existed before the beginning of this tracking session. Do not set if the data in the existing tracking file is still needed.\n",
      "    sub-track               Perform sub-tracking related commands.\n",
      "    combine                 Combines multiple sub-tracking files into one. This is usually a result of sub-tracking a code block that is called in multiple simultaneous processes.\n",
      "    --stf=<sub-track-file>  The path to the sub-tracking file used to specify the timestamps of specific code-blocks. If not generated by the gpu-tracker API, must be either a CSV or SQLite file (where the SQLite file contains a table called \"data\") where the headers are precisely process_id, code_block_name, position, and timestamp. The process_id is the ID of the process where the code block is called. code_block_name is the name of the code block. position is whether it is the start or the stopping point of the code block where 0 represents start and 1 represents stop. And timestamp is the timestamp where the code block starts or where it stops.\n",
      "    -p <file-path>          Paths to the sub-tracking files to combine. Must all be the same file format and the same file format as the resulting sub-tracking file (either .csv or .sqlite). If only one path is provided, it is interpreted as a path to a directory and all the files in this directory are combined.\n",
      "    analyze                 Generate the sub-tracking analysis report using the tracking file and sub-tracking file for resource usage of specific code blocks.\n",
      "    compare                 Compares multiple tracking sessions to determine differences in computational resource usage by loading sub-tracking results given their file paths. Sub-tracking results files must be in pickle format e.g. running the ``sub-track analyze`` command and specifying a file path for ``--output`` and 'pickle' for the ``--format`` option. If code block results are not included in the sub-tracking files (i.e. no code blocks were sub-tracked), then only overall results are compared.\n",
      "    --cconfig=<config-file> JSON config file containing the ``file_path_map`` argument for the ``TrackerComparison`` class and ``statistic`` argument for its ``compare`` method (see API) that can be used instead of the corresponding ``-m <name>=<path>`` and ``--stat=<statistic>`` commandline options respectively. If additional ``-m <name>=<path>`` options are added on the commandline in addition to a config file, they will be added to the ``file_path_map`` in the config file. If a ``--stat`` option is provided on the commandline, it will override the ``statistic`` in the config file.\n",
      "    -m <name>=<file-path>   Mapping of tracking session names to the path of the file containing the sub-tracking results of said tracking session. Must be in pickle format.\n",
      "    --stat=<statistic>      The summary statistic of the measurements to compare. One of 'min', 'max', 'mean', or 'std'. Defaults to 'mean'.\n"
     ]
    }
   ],
   "source": [
    "!gpu-tracker -h"
   ]
  },
  {
   "cell_type": "markdown",
   "id": "deb01bb6-27e3-446e-885e-1b017e246230",
   "metadata": {},
   "source": [
    "The `-e` or `--execute` is a required option where the desired shell command is provided, with both the command and its proceeding arguments surrounded by quotes. Below is an example of running the `bash` command with an argument of `example-script.sh`. When the command completes, its status code is reported. "
   ]
  },
  {
   "cell_type": "code",
   "execution_count": 30,
   "id": "ea7c710f-a238-460d-836c-a979e1c72f4f",
   "metadata": {},
   "outputs": [
    {
     "name": "stdout",
     "output_type": "stream",
     "text": [
      "Resource tracking complete. Process completed with status code: 0\n",
      "Max RAM:\n",
      "   Unit: gigabytes\n",
      "   System capacity: 67.254\n",
      "   System: 5.61\n",
      "   Main:\n",
      "      Total RSS: 0.003\n",
      "      Private RSS: 0.0\n",
      "      Shared RSS: 0.003\n",
      "   Descendants:\n",
      "      Total RSS: 0.879\n",
      "      Private RSS: 0.76\n",
      "      Shared RSS: 0.119\n",
      "   Combined:\n",
      "      Total RSS: 0.881\n",
      "      Private RSS: 0.761\n",
      "      Shared RSS: 0.12\n",
      "Max GPU RAM:\n",
      "   Unit: gigabytes\n",
      "   System capacity: 16.376\n",
      "   System: 1.043\n",
      "   Main: 0.0\n",
      "   Descendants: 0.314\n",
      "   Combined: 0.314\n",
      "CPU utilization:\n",
      "   System core count: 12\n",
      "   Number of expected cores: 12\n",
      "   System:\n",
      "      Max sum percent: 324.8\n",
      "      Max hardware percent: 27.067\n",
      "      Mean sum percent: 152.109\n",
      "      Mean hardware percent: 12.676\n",
      "   Main:\n",
      "      Max sum percent: 0.0\n",
      "      Max hardware percent: 0.0\n",
      "      Mean sum percent: 0.0\n",
      "      Mean hardware percent: 0.0\n",
      "   Descendants:\n",
      "      Max sum percent: 201.8\n",
      "      Max hardware percent: 16.817\n",
      "      Mean sum percent: 102.245\n",
      "      Mean hardware percent: 8.52\n",
      "   Combined:\n",
      "      Max sum percent: 201.8\n",
      "      Max hardware percent: 16.817\n",
      "      Mean sum percent: 102.245\n",
      "      Mean hardware percent: 8.52\n",
      "   Main number of threads: 1\n",
      "   Descendants number of threads: 12\n",
      "   Combined number of threads: 13\n",
      "GPU utilization:\n",
      "   System GPU count: 1\n",
      "   Number of expected GPUs: 1\n",
      "   GPU percentages:\n",
      "      Max sum percent: 0.0\n",
      "      Max hardware percent: 0.0\n",
      "      Mean sum percent: 0.0\n",
      "      Mean hardware percent: 0.0\n",
      "Compute time:\n",
      "   Unit: hours\n",
      "   Time: 0.001\n"
     ]
    }
   ],
   "source": [
    "!gpu-tracker -e \"bash example-script.sh\" --st=0.3"
   ]
  },
  {
   "cell_type": "markdown",
   "id": "c45091e7-0e85-4a8d-8836-c2dce1bd547f",
   "metadata": {},
   "source": [
    "*Notice that the RAM and GPU RAM usage primarily takes place in the descendant processes since, in this example, the bash command itself calls the commands relevant to resource usage.*"
   ]
  },
  {
   "cell_type": "markdown",
   "id": "0bc17756-7919-4a70-b650-4959dc71d10a",
   "metadata": {},
   "source": [
    "#### Options"
   ]
  },
  {
   "cell_type": "markdown",
   "id": "5a59585a-d89d-4900-a785-29bf4bba7d9c",
   "metadata": {},
   "source": [
    "The units of the computational resources can be modified. For example, --tu stands for time-unit, --gru stands for gpu-ram-unit, and --ru stands for ram-unit."
   ]
  },
  {
   "cell_type": "code",
   "execution_count": 26,
   "id": "cff099a7-1070-42ba-9f2a-008d58863fe6",
   "metadata": {},
   "outputs": [
    {
     "name": "stdout",
     "output_type": "stream",
     "text": [
      "Resource tracking complete. Process completed with status code: 0\n",
      "Max RAM:\n",
      "   Unit: megabytes\n",
      "   System capacity: 67254.17\n",
      "   System: 2420.457\n",
      "   Main:\n",
      "      Total RSS: 3.109\n",
      "      Private RSS: 0.319\n",
      "      Shared RSS: 2.789\n",
      "   Descendants:\n",
      "      Total RSS: 849.125\n",
      "      Private RSS: 731.435\n",
      "      Shared RSS: 118.125\n",
      "   Combined:\n",
      "      Total RSS: 850.338\n",
      "      Private RSS: 731.754\n",
      "      Shared RSS: 119.017\n",
      "Max GPU RAM:\n",
      "   Unit: megabytes\n",
      "   System capacity: 16376.0\n",
      "   System: 1235.0\n",
      "   Main: 0.0\n",
      "   Descendants: 506.0\n",
      "   Combined: 506.0\n",
      "CPU utilization:\n",
      "   System core count: 12\n",
      "   Number of expected cores: 12\n",
      "   System:\n",
      "      Max sum percent: 316.4\n",
      "      Max hardware percent: 26.367\n",
      "      Mean sum percent: 168.077\n",
      "      Mean hardware percent: 14.006\n",
      "   Main:\n",
      "      Max sum percent: 0.0\n",
      "      Max hardware percent: 0.0\n",
      "      Mean sum percent: 0.0\n",
      "      Mean hardware percent: 0.0\n",
      "   Descendants:\n",
      "      Max sum percent: 517.3\n",
      "      Max hardware percent: 43.108\n",
      "      Mean sum percent: 130.623\n",
      "      Mean hardware percent: 10.885\n",
      "   Combined:\n",
      "      Max sum percent: 517.3\n",
      "      Max hardware percent: 43.108\n",
      "      Mean sum percent: 130.623\n",
      "      Mean hardware percent: 10.885\n",
      "   Main number of threads: 1\n",
      "   Descendants number of threads: 12\n",
      "   Combined number of threads: 13\n",
      "GPU utilization:\n",
      "   System GPU count: 1\n",
      "   Number of expected GPUs: 1\n",
      "   GPU percentages:\n",
      "      Max sum percent: 5.0\n",
      "      Max hardware percent: 5.0\n",
      "      Mean sum percent: 0.462\n",
      "      Mean hardware percent: 0.462\n",
      "Compute time:\n",
      "   Unit: seconds\n",
      "   Time: 3.995\n"
     ]
    }
   ],
   "source": [
    "!gpu-tracker -e 'bash example-script.sh' --tu=seconds --gru=megabytes --ru=megabytes --st=0.2"
   ]
  },
  {
   "cell_type": "markdown",
   "id": "5f904cc3-17f5-4ee5-bb91-97ab71c77abe",
   "metadata": {},
   "source": [
    "By default, the computational-resource-usage statistics are printed to the screen. The `-o` or `--output` option can be specified to store that same content in a file."
   ]
  },
  {
   "cell_type": "code",
   "execution_count": 30,
   "id": "a8520fd9-0907-4c0c-a68f-8fdaec040e1a",
   "metadata": {},
   "outputs": [
    {
     "name": "stdout",
     "output_type": "stream",
     "text": [
      "Resource tracking complete. Process completed with status code: 0\n"
     ]
    }
   ],
   "source": [
    "!gpu-tracker -e 'bash example-script.sh' -o out.txt --st=0.2"
   ]
  },
  {
   "cell_type": "code",
   "execution_count": 20,
   "id": "213550b7-d808-4e11-be37-f2f892e4834b",
   "metadata": {},
   "outputs": [
    {
     "name": "stdout",
     "output_type": "stream",
     "text": [
      "Max RAM:\n",
      "   Unit: gigabytes\n",
      "   System capacity: 67.254\n",
      "   System: 2.43\n",
      "   Main:\n",
      "      Total RSS: 0.003\n",
      "      Private RSS: 0.0\n",
      "      Shared RSS: 0.003\n",
      "   Descendants:\n",
      "      Total RSS: 0.884\n",
      "      Private RSS: 0.766\n",
      "      Shared RSS: 0.118\n",
      "   Combined:\n",
      "      Total RSS: 0.885\n",
      "      Private RSS: 0.766\n",
      "      Shared RSS: 0.119\n",
      "Max GPU RAM:\n",
      "   Unit: gigabytes\n",
      "   System capacity: 16.376\n",
      "   System: 1.043\n",
      "   Main: 0.0\n",
      "   Descendants: 0.314\n",
      "   Combined: 0.314\n",
      "CPU utilization:\n",
      "   System core count: 12\n",
      "   Number of expected cores: 12\n",
      "   System:\n",
      "      Max sum percent: 405.0\n",
      "      Max hardware percent: 33.75\n",
      "      Mean sum percent: 165.357\n",
      "      Mean hardware percent: 13.78\n",
      "   Main:\n",
      "      Max sum percent: 0.0\n",
      "      Max hardware percent: 0.0\n",
      "      Mean sum percent: 0.0\n",
      "      Mean hardware percent: 0.0\n",
      "   Descendants:\n",
      "      Max sum percent: 573.7\n",
      "      Max hardware percent: 47.808\n",
      "      Mean sum percent: 124.871\n",
      "      Mean hardware percent: 10.406\n",
      "   Combined:\n",
      "      Max sum percent: 573.7\n",
      "      Max hardware percent: 47.808\n",
      "      Mean sum percent: 124.871\n",
      "      Mean hardware percent: 10.406\n",
      "   Main number of threads: 1\n",
      "   Descendants number of threads: 12\n",
      "   Combined number of threads: 13\n",
      "GPU utilization:\n",
      "   System GPU count: 1\n",
      "   Number of expected GPUs: 1\n",
      "   GPU percentages:\n",
      "      Max sum percent: 5.0\n",
      "      Max hardware percent: 5.0\n",
      "      Mean sum percent: 0.357\n",
      "      Mean hardware percent: 0.357\n",
      "Compute time:\n",
      "   Unit: hours\n",
      "   Time: 0.001"
     ]
    }
   ],
   "source": [
    "!cat out.txt"
   ]
  },
  {
   "cell_type": "markdown",
   "id": "d1a10d46-867d-46ca-b432-c2859c308b70",
   "metadata": {},
   "source": [
    "By default, the format of the output is \"text\". The `-f` or `--format` option can specify the format to be \"json\" instead. "
   ]
  },
  {
   "cell_type": "code",
   "execution_count": 34,
   "id": "f6fd29d2-cad6-4f9c-8af8-ccf4f0e721d3",
   "metadata": {},
   "outputs": [
    {
     "name": "stdout",
     "output_type": "stream",
     "text": [
      "Resource tracking complete. Process completed with status code: 0\n",
      "{\n",
      " \"max_ram\": {\n",
      "  \"unit\": \"gigabytes\",\n",
      "  \"system_capacity\": 67.2541696,\n",
      "  \"system\": 2.5132195840000002,\n",
      "  \"main\": {\n",
      "   \"total_rss\": 0.00311296,\n",
      "   \"private_rss\": 0.000323584,\n",
      "   \"shared_rss\": 0.002789376\n",
      "  },\n",
      "  \"descendants\": {\n",
      "   \"total_rss\": 0.8446238720000001,\n",
      "   \"private_rss\": 0.7268597760000001,\n",
      "   \"shared_rss\": 0.11776409600000001\n",
      "  },\n",
      "  \"combined\": {\n",
      "   \"total_rss\": 0.8458403840000001,\n",
      "   \"private_rss\": 0.7271833600000001,\n",
      "   \"shared_rss\": 0.11865702400000001\n",
      "  }\n",
      " },\n",
      " \"max_gpu_ram\": {\n",
      "  \"unit\": \"gigabytes\",\n",
      "  \"system_capacity\": 16.376,\n",
      "  \"system\": 1.235,\n",
      "  \"main\": 0.0,\n",
      "  \"descendants\": 0.506,\n",
      "  \"combined\": 0.506\n",
      " },\n",
      " \"cpu_utilization\": {\n",
      "  \"system_core_count\": 12,\n",
      "  \"n_expected_cores\": 12,\n",
      "  \"system\": {\n",
      "   \"max_sum_percent\": 316.3,\n",
      "   \"max_hardware_percent\": 26.358333333333334,\n",
      "   \"mean_sum_percent\": 167.90769230769232,\n",
      "   \"mean_hardware_percent\": 13.992307692307692\n",
      "  },\n",
      "  \"main\": {\n",
      "   \"max_sum_percent\": 0.0,\n",
      "   \"max_hardware_percent\": 0.0,\n",
      "   \"mean_sum_percent\": 0.0,\n",
      "   \"mean_hardware_percent\": 0.0\n",
      "  },\n",
      "  \"descendants\": {\n",
      "   \"max_sum_percent\": 527.1,\n",
      "   \"max_hardware_percent\": 43.925000000000004,\n",
      "   \"mean_sum_percent\": 130.81538461538463,\n",
      "   \"mean_hardware_percent\": 10.90128205128205\n",
      "  },\n",
      "  \"combined\": {\n",
      "   \"max_sum_percent\": 527.1,\n",
      "   \"max_hardware_percent\": 43.925000000000004,\n",
      "   \"mean_sum_percent\": 130.81538461538463,\n",
      "   \"mean_hardware_percent\": 10.90128205128205\n",
      "  },\n",
      "  \"main_n_threads\": 1,\n",
      "  \"descendants_n_threads\": 12,\n",
      "  \"combined_n_threads\": 13\n",
      " },\n",
      " \"gpu_utilization\": {\n",
      "  \"system_gpu_count\": 1,\n",
      "  \"n_expected_gpus\": 1,\n",
      "  \"gpu_percentages\": {\n",
      "   \"max_sum_percent\": 5.0,\n",
      "   \"max_hardware_percent\": 5.0,\n",
      "   \"mean_sum_percent\": 0.38461538461538464,\n",
      "   \"mean_hardware_percent\": 0.38461538461538464\n",
      "  }\n",
      " },\n",
      " \"compute_time\": {\n",
      "  \"unit\": \"hours\",\n",
      "  \"time\": 0.0010899075534608628\n",
      " }\n",
      "}\n"
     ]
    }
   ],
   "source": [
    "!gpu-tracker -e 'bash example-script.sh' -f json --st=0.2"
   ]
  },
  {
   "cell_type": "code",
   "execution_count": 22,
   "id": "5c825e42-d100-4533-b218-c36f6380e6ed",
   "metadata": {},
   "outputs": [
    {
     "name": "stdout",
     "output_type": "stream",
     "text": [
      "Resource tracking complete. Process completed with status code: 0\n"
     ]
    }
   ],
   "source": [
    "!gpu-tracker -e 'bash example-script.sh' -f json -o out.json --st=0.3"
   ]
  },
  {
   "cell_type": "code",
   "execution_count": 23,
   "id": "c821972e-0bed-4245-8933-27b0b28589de",
   "metadata": {},
   "outputs": [
    {
     "name": "stdout",
     "output_type": "stream",
     "text": [
      "{\n",
      " \"max_ram\": {\n",
      "  \"unit\": \"gigabytes\",\n",
      "  \"system_capacity\": 67.2541696,\n",
      "  \"system\": 2.325712896,\n",
      "  \"main\": {\n",
      "   \"total_rss\": 0.0031088640000000002,\n",
      "   \"private_rss\": 0.00031948800000000004,\n",
      "   \"shared_rss\": 0.002789376\n",
      "  },\n",
      "  \"descendants\": {\n",
      "   \"total_rss\": 0.822874112,\n",
      "   \"private_rss\": 0.705110016,\n",
      "   \"shared_rss\": 0.11776409600000001\n",
      "  },\n",
      "  \"combined\": {\n",
      "   \"total_rss\": 0.824086528,\n",
      "   \"private_rss\": 0.705429504,\n",
      "   \"shared_rss\": 0.11865702400000001\n",
      "  }\n",
      " },\n",
      " \"max_gpu_ram\": {\n",
      "  \"unit\": \"gigabytes\",\n",
      "  \"system_capacity\": 16.376,\n",
      "  \"system\": 1.235,\n",
      "  \"main\": 0.0,\n",
      "  \"descendants\": 0.392,\n",
      "  \"combined\": 0.392\n",
      " },\n",
      " \"cpu_utilization\": {\n",
      "  \"system_core_count\": 12,\n",
      "  \"n_expected_cores\": 12,\n",
      "  \"system\": {\n",
      "   \"max_sum_percent\": 332.1,\n",
      "   \"max_hardware_percent\": 27.675,\n",
      "   \"mean_sum_percent\": 166.07,\n",
      "   \"mean_hardware_percent\": 13.839166666666666\n",
      "  },\n",
      "  \"main\": {\n",
      "   \"max_sum_percent\": 0.0,\n",
      "   \"max_hardware_percent\": 0.0,\n",
      "   \"mean_sum_percent\": 0.0,\n",
      "   \"mean_hardware_percent\": 0.0\n",
      "  },\n",
      "  \"descendants\": {\n",
      "   \"max_sum_percent\": 104.1,\n",
      "   \"max_hardware_percent\": 8.674999999999999,\n",
      "   \"mean_sum_percent\": 99.77000000000001,\n",
      "   \"mean_hardware_percent\": 8.314166666666665\n",
      "  },\n",
      "  \"combined\": {\n",
      "   \"max_sum_percent\": 104.1,\n",
      "   \"max_hardware_percent\": 8.674999999999999,\n",
      "   \"mean_sum_percent\": 99.77000000000001,\n",
      "   \"mean_hardware_percent\": 8.314166666666665\n",
      "  },\n",
      "  \"main_n_threads\": 1,\n",
      "  \"descendants_n_threads\": 12,\n",
      "  \"combined_n_threads\": 13\n",
      " },\n",
      " \"gpu_utilization\": {\n",
      "  \"system_gpu_count\": 1,\n",
      "  \"n_expected_gpus\": 1,\n",
      "  \"gpu_percentages\": {\n",
      "   \"max_sum_percent\": 5.0,\n",
      "   \"max_hardware_percent\": 5.0,\n",
      "   \"mean_sum_percent\": 0.5,\n",
      "   \"mean_hardware_percent\": 0.5\n",
      "  }\n",
      " },\n",
      " \"compute_time\": {\n",
      "  \"unit\": \"hours\",\n",
      "  \"time\": 0.0010636144214206272\n",
      " }\n",
      "}"
     ]
    }
   ],
   "source": [
    "!cat out.json"
   ]
  },
  {
   "cell_type": "markdown",
   "id": "770fcd73-4952-4167-a4ac-767b8c69a08b",
   "metadata": {},
   "source": [
    "Alternative to typing out the tracking configuration via commandline options, one can specify a config JSON file via the `--tconfig` option."
   ]
  },
  {
   "cell_type": "code",
   "execution_count": 13,
   "id": "329d5c89-c482-4ddf-9e01-f818ac66cb0f",
   "metadata": {},
   "outputs": [
    {
     "name": "stdout",
     "output_type": "stream",
     "text": [
      "{\n",
      "  \"sleep_time\": 0.5,\n",
      "  \"ram_unit\": \"megabytes\",\n",
      "  \"gpu_ram_unit\": \"megabytes\",\n",
      "  \"time_unit\": \"seconds\"\n",
      "}\n"
     ]
    }
   ],
   "source": [
    "!cat config.json"
   ]
  },
  {
   "cell_type": "code",
   "execution_count": 12,
   "id": "c7a137f2-c306-4002-9c07-7fb87392156b",
   "metadata": {},
   "outputs": [
    {
     "name": "stdout",
     "output_type": "stream",
     "text": [
      "Resource tracking complete. Process completed with status code: 0\n",
      "Max RAM:\n",
      "   Unit: megabytes\n",
      "   System capacity: 67254.166\n",
      "   System: 4511.437\n",
      "   Main:\n",
      "      Total RSS: 2.957\n",
      "      Private RSS: 0.319\n",
      "      Shared RSS: 2.638\n",
      "   Descendants:\n",
      "      Total RSS: 894.923\n",
      "      Private RSS: 781.222\n",
      "      Shared RSS: 113.701\n",
      "   Combined:\n",
      "      Total RSS: 896.135\n",
      "      Private RSS: 781.541\n",
      "      Shared RSS: 114.594\n",
      "Max GPU RAM:\n",
      "   Unit: megabytes\n",
      "   System capacity: 16376.0\n",
      "   System: 727.0\n",
      "   Main: 0.0\n",
      "   Descendants: 314.0\n",
      "   Combined: 314.0\n",
      "CPU utilization:\n",
      "   System core count: 12\n",
      "   Number of expected cores: 12\n",
      "   System:\n",
      "      Max sum percent: 259.3\n",
      "      Max hardware percent: 21.608\n",
      "      Mean sum percent: 160.9\n",
      "      Mean hardware percent: 13.408\n",
      "   Main:\n",
      "      Max sum percent: 0.0\n",
      "      Max hardware percent: 0.0\n",
      "      Mean sum percent: 0.0\n",
      "      Mean hardware percent: 0.0\n",
      "   Descendants:\n",
      "      Max sum percent: 102.8\n",
      "      Max hardware percent: 8.567\n",
      "      Mean sum percent: 96.529\n",
      "      Mean hardware percent: 8.044\n",
      "   Combined:\n",
      "      Max sum percent: 102.8\n",
      "      Max hardware percent: 8.567\n",
      "      Mean sum percent: 96.529\n",
      "      Mean hardware percent: 8.044\n",
      "   Main number of threads: 1\n",
      "   Descendants number of threads: 12\n",
      "   Combined number of threads: 13\n",
      "GPU utilization:\n",
      "   System GPU count: 1\n",
      "   Number of expected GPUs: 1\n",
      "   GPU percentages:\n",
      "      Max sum percent: 0.0\n",
      "      Max hardware percent: 0.0\n",
      "      Mean sum percent: 0.0\n",
      "      Mean hardware percent: 0.0\n",
      "Compute time:\n",
      "   Unit: seconds\n",
      "   Time: 3.913\n"
     ]
    }
   ],
   "source": [
    "!gpu-tracker -e 'bash example-script.sh' --tconfig=config.json"
   ]
  },
  {
   "cell_type": "markdown",
   "id": "b6f91506-3111-4b9c-81fc-a2c24c54b2ab",
   "metadata": {},
   "source": [
    "### Sub-tracking"
   ]
  },
  {
   "cell_type": "markdown",
   "id": "dd81b0c2-7cb5-47b2-bee6-d7e813cf13c8",
   "metadata": {},
   "source": [
    "#### Basics"
   ]
  },
  {
   "cell_type": "markdown",
   "id": "877098b6-c19b-4a0d-892c-4adce108be8c",
   "metadata": {},
   "source": [
    "The `sub-track` subcommand introduces functionality related to sub-tracking i.e. analyzing computational resource usage for individual code blocks rather than the entire process. This requires a tracking file and a sub-tracking file. The tracking file can be created by specifying the `--tf` option when profiling a process using `--execute`. The sub-tracking file can be created using the gpu-tracker API i.e. the `SubTracker` class. If the process being profiled is not a python script, the sub-tracking file can be generated in any programming language as long as it follows the following format:\n",
    "\n",
    "It is either a CSV or SQLite file where the headers are `process_id,code_block_name,position,timestamp`. The `process_id` column is the ID (integer) of the process where the code block was called. The `code_block_name` is the given name (string) of the code block to distinguish it from other code blocks being sub-tracked. The `position` is an integer of either the value 0 or 1 where 0 indicates the start of the code block and 1 indicates the stopping point of the code block. Finally `timestamp` (float) is the timestamp when the code block either starts (where `position` is 0) or when it stops (where `position` is 1). Both a start timestamp and stop timestamp must be logged for every call to the code block of interest. If using an SQLite file for more efficient querying of longer tracking sessions, the name of the table must be 'data'.\n",
    "\n",
    "If sub-tracking a code block that is called in multiple processes, the sub-tracking files of that code block must be unique to each process. For convenience, the `sub-track combine` subcommand allows for combining these into a single sub-tracking file that can be used for downstream analysis. This example combines 'sub-tracking1.csv' and 'sub-tracking2.csv' into a single sub-tracking file of the name 'combined-file.csv'. Alternatively, if the `-p` option is only used once, rather than being interpretted as list of files, it is instead interpretted as the path to a directory containing the sub-tracking files to combine."
   ]
  },
  {
   "cell_type": "code",
   "execution_count": 38,
   "id": "d43af259-b884-4da0-b7b7-64200395a438",
   "metadata": {},
   "outputs": [],
   "source": [
    "!gpu-tracker sub-track combine --stf=combined-file.csv -p sub-tracking1.csv -p sub-tracking2.csv"
   ]
  },
  {
   "cell_type": "markdown",
   "id": "af5f9011-e204-4fe2-8345-b768870814f4",
   "metadata": {},
   "source": [
    "#### Analysis"
   ]
  },
  {
   "cell_type": "markdown",
   "id": "f7938e80-5d6d-4739-b346-aea1680831e9",
   "metadata": {},
   "source": [
    "Once a tracking and sub-tracking file is available, the `sub-track analyze` subcommand can generate the sub-tracking results. These can be stored in JSON, text, or pickle format where the pickle format is the same as the `SubTrackingResults` object from the API. If the `--output` option is specified, the content can be stored in the given file path. By default, the content prints to the screen and it is in text format by default."
   ]
  },
  {
   "cell_type": "code",
   "execution_count": 39,
   "id": "687f9c0c-bc6d-448c-afdd-17df7a18a6e6",
   "metadata": {},
   "outputs": [
    {
     "name": "stdout",
     "output_type": "stream",
     "text": [
      "Overall:\n",
      "\t                                                    min         max        mean        std\n",
      "\tmain_ram                                       0.341860    0.944374    0.856037   0.125014\n",
      "\tdescendants_ram                                0.000000    0.000000    0.000000   0.000000\n",
      "\tcombined_ram                                   0.341860    0.944374    0.856037   0.125014\n",
      "\tsystem_ram                                     4.859711    5.553644    5.253445   0.134081\n",
      "\tmain_gpu_ram                                   0.000000    0.506000    0.429920   0.170432\n",
      "\tdescendants_gpu_ram                            0.000000    0.000000    0.000000   0.000000\n",
      "\tcombined_gpu_ram                               0.000000    0.506000    0.429920   0.170432\n",
      "\tsystem_gpu_ram                                 0.215000    0.727000    0.650320   0.172010\n",
      "\tgpu_sum_utilization_percent                    0.000000    3.000000    0.120000   0.600000\n",
      "\tgpu_hardware_utilization_percent               0.000000    3.000000    0.120000   0.600000\n",
      "\tmain_n_threads                                12.000000   15.000000   14.720000   0.842615\n",
      "\tdescendants_n_threads                          0.000000    0.000000    0.000000   0.000000\n",
      "\tcombined_n_threads                            12.000000   15.000000   14.720000   0.842615\n",
      "\tcpu_system_sum_utilization_percent            11.900000  133.400000  119.212000  22.741909\n",
      "\tcpu_system_hardware_utilization_percent        0.991667   11.116667    9.934333   1.895159\n",
      "\tcpu_main_sum_utilization_percent              78.000000  103.200000   96.924000   6.390767\n",
      "\tcpu_main_hardware_utilization_percent          6.500000    8.600000    8.077000   0.532564\n",
      "\tcpu_descendants_sum_utilization_percent        0.000000    0.000000    0.000000   0.000000\n",
      "\tcpu_descendants_hardware_utilization_percent   0.000000    0.000000    0.000000   0.000000\n",
      "\tcpu_combined_sum_utilization_percent          78.000000  103.200000   96.924000   6.390767\n",
      "\tcpu_combined_hardware_utilization_percent      6.500000    8.600000    8.077000   0.532564\n",
      "Static Data:\n",
      "\t   ram_unit gpu_ram_unit time_unit ram_system_capacity gpu_ram_system_capacity system_core_count n_expected_cores system_gpu_count n_expected_gpus\n",
      "\t  gigabytes    gigabytes     hours           67.254166                  16.376                12               12                1               1\n",
      "Code Block Results:\n",
      "\tName:                my-code-block\n",
      "\tNum Timepoints:      12\n",
      "\tNum Calls:           3\n",
      "\tNum Non Empty Calls: 3\n",
      "\tCompute Time:\n",
      "\t\t       min       max      mean       std     total\n",
      "\t\t  2.580433  2.789909  2.651185  0.120147  7.953554\n",
      "\tResource Usage:\n",
      "\t\t                                                    min         max        mean        std\n",
      "\t\tmain_ram                                       0.341860    0.936559    0.808736   0.167663\n",
      "\t\tdescendants_ram                                0.000000    0.000000    0.000000   0.000000\n",
      "\t\tcombined_ram                                   0.341860    0.936559    0.808736   0.167663\n",
      "\t\tsystem_ram                                     4.859711    5.553644    5.231854   0.191567\n",
      "\t\tmain_gpu_ram                                   0.000000    0.506000    0.363500   0.225892\n",
      "\t\tdescendants_gpu_ram                            0.000000    0.000000    0.000000   0.000000\n",
      "\t\tcombined_gpu_ram                               0.000000    0.506000    0.363500   0.225892\n",
      "\t\tsystem_gpu_ram                                 0.215000    0.727000    0.583250   0.228088\n",
      "\t\tgpu_sum_utilization_percent                    0.000000    0.000000    0.000000   0.000000\n",
      "\t\tgpu_hardware_utilization_percent               0.000000    0.000000    0.000000   0.000000\n",
      "\t\tmain_n_threads                                12.000000   15.000000   14.416667   1.164500\n",
      "\t\tdescendants_n_threads                          0.000000    0.000000    0.000000   0.000000\n",
      "\t\tcombined_n_threads                            12.000000   15.000000   14.416667   1.164500\n",
      "\t\tcpu_system_sum_utilization_percent            11.900000  130.800000  113.641667  32.352363\n",
      "\t\tcpu_system_hardware_utilization_percent        0.991667   10.900000    9.470139   2.696030\n",
      "\t\tcpu_main_sum_utilization_percent              79.600000  103.100000   96.583333   6.726587\n",
      "\t\tcpu_main_hardware_utilization_percent          6.633333    8.591667    8.048611   0.560549\n",
      "\t\tcpu_descendants_sum_utilization_percent        0.000000    0.000000    0.000000   0.000000\n",
      "\t\tcpu_descendants_hardware_utilization_percent   0.000000    0.000000    0.000000   0.000000\n",
      "\t\tcpu_combined_sum_utilization_percent          79.600000  103.100000   96.583333   6.726587\n",
      "\t\tcpu_combined_hardware_utilization_percent      6.633333    8.591667    8.048611   0.560549\n",
      "\n",
      "\tName:                my-function\n",
      "\tNum Timepoints:      12\n",
      "\tNum Calls:           3\n",
      "\tNum Non Empty Calls: 3\n",
      "\tCompute Time:\n",
      "\t\t       min       max      mean       std     total\n",
      "\t\t  2.538011  2.577679  2.553176  0.021419  7.659528\n",
      "\tResource Usage:\n",
      "\t\t                                                     min         max        mean       std\n",
      "\t\tmain_ram                                        0.864592    0.944374    0.896998  0.034505\n",
      "\t\tdescendants_ram                                 0.000000    0.000000    0.000000  0.000000\n",
      "\t\tcombined_ram                                    0.864592    0.944374    0.896998  0.034505\n",
      "\t\tsystem_ram                                      5.203415    5.315219    5.271566  0.038751\n",
      "\t\tmain_gpu_ram                                    0.314000    0.506000    0.490000  0.055426\n",
      "\t\tdescendants_gpu_ram                             0.000000    0.000000    0.000000  0.000000\n",
      "\t\tcombined_gpu_ram                                0.314000    0.506000    0.490000  0.055426\n",
      "\t\tsystem_gpu_ram                                  0.535000    0.727000    0.711000  0.055426\n",
      "\t\tgpu_sum_utilization_percent                     0.000000    3.000000    0.250000  0.866025\n",
      "\t\tgpu_hardware_utilization_percent                0.000000    3.000000    0.250000  0.866025\n",
      "\t\tmain_n_threads                                 15.000000   15.000000   15.000000  0.000000\n",
      "\t\tdescendants_n_threads                           0.000000    0.000000    0.000000  0.000000\n",
      "\t\tcombined_n_threads                             15.000000   15.000000   15.000000  0.000000\n",
      "\t\tcpu_system_sum_utilization_percent            120.300000  133.400000  124.566667  4.001439\n",
      "\t\tcpu_system_hardware_utilization_percent        10.025000   11.116667   10.380556  0.333453\n",
      "\t\tcpu_main_sum_utilization_percent               94.700000  103.200000   98.841667  2.677332\n",
      "\t\tcpu_main_hardware_utilization_percent           7.891667    8.600000    8.236806  0.223111\n",
      "\t\tcpu_descendants_sum_utilization_percent         0.000000    0.000000    0.000000  0.000000\n",
      "\t\tcpu_descendants_hardware_utilization_percent    0.000000    0.000000    0.000000  0.000000\n",
      "\t\tcpu_combined_sum_utilization_percent           94.700000  103.200000   98.841667  2.677332\n",
      "\t\tcpu_combined_hardware_utilization_percent       7.891667    8.600000    8.236806  0.223111\n",
      "\n",
      "\n"
     ]
    }
   ],
   "source": [
    "!gpu-tracker sub-track analyze --tf=tracking.csv --stf=sub-tracking.csv"
   ]
  },
  {
   "cell_type": "markdown",
   "id": "ad33959f-9a1b-4513-bba9-2d3edd202094",
   "metadata": {},
   "source": [
    "The overall resource usage of the tracking session is provided as well as its static data. This is followed by the compute time and resource usage of each code block."
   ]
  },
  {
   "cell_type": "markdown",
   "id": "674be168-fa7e-4e9e-9f80-aee90b200084",
   "metadata": {},
   "source": [
    "#### Comparison"
   ]
  },
  {
   "cell_type": "code",
   "execution_count": null,
   "id": "364d930d-cfb1-4cda-941a-7e88704f15c9",
   "metadata": {},
   "outputs": [],
   "source": [
    "Storing the results of the sub-tracking analysis in a pickle file allows for one tracking session to be compared to another."
   ]
  },
  {
   "cell_type": "code",
   "execution_count": 3,
   "id": "3d4da609-5d5c-42ac-a031-225067571682",
   "metadata": {},
   "outputs": [],
   "source": [
    "!gpu-tracker sub-track analyze --tf=tracking.csv --stf=sub-tracking.csv --format=pickle --output=my-results.pkl"
   ]
  },
  {
   "cell_type": "markdown",
   "id": "3befd685-c4e6-4736-bce4-260271342ba0",
   "metadata": {},
   "source": [
    "The `sub-track compare` subcommand compares the computational resource usage of multiple tracking sessions. This is useful when you want to determine how a change can impact the computational efficiency of your process, whether it be different input data, an alternative implementation, etc. The `-m` option creates a mapping from the given name of a tracking session to the file path where its sub-tracking results are stored in pickle format. Say you wanted to call one tracking session 'A' and then the second tracking session 'B' where the results of tracking session 'A' are stored in 'results.pkl' and that of session 'B' are in 'results2.pkl'."
   ]
  },
  {
   "cell_type": "code",
   "execution_count": 4,
   "id": "0afbfad8-4bce-4f36-bdb0-475e8afe633b",
   "metadata": {},
   "outputs": [
    {
     "name": "stdout",
     "output_type": "stream",
     "text": [
      "Overall Resource Usage:\n",
      "\tMain Ram:\n",
      "\t\t         B         A\n",
      "\t\t  0.856037  0.861921\n",
      "\tDescendants Ram:\n",
      "\t\t    A    B\n",
      "\t\t  0.0  0.0\n",
      "\tCombined Ram:\n",
      "\t\t         B         A\n",
      "\t\t  0.856037  0.861921\n",
      "\tSystem Ram:\n",
      "\t\t         B         A\n",
      "\t\t  5.253445  5.281926\n",
      "\tMain Gpu Ram:\n",
      "\t\t        B         A\n",
      "\t\t  0.42992  0.448364\n",
      "\tDescendants Gpu Ram:\n",
      "\t\t    A    B\n",
      "\t\t  0.0  0.0\n",
      "\tCombined Gpu Ram:\n",
      "\t\t        B         A\n",
      "\t\t  0.42992  0.448364\n",
      "\tSystem Gpu Ram:\n",
      "\t\t        B         A\n",
      "\t\t  0.65032  0.668909\n",
      "\tGpu Sum Utilization Percent:\n",
      "\t\t    A     B\n",
      "\t\t  0.0  0.12\n",
      "\tGpu Hardware Utilization Percent:\n",
      "\t\t    A     B\n",
      "\t\t  0.0  0.12\n",
      "\tMain N Threads:\n",
      "\t\t      B          A\n",
      "\t\t  14.72  14.757576\n",
      "\tDescendants N Threads:\n",
      "\t\t    A    B\n",
      "\t\t  0.0  0.0\n",
      "\tCombined N Threads:\n",
      "\t\t      B          A\n",
      "\t\t  14.72  14.757576\n",
      "\tCpu System Sum Utilization Percent:\n",
      "\t\t        B           A\n",
      "\t\t  119.212  121.918182\n",
      "\tCpu System Hardware Utilization Percent:\n",
      "\t\t         B          A\n",
      "\t\t  9.934333  10.159848\n",
      "\tCpu Main Sum Utilization Percent:\n",
      "\t\t       B          A\n",
      "\t\t  96.924  99.060606\n",
      "\tCpu Main Hardware Utilization Percent:\n",
      "\t\t      B         A\n",
      "\t\t  8.077  8.255051\n",
      "\tCpu Descendants Sum Utilization Percent:\n",
      "\t\t    A    B\n",
      "\t\t  0.0  0.0\n",
      "\tCpu Descendants Hardware Utilization Percent:\n",
      "\t\t    A    B\n",
      "\t\t  0.0  0.0\n",
      "\tCpu Combined Sum Utilization Percent:\n",
      "\t\t       B          A\n",
      "\t\t  96.924  99.060606\n",
      "\tCpu Combined Hardware Utilization Percent:\n",
      "\t\t      B         A\n",
      "\t\t  8.077  8.255051\n",
      "Code Block Resource Usage:\n",
      "\tMain Ram:\n",
      "my-code-block:\n",
      "\t\t\t         B         A\n",
      "\t\t\t  0.808736  0.846999\n",
      "my-function:\n",
      "\t\t\t         A         B\n",
      "\t\t\t  0.888034  0.896998\n",
      "\tDescendants Ram:\n",
      "my-code-block:\n",
      "\t\t\t    A    B\n",
      "\t\t\t  0.0  0.0\n",
      "my-function:\n",
      "\t\t\t    A    B\n",
      "\t\t\t  0.0  0.0\n",
      "\tCombined Ram:\n",
      "my-code-block:\n",
      "\t\t\t         B         A\n",
      "\t\t\t  0.808736  0.846999\n",
      "my-function:\n",
      "\t\t\t         A         B\n",
      "\t\t\t  0.888034  0.896998\n",
      "\tSystem Ram:\n",
      "my-code-block:\n",
      "\t\t\t         A         B\n",
      "\t\t\t  5.170665  5.231854\n",
      "my-function:\n",
      "\t\t\t         B         A\n",
      "\t\t\t  5.271566  5.476632\n",
      "\tMain Gpu Ram:\n",
      "my-code-block:\n",
      "\t\t\t       B         A\n",
      "\t\t\t  0.3635  0.415429\n",
      "my-function:\n",
      "\t\t\t     B      A\n",
      "\t\t\t  0.49  0.506\n",
      "\tDescendants Gpu Ram:\n",
      "my-code-block:\n",
      "\t\t\t    A    B\n",
      "\t\t\t  0.0  0.0\n",
      "my-function:\n",
      "\t\t\t    A    B\n",
      "\t\t\t  0.0  0.0\n",
      "\tCombined Gpu Ram:\n",
      "my-code-block:\n",
      "\t\t\t       B         A\n",
      "\t\t\t  0.3635  0.415429\n",
      "my-function:\n",
      "\t\t\t     B      A\n",
      "\t\t\t  0.49  0.506\n",
      "\tSystem Gpu Ram:\n",
      "my-code-block:\n",
      "\t\t\t        B         A\n",
      "\t\t\t  0.58325  0.635714\n",
      "my-function:\n",
      "\t\t\t      B      A\n",
      "\t\t\t  0.711  0.727\n",
      "\tGpu Sum Utilization Percent:\n",
      "my-code-block:\n",
      "\t\t\t    A    B\n",
      "\t\t\t  0.0  0.0\n",
      "my-function:\n",
      "\t\t\t    A     B\n",
      "\t\t\t  0.0  0.25\n",
      "\tGpu Hardware Utilization Percent:\n",
      "my-code-block:\n",
      "\t\t\t    A    B\n",
      "\t\t\t  0.0  0.0\n",
      "my-function:\n",
      "\t\t\t    A     B\n",
      "\t\t\t  0.0  0.25\n",
      "\tMain N Threads:\n",
      "my-code-block:\n",
      "\t\t\t          B          A\n",
      "\t\t\t  14.416667  14.619048\n",
      "my-function:\n",
      "\t\t\t     A     B\n",
      "\t\t\t  15.0  15.0\n",
      "\tDescendants N Threads:\n",
      "my-code-block:\n",
      "\t\t\t    A    B\n",
      "\t\t\t  0.0  0.0\n",
      "my-function:\n",
      "\t\t\t    A    B\n",
      "\t\t\t  0.0  0.0\n",
      "\tCombined N Threads:\n",
      "my-code-block:\n",
      "\t\t\t          B          A\n",
      "\t\t\t  14.416667  14.619048\n",
      "my-function:\n",
      "\t\t\t     A     B\n",
      "\t\t\t  15.0  15.0\n",
      "\tCpu System Sum Utilization Percent:\n",
      "my-code-block:\n",
      "\t\t\t           B           A\n",
      "\t\t\t  113.641667  120.142857\n",
      "my-function:\n",
      "\t\t\t           B        A\n",
      "\t\t\t  124.566667  125.025\n",
      "\tCpu System Hardware Utilization Percent:\n",
      "my-code-block:\n",
      "\t\t\t         B          A\n",
      "\t\t\t  9.470139  10.011905\n",
      "my-function:\n",
      "\t\t\t          B         A\n",
      "\t\t\t  10.380556  10.41875\n",
      "\tCpu Main Sum Utilization Percent:\n",
      "my-code-block:\n",
      "\t\t\t          B          A\n",
      "\t\t\t  96.583333  98.652381\n",
      "my-function:\n",
      "\t\t\t          B       A\n",
      "\t\t\t  98.841667  99.775\n",
      "\tCpu Main Hardware Utilization Percent:\n",
      "my-code-block:\n",
      "\t\t\t         B         A\n",
      "\t\t\t  8.048611  8.221032\n",
      "my-function:\n",
      "\t\t\t         B         A\n",
      "\t\t\t  8.236806  8.314583\n",
      "\tCpu Descendants Sum Utilization Percent:\n",
      "my-code-block:\n",
      "\t\t\t    A    B\n",
      "\t\t\t  0.0  0.0\n",
      "my-function:\n",
      "\t\t\t    A    B\n",
      "\t\t\t  0.0  0.0\n",
      "\tCpu Descendants Hardware Utilization Percent:\n",
      "my-code-block:\n",
      "\t\t\t    A    B\n",
      "\t\t\t  0.0  0.0\n",
      "my-function:\n",
      "\t\t\t    A    B\n",
      "\t\t\t  0.0  0.0\n",
      "\tCpu Combined Sum Utilization Percent:\n",
      "my-code-block:\n",
      "\t\t\t          B          A\n",
      "\t\t\t  96.583333  98.652381\n",
      "my-function:\n",
      "\t\t\t          B       A\n",
      "\t\t\t  98.841667  99.775\n",
      "\tCpu Combined Hardware Utilization Percent:\n",
      "my-code-block:\n",
      "\t\t\t         B         A\n",
      "\t\t\t  8.048611  8.221032\n",
      "my-function:\n",
      "\t\t\t         B         A\n",
      "\t\t\t  8.236806  8.314583\n",
      "Code Block Compute Time:\n",
      "my-code-block:\n",
      "\t\t         B        A\n",
      "\t\t  2.651185  2.68558\n",
      "my-function:\n",
      "\t\t         B         A\n",
      "\t\t  2.553176  2.559218\n",
      "\n"
     ]
    }
   ],
   "source": [
    "!gpu-tracker sub-track compare -m A=results.pkl -m B=results2.pkl"
   ]
  },
  {
   "cell_type": "markdown",
   "id": "4604b48c-3fdb-4442-beb8-91e2886656f9",
   "metadata": {},
   "source": [
    "Both the overall usage is compared and per code block. The default format is text and the default output is printing to the console. The `--format` and `--output` options can be configured similarly to those in the `sub-track analyze` subcommand. By default, the 'mean' of measurements is compared. Alternatively, the `--stat` option can be set to 'min', 'max', or 'std' to compare a different summary statistic."
   ]
  }
 ],
 "metadata": {
  "kernelspec": {
   "display_name": "Python 3 (ipykernel)",
   "language": "python",
   "name": "python3"
  },
  "language_info": {
   "codemirror_mode": {
    "name": "ipython",
    "version": 3
   },
   "file_extension": ".py",
   "mimetype": "text/x-python",
   "name": "python",
   "nbconvert_exporter": "python",
   "pygments_lexer": "ipython3",
   "version": "3.10.12"
  }
 },
 "nbformat": 4,
 "nbformat_minor": 5
}
