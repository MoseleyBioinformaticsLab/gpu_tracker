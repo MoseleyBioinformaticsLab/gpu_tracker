{
 "cells": [
  {
   "cell_type": "markdown",
   "id": "32566971-73e6-47c8-b27e-d6def06bec4e",
   "metadata": {},
   "source": [
    "# Tutorial"
   ]
  },
  {
   "cell_type": "code",
   "execution_count": 10,
   "id": "afe00459-9095-4fd7-b482-ef0c585272f0",
   "metadata": {},
   "outputs": [],
   "source": [
    "import gpu_tracker.tracker as track"
   ]
  },
  {
   "cell_type": "markdown",
   "id": "2bb9e84a-8523-4e5f-bc01-1d6b234c19a6",
   "metadata": {},
   "source": [
    "The `gpu_tracker.tracker` module provides the `Tracker` class which uses an underlying thread to measure computational resource usage, namely the compute time, maximum RAM used, and maximum GPU RAM used. The `start()` method starts this thread which tracks usage in the background. After calling `start()`, write the code to measure resource usage, followed by calling the `stop()` method. The compute time will be the time from the call to `start()` to the call to `stop()` and the RAM and GPU quantities will be the amount of RAM used by the code that's in between `start()` and `stop()`. The `Tracker` class additionally has a `__str__` method so it can be printed as a string that formats the values and units of each computational resource."
   ]
  },
  {
   "cell_type": "code",
   "execution_count": 11,
   "id": "1c59d6dc-2e8c-4d5a-ac80-ab85bb2c62a5",
   "metadata": {},
   "outputs": [
    {
     "name": "stdout",
     "output_type": "stream",
     "text": [
      "Max RAM: 0.068 gigabytes\n",
      "Max GPU: 0.000 gigabytes\n",
      "Compute time: 0.000 hours\n"
     ]
    }
   ],
   "source": [
    "tracker = track.Tracker()\n",
    "tracker.start()\n",
    "# Perform expensive operations\n",
    "tracker.stop()\n",
    "print(tracker)"
   ]
  },
  {
   "cell_type": "markdown",
   "id": "dbf7ad83-21d0-4cd2-adbb-278fa80d2b13",
   "metadata": {},
   "source": [
    "The equivalent can be accomplished using `Tracker` as a context manager rather than explicitly calling `start()` and `stop()`."
   ]
  },
  {
   "cell_type": "code",
   "execution_count": 12,
   "id": "08f688f4-f1b6-41dc-91f9-76f9c7e0fdb3",
   "metadata": {},
   "outputs": [
    {
     "name": "stdout",
     "output_type": "stream",
     "text": [
      "Max RAM: 0.068 gigabytes\n",
      "Max GPU: 0.000 gigabytes\n",
      "Compute time: 0.000 hours\n"
     ]
    }
   ],
   "source": [
    "with track.Tracker() as tracker:\n",
    "    # Perform expensive operations\n",
    "    pass\n",
    "print(tracker)"
   ]
  },
  {
   "cell_type": "markdown",
   "id": "7c7afe26-b2e0-4a4a-ba88-327ed6d4bb63",
   "metadata": {},
   "source": [
    "The units of the computational resources can be modified as desired. For example, to measure the RAM in megabytes, the GPU RAM in kilobytes, and the compute time in seconds:"
   ]
  },
  {
   "cell_type": "code",
   "execution_count": 13,
   "id": "09201850-de04-4864-a7e2-3747d4fb9b3a",
   "metadata": {},
   "outputs": [
    {
     "name": "stdout",
     "output_type": "stream",
     "text": [
      "Max RAM: 67.662 megabytes\n",
      "Max GPU: 0.000 kilobytes\n",
      "Compute time: 1.043 seconds\n"
     ]
    }
   ],
   "source": [
    "with track.Tracker(ram_unit='megabytes', gpu_unit='kilobytes', time_unit='seconds') as tracker:\n",
    "    # Perform expensive operations\n",
    "    pass\n",
    "print(tracker)"
   ]
  },
  {
   "cell_type": "markdown",
   "id": "d119d306-71e3-4d96-acf9-45e2e11e17d9",
   "metadata": {},
   "source": [
    "Additionally, the individual measurements and units are available as attributes in the `Tracker` class."
   ]
  },
  {
   "cell_type": "code",
   "execution_count": 14,
   "id": "8dbfea09-d603-4a6a-aed3-5c9e62a03fda",
   "metadata": {},
   "outputs": [
    {
     "name": "stdout",
     "output_type": "stream",
     "text": [
      "67.661824 megabytes\n"
     ]
    }
   ],
   "source": [
    "print(tracker.max_ram, tracker.ram_unit)"
   ]
  }
 ],
 "metadata": {
  "kernelspec": {
   "display_name": "Python 3 (ipykernel)",
   "language": "python",
   "name": "python3"
  },
  "language_info": {
   "codemirror_mode": {
    "name": "ipython",
    "version": 3
   },
   "file_extension": ".py",
   "mimetype": "text/x-python",
   "name": "python",
   "nbconvert_exporter": "python",
   "pygments_lexer": "ipython3",
   "version": "3.12.2"
  }
 },
 "nbformat": 4,
 "nbformat_minor": 5
}
