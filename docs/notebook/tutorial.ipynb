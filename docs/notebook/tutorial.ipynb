{
 "cells": [
  {
   "cell_type": "markdown",
   "id": "32566971-73e6-47c8-b27e-d6def06bec4e",
   "metadata": {},
   "source": [
    "# Tutorial"
   ]
  },
  {
   "cell_type": "markdown",
   "id": "51c6e812-ad8f-4061-b5dc-22ccfdd15b1c",
   "metadata": {},
   "source": [
    "## API"
   ]
  },
  {
   "cell_type": "markdown",
   "id": "2bb9e84a-8523-4e5f-bc01-1d6b234c19a6",
   "metadata": {},
   "source": [
    "The `gpu_tracker` package provides the `Tracker` class which uses an underlying thread to measure computational resource usage, namely the compute time, maximum RAM used, and maximum GPU RAM used. The `start()` method starts this thread which tracks usage in the background. After calling `start()`, write the code to measure resource usage, followed by calling the `stop()` method. The compute time will be the time from the call to `start()` to the call to `stop()` and the RAM and GPU RAM quantities will be the amount of RAM used by the code that's in between `start()` and `stop()`. The `Tracker` class additionally has a `__str__` method so it can be printed as a string that formats the values and units of each computational resource."
   ]
  },
  {
   "cell_type": "code",
   "execution_count": 1,
   "id": "96ce3afa",
   "metadata": {
    "collapsed": false,
    "jupyter": {
     "outputs_hidden": false
    }
   },
   "outputs": [],
   "source": [
    "import gpu_tracker as gput"
   ]
  },
  {
   "cell_type": "code",
   "execution_count": 2,
   "id": "1c59d6dc-2e8c-4d5a-ac80-ab85bb2c62a5",
   "metadata": {},
   "outputs": [
    {
     "name": "stdout",
     "output_type": "stream",
     "text": [
      "Max RAM: 0.067 gigabytes\n",
      "Max GPU RAM: 0.000 gigabytes\n",
      "Compute time: 0.000 hours\n"
     ]
    }
   ],
   "source": [
    "tracker = gput.Tracker()\n",
    "tracker.start()\n",
    "# Perform expensive operations\n",
    "tracker.stop()\n",
    "print(tracker)"
   ]
  },
  {
   "cell_type": "markdown",
   "id": "dbf7ad83-21d0-4cd2-adbb-278fa80d2b13",
   "metadata": {},
   "source": [
    "The equivalent can be accomplished using `Tracker` as a context manager rather than explicitly calling `start()` and `stop()`."
   ]
  },
  {
   "cell_type": "code",
   "execution_count": 3,
   "id": "08f688f4-f1b6-41dc-91f9-76f9c7e0fdb3",
   "metadata": {},
   "outputs": [
    {
     "name": "stdout",
     "output_type": "stream",
     "text": [
      "Max RAM: 0.067 gigabytes\n",
      "Max GPU RAM: 0.000 gigabytes\n",
      "Compute time: 0.000 hours\n"
     ]
    }
   ],
   "source": [
    "with gput.Tracker() as tracker:\n",
    "    # Perform expensive operations\n",
    "    pass\n",
    "print(tracker)"
   ]
  },
  {
   "cell_type": "markdown",
   "id": "7c7afe26-b2e0-4a4a-ba88-327ed6d4bb63",
   "metadata": {},
   "source": [
    "The units of the computational resources can be modified as desired. For example, to measure the RAM in megabytes, the GPU RAM in kilobytes, and the compute time in seconds:"
   ]
  },
  {
   "cell_type": "code",
   "execution_count": 4,
   "id": "09201850-de04-4864-a7e2-3747d4fb9b3a",
   "metadata": {},
   "outputs": [
    {
     "name": "stdout",
     "output_type": "stream",
     "text": [
      "Max RAM: 67.391 megabytes\n",
      "Max GPU RAM: 0.000 kilobytes\n",
      "Compute time: 1.035 seconds\n"
     ]
    }
   ],
   "source": [
    "with gput.Tracker(ram_unit='megabytes', gpu_ram_unit='kilobytes', time_unit='seconds') as tracker:\n",
    "    # Perform expensive operations\n",
    "    pass\n",
    "print(tracker)"
   ]
  },
  {
   "cell_type": "markdown",
   "id": "2323016e-f390-4584-b540-a330af5b635e",
   "metadata": {},
   "source": [
    "The same information can be obtained in a dictionary via the `Tracker`'s `to_json()` method."
   ]
  },
  {
   "cell_type": "code",
   "execution_count": 5,
   "id": "85291150-bac7-4057-8ce6-35dfb6badb88",
   "metadata": {},
   "outputs": [
    {
     "data": {
      "text/plain": [
       "{'max_ram': 67.391488,\n",
       " 'ram_unit': 'megabytes',\n",
       " 'max_gpu_ram': 0.0,\n",
       " 'gpu_ram_unit': 'kilobytes',\n",
       " 'compute_time': 1.0349853038787842,\n",
       " 'time_unit': 'seconds'}"
      ]
     },
     "execution_count": 5,
     "metadata": {},
     "output_type": "execute_result"
    }
   ],
   "source": [
    "tracker.to_json()"
   ]
  },
  {
   "cell_type": "markdown",
   "id": "d119d306-71e3-4d96-acf9-45e2e11e17d9",
   "metadata": {},
   "source": [
    "Additionally, the individual measurements and units are available as attributes in the `Tracker` class."
   ]
  },
  {
   "cell_type": "code",
   "execution_count": 6,
   "id": "8dbfea09-d603-4a6a-aed3-5c9e62a03fda",
   "metadata": {},
   "outputs": [
    {
     "name": "stdout",
     "output_type": "stream",
     "text": [
      "67.391488 megabytes\n"
     ]
    }
   ],
   "source": [
    "print(tracker.max_ram, tracker.ram_unit)"
   ]
  },
  {
   "cell_type": "markdown",
   "id": "c3db85b4-fe2b-4a5a-9b7e-6d390fe39d1c",
   "metadata": {},
   "source": [
    "## CLI"
   ]
  },
  {
   "cell_type": "markdown",
   "id": "54a3a61b-81cf-4a65-85af-7ba15a111970",
   "metadata": {},
   "source": [
    "The `gpu-tracker` package also comes with a commandline interface that can track the computational-resource-usage of any shell command, not just python code. Entering `gpu-tracker -h` in a shell will show the help message."
   ]
  },
  {
   "cell_type": "code",
   "execution_count": 7,
   "id": "f7deae10-a16b-4a38-acc6-c354911200ab",
   "metadata": {},
   "outputs": [
    {
     "name": "stdout",
     "output_type": "stream",
     "text": [
      "Tracks the computational resource usage (RAM, GPU RAM, and compute time) of a process corresponding to a given shell command.\n",
      "\n",
      "Usage:\n",
      "    gpu-tracker --execute=<command> [--output=<output>] [--format=<format>] [--st=<sleep-time>] [--ic] [--ru=<ram-unit>] [--gru=<gpu-unit>] [--tu=<time-unit>]\n",
      "\n",
      "Options:\n",
      "    -h --help               Show this help message.\n",
      "    -e --execute=<command>  The command to run along with its arguments all within quotes e.g. \"ls -l -a\".\n",
      "    -o --output=<output>    File path to store the computational-resource-usage measurements. If not set, prints measurements to the screen.\n",
      "    -f --format=<format>    File format of the output. Either 'json' or 'text'. Defaults to 'text'.\n",
      "    --st=<sleep-time>       The number of seconds to sleep in between usage-collection iterations.\n",
      "    --ic                    Stands for include-children; Whether to add the usage (RAM and GPU RAM) of child processes. Otherwise, only collects usage of the main process.\n",
      "    --ru=<ram-unit>         One of 'bytes', 'kilobytes', 'megabytes', 'gigabytes', or 'terabytes'.\n",
      "    --gru=<gpu-ram-unit>    One of 'bytes', 'kilobytes', 'megabytes', 'gigabytes', or 'terabytes'.\n",
      "    --tu=<time-unit>        One of 'seconds', 'minutes', 'hours', or 'days'.\n"
     ]
    }
   ],
   "source": [
    "!gpu-tracker -h"
   ]
  },
  {
   "cell_type": "markdown",
   "id": "deb01bb6-27e3-446e-885e-1b017e246230",
   "metadata": {},
   "source": [
    "The `-e` or `--execute` is a required option where the desired shell command is provided, with both the command and its proceeding arguments surrounded by quotes. Below is an example of running the `sleep` command with an argument of 2 seconds. When the command completes, its status code is reported. "
   ]
  },
  {
   "cell_type": "code",
   "execution_count": 8,
   "id": "ea7c710f-a238-460d-836c-a979e1c72f4f",
   "metadata": {},
   "outputs": [
    {
     "name": "stdout",
     "output_type": "stream",
     "text": [
      "Resource tracking complete. Process completed with status code: 0\n",
      "Max RAM: 0.002 gigabytes\n",
      "Max GPU RAM: 0.000 gigabytes\n",
      "Compute time: 0.001 hours\n",
      "\n"
     ]
    }
   ],
   "source": [
    "!gpu-tracker -e 'sleep 2'"
   ]
  },
  {
   "cell_type": "markdown",
   "id": "c45091e7-0e85-4a8d-8836-c2dce1bd547f",
   "metadata": {},
   "source": [
    "Like with the API, the units can be modified. For example, --tu stands for time-unit and --ru stands for ram-unit."
   ]
  },
  {
   "cell_type": "code",
   "execution_count": 9,
   "id": "cff099a7-1070-42ba-9f2a-008d58863fe6",
   "metadata": {},
   "outputs": [
    {
     "name": "stdout",
     "output_type": "stream",
     "text": [
      "Resource tracking complete. Process completed with status code: 0\n",
      "Max RAM: 1.966 megabytes\n",
      "Max GPU RAM: 0.000 gigabytes\n",
      "Compute time: 2.045 seconds\n",
      "\n"
     ]
    }
   ],
   "source": [
    "!gpu-tracker -e 'sleep 2' --tu=seconds --ru=megabytes"
   ]
  },
  {
   "cell_type": "markdown",
   "id": "5f904cc3-17f5-4ee5-bb91-97ab71c77abe",
   "metadata": {},
   "source": [
    "By default, the computational-resource-usage statistics are printed to the screen. The `-o` or `--output` option can be specified to store that same content in a file."
   ]
  },
  {
   "cell_type": "code",
   "execution_count": 10,
   "id": "a8520fd9-0907-4c0c-a68f-8fdaec040e1a",
   "metadata": {},
   "outputs": [
    {
     "name": "stdout",
     "output_type": "stream",
     "text": [
      "Resource tracking complete. Process completed with status code: 0\n"
     ]
    }
   ],
   "source": [
    "!gpu-tracker -e 'sleep 2' -o out.txt "
   ]
  },
  {
   "cell_type": "code",
   "execution_count": 11,
   "id": "213550b7-d808-4e11-be37-f2f892e4834b",
   "metadata": {},
   "outputs": [
    {
     "name": "stdout",
     "output_type": "stream",
     "text": [
      "Max RAM: 0.002 gigabytes\n",
      "Max GPU RAM: 0.000 gigabytes\n",
      "Compute time: 0.001 hours\n"
     ]
    }
   ],
   "source": [
    "!cat out.txt"
   ]
  },
  {
   "cell_type": "markdown",
   "id": "d1a10d46-867d-46ca-b432-c2859c308b70",
   "metadata": {},
   "source": [
    "By default, the format of the output is \"text\". The `-f` or `--format` option can specify the format to be \"json\" instead. "
   ]
  },
  {
   "cell_type": "code",
   "execution_count": 12,
   "id": "f6fd29d2-cad6-4f9c-8af8-ccf4f0e721d3",
   "metadata": {},
   "outputs": [
    {
     "name": "stdout",
     "output_type": "stream",
     "text": [
      "Resource tracking complete. Process completed with status code: 0\n",
      "{\n",
      " \"max_ram\": 0.0019660800000000003,\n",
      " \"ram_unit\": \"gigabytes\",\n",
      " \"max_gpu_ram\": 0.0,\n",
      " \"gpu_ram_unit\": \"gigabytes\",\n",
      " \"compute_time\": 0.0005680449803670247,\n",
      " \"time_unit\": \"hours\"\n",
      "}\n"
     ]
    }
   ],
   "source": [
    "!gpu-tracker -e 'sleep 2' -f json"
   ]
  },
  {
   "cell_type": "code",
   "execution_count": 13,
   "id": "5c825e42-d100-4533-b218-c36f6380e6ed",
   "metadata": {},
   "outputs": [
    {
     "name": "stdout",
     "output_type": "stream",
     "text": [
      "Resource tracking complete. Process completed with status code: 0\n"
     ]
    }
   ],
   "source": [
    "!gpu-tracker -e 'sleep 2' -f json -o out.json"
   ]
  },
  {
   "cell_type": "code",
   "execution_count": 14,
   "id": "c821972e-0bed-4245-8933-27b0b28589de",
   "metadata": {},
   "outputs": [
    {
     "name": "stdout",
     "output_type": "stream",
     "text": [
      "{\n",
      " \"max_ram\": 0.0019660800000000003,\n",
      " \"ram_unit\": \"gigabytes\",\n",
      " \"max_gpu_ram\": 0.0,\n",
      " \"gpu_ram_unit\": \"gigabytes\",\n",
      " \"compute_time\": 0.0005686806970172458,\n",
      " \"time_unit\": \"hours\"\n",
      "}"
     ]
    }
   ],
   "source": [
    "!cat out.json"
   ]
  }
 ],
 "metadata": {
  "kernelspec": {
   "display_name": "Python 3 (ipykernel)",
   "language": "python",
   "name": "python3"
  },
  "language_info": {
   "codemirror_mode": {
    "name": "ipython",
    "version": 3
   },
   "file_extension": ".py",
   "mimetype": "text/x-python",
   "name": "python",
   "nbconvert_exporter": "python",
   "pygments_lexer": "ipython3",
   "version": "3.12.2"
  }
 },
 "nbformat": 4,
 "nbformat_minor": 5
}
