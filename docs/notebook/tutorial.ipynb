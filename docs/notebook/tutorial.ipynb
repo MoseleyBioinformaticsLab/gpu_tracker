{
 "cells": [
  {
   "cell_type": "markdown",
   "id": "32566971-73e6-47c8-b27e-d6def06bec4e",
   "metadata": {},
   "source": [
    "# Tutorial"
   ]
  },
  {
   "cell_type": "markdown",
   "id": "51c6e812-ad8f-4061-b5dc-22ccfdd15b1c",
   "metadata": {},
   "source": [
    "## API"
   ]
  },
  {
   "cell_type": "markdown",
   "id": "2bb9e84a-8523-4e5f-bc01-1d6b234c19a6",
   "metadata": {},
   "source": [
    "The `gpu_tracker` package provides the `Tracker` class which uses an underlying thread to measure computational resource usage, namely the compute time, maximum RAM used, and maximum GPU RAM used. The `start()` method starts this thread which tracks usage in the background. After calling `start()`, write the code to measure resource usage, followed by calling the `stop()` method. The compute time will be the time from the call to `start()` to the call to `stop()` and the RAM and GPU RAM quantities will be the amount of RAM used by the code that's in between `start()` and `stop()`."
   ]
  },
  {
   "cell_type": "code",
   "execution_count": 1,
   "id": "96ce3afa",
   "metadata": {
    "collapsed": false,
    "jupyter": {
     "outputs_hidden": false
    }
   },
   "outputs": [],
   "source": [
    "import gpu_tracker as gput"
   ]
  },
  {
   "cell_type": "code",
   "execution_count": 2,
   "id": "1c59d6dc-2e8c-4d5a-ac80-ab85bb2c62a5",
   "metadata": {},
   "outputs": [],
   "source": [
    "tracker = gput.Tracker()\n",
    "tracker.start()\n",
    "# Perform expensive operations\n",
    "tracker.stop()"
   ]
  },
  {
   "cell_type": "markdown",
   "id": "0a02518b-f55a-4119-8fc1-2daac6429e44",
   "metadata": {},
   "source": [
    "The `Tracker` class implements the `__str__` method so it can be printed as a string with the values and units of each computational resource formatted."
   ]
  },
  {
   "cell_type": "code",
   "execution_count": 3,
   "id": "710e11da-7a70-49fe-be6d-c1d25ce9d53f",
   "metadata": {},
   "outputs": [
    {
     "name": "stdout",
     "output_type": "stream",
     "text": [
      "Max RAM:\n",
      "   Unit: gigabytes\n",
      "   System capacity: 67.254\n",
      "   System: 4.417\n",
      "   Main:\n",
      "      Total RSS: 0.061\n",
      "      Private RSS: 0.05\n",
      "      Shared RSS: 0.011\n",
      "   Descendents:\n",
      "      Total RSS: 0.0\n",
      "      Private RSS: 0.0\n",
      "      Shared RSS: 0.0\n",
      "   Combined:\n",
      "      Total RSS: 0.063\n",
      "      Private RSS: 0.052\n",
      "      Shared RSS: 0.011\n",
      "Max GPU RAM:\n",
      "   Unit: gigabytes\n",
      "   Main: 0.0\n",
      "   Descendents: 0.0\n",
      "   Combined: 0.0\n",
      "Compute time:\n",
      "   Unit: hours\n",
      "   Time: 0.0\n"
     ]
    }
   ],
   "source": [
    "print(tracker)"
   ]
  },
  {
   "cell_type": "markdown",
   "id": "fc7819ab-a3fc-4a29-8a5c-1790e192a465",
   "metadata": {},
   "source": [
    "The system capacity is a constant for the total RAM capacity across the entire operating system, not to be confused with the maximum system RAM which is the maximum OS RAM that was actually used over the duration of the computational-resource tracking. Both the RAM and GPU RAM are split up into 3 sections, namely the usage of the main process itself followed by the summed usage of any descendent processes it may have (i.e. child processes, grandchild processes, etc.), and combined usage which is the sum of the main and its descendent processes. RAM is divided further to include the private RSS (RAM usage unique to the process), shared RSS (RAM that's shared by a process and at least one other process), and total RSS (the sum of private and shared RSS). The private and shared RSS values are only available on Linux distributions. So for non-linux operating systems, the privated and shared RSS will remain 0 and only the total RSS will be reported. Theoretically, the combined total RSS would never exceed the overall system RAM usage, but inaccuracies resulting from shared RSS can cause this to happen, especially for non-linux operating systems (see note below).\n",
    "\n",
    "The `Tracker` assumes that GPU memory is not shared accross multiple processes and if it is, the reported GPU RAM of \"descendent\" and \"combined\" may be an overestimation.\n",
    "\n",
    "The compute time is the real time that the computational-resource tracking lasted (as compared to CPU time)."
   ]
  },
  {
   "cell_type": "markdown",
   "id": "9eb6f048-68cf-4dc5-b11d-cdcdf39bde3a",
   "metadata": {},
   "source": [
    "***NOTE** The keywords \"descendents\" and \"combined\" in the output above indicate a sum of the RSS used by multiple processes. It's important to keep in mind that on non-linux operating systems, this sum does not take into account shared memory but rather adds up the total RSS of all processes, which can lead to an overestimation. For Linux distributions, however, pieces of shared memory are only counted once.*"
   ]
  },
  {
   "cell_type": "markdown",
   "id": "dbf7ad83-21d0-4cd2-adbb-278fa80d2b13",
   "metadata": {},
   "source": [
    "The `Tracker` can alternatively be used as a context manager rather than explicitly calling `start()` and `stop()`."
   ]
  },
  {
   "cell_type": "code",
   "execution_count": 4,
   "id": "08f688f4-f1b6-41dc-91f9-76f9c7e0fdb3",
   "metadata": {},
   "outputs": [
    {
     "name": "stdout",
     "output_type": "stream",
     "text": [
      "Max RAM:\n",
      "   Unit: gigabytes\n",
      "   System capacity: 67.254\n",
      "   System: 4.398\n",
      "   Main:\n",
      "      Total RSS: 0.063\n",
      "      Private RSS: 0.052\n",
      "      Shared RSS: 0.011\n",
      "   Descendents:\n",
      "      Total RSS: 0.0\n",
      "      Private RSS: 0.0\n",
      "      Shared RSS: 0.0\n",
      "   Combined:\n",
      "      Total RSS: 0.063\n",
      "      Private RSS: 0.052\n",
      "      Shared RSS: 0.011\n",
      "Max GPU RAM:\n",
      "   Unit: gigabytes\n",
      "   Main: 0.0\n",
      "   Descendents: 0.0\n",
      "   Combined: 0.0\n",
      "Compute time:\n",
      "   Unit: hours\n",
      "   Time: 0.0\n"
     ]
    }
   ],
   "source": [
    "with gput.Tracker() as tracker:\n",
    "    # Perform expensive operations\n",
    "    pass\n",
    "print(tracker)"
   ]
  },
  {
   "cell_type": "markdown",
   "id": "7c7afe26-b2e0-4a4a-ba88-327ed6d4bb63",
   "metadata": {},
   "source": [
    "The units of the computational resources can be modified as desired. For example, to measure the RAM in megabytes, the GPU RAM in kilobytes, and the compute time in seconds:"
   ]
  },
  {
   "cell_type": "code",
   "execution_count": 5,
   "id": "09201850-de04-4864-a7e2-3747d4fb9b3a",
   "metadata": {},
   "outputs": [
    {
     "name": "stdout",
     "output_type": "stream",
     "text": [
      "Max RAM:\n",
      "   Unit: megabytes\n",
      "   System capacity: 67254.161\n",
      "   System: 4378.161\n",
      "   Main:\n",
      "      Total RSS: 63.336\n",
      "      Private RSS: 52.171\n",
      "      Shared RSS: 11.166\n",
      "   Descendents:\n",
      "      Total RSS: 0.0\n",
      "      Private RSS: 0.0\n",
      "      Shared RSS: 0.0\n",
      "   Combined:\n",
      "      Total RSS: 63.341\n",
      "      Private RSS: 52.175\n",
      "      Shared RSS: 11.166\n",
      "Max GPU RAM:\n",
      "   Unit: kilobytes\n",
      "   Main: 0.0\n",
      "   Descendents: 0.0\n",
      "   Combined: 0.0\n",
      "Compute time:\n",
      "   Unit: seconds\n",
      "   Time: 0.063\n"
     ]
    }
   ],
   "source": [
    "with gput.Tracker(ram_unit='megabytes', gpu_ram_unit='kilobytes', time_unit='seconds') as tracker:\n",
    "    # Perform expensive operations\n",
    "    pass\n",
    "print(tracker)"
   ]
  },
  {
   "cell_type": "markdown",
   "id": "2323016e-f390-4584-b540-a330af5b635e",
   "metadata": {},
   "source": [
    "The same information as the text format can be provided as a dictionary via the `to_json()` method of the `Tracker`."
   ]
  },
  {
   "cell_type": "code",
   "execution_count": 6,
   "id": "85291150-bac7-4057-8ce6-35dfb6badb88",
   "metadata": {},
   "outputs": [
    {
     "name": "stdout",
     "output_type": "stream",
     "text": [
      "{\n",
      " \"max_ram\": {\n",
      "  \"unit\": \"megabytes\",\n",
      "  \"system_capacity\": 67254.161408,\n",
      "  \"system\": 4378.161152,\n",
      "  \"main\": {\n",
      "   \"total_rss\": 63.336448,\n",
      "   \"private_rss\": 52.170752,\n",
      "   \"shared_rss\": 11.165695999999999\n",
      "  },\n",
      "  \"descendents\": {\n",
      "   \"total_rss\": 0.0,\n",
      "   \"private_rss\": 0.0,\n",
      "   \"shared_rss\": 0.0\n",
      "  },\n",
      "  \"combined\": {\n",
      "   \"total_rss\": 63.340543999999994,\n",
      "   \"private_rss\": 52.174848,\n",
      "   \"shared_rss\": 11.165695999999999\n",
      "  }\n",
      " },\n",
      " \"max_gpu_ram\": {\n",
      "  \"unit\": \"kilobytes\",\n",
      "  \"main\": 0.0,\n",
      "  \"descendents\": 0.0,\n",
      "  \"combined\": 0.0\n",
      " },\n",
      " \"compute_time\": {\n",
      "  \"unit\": \"seconds\",\n",
      "  \"time\": 0.06275105476379395\n",
      " }\n",
      "}\n"
     ]
    }
   ],
   "source": [
    "import json\n",
    "print(json.dumps(tracker.to_json(), indent=1))"
   ]
  },
  {
   "cell_type": "markdown",
   "id": "3ab1039a-09bc-44b7-b106-37e6986869d4",
   "metadata": {},
   "source": [
    "The `Tracker` class additionally has fields that provide the usage information for each computational resource as python data classes. "
   ]
  },
  {
   "cell_type": "code",
   "execution_count": 7,
   "id": "882210f5-233f-4ca9-b2ca-8b187d0d7d7e",
   "metadata": {},
   "outputs": [
    {
     "data": {
      "text/plain": [
       "MaxRAM(unit='megabytes', system_capacity=67254.161408, system=4378.161152, main=RSSValues(total_rss=63.336448, private_rss=52.170752, shared_rss=11.165695999999999), descendents=RSSValues(total_rss=0.0, private_rss=0.0, shared_rss=0.0), combined=RSSValues(total_rss=63.340543999999994, private_rss=52.174848, shared_rss=11.165695999999999))"
      ]
     },
     "execution_count": 7,
     "metadata": {},
     "output_type": "execute_result"
    }
   ],
   "source": [
    "tracker.max_ram"
   ]
  },
  {
   "cell_type": "code",
   "execution_count": 8,
   "id": "4a380bd0-199c-4c50-9592-05519b00da7c",
   "metadata": {},
   "outputs": [
    {
     "data": {
      "text/plain": [
       "'megabytes'"
      ]
     },
     "execution_count": 8,
     "metadata": {},
     "output_type": "execute_result"
    }
   ],
   "source": [
    "tracker.max_ram.unit"
   ]
  },
  {
   "cell_type": "code",
   "execution_count": 9,
   "id": "0e4c0b1a-8a4c-40d7-9270-a2274456575b",
   "metadata": {},
   "outputs": [
    {
     "data": {
      "text/plain": [
       "RSSValues(total_rss=63.336448, private_rss=52.170752, shared_rss=11.165695999999999)"
      ]
     },
     "execution_count": 9,
     "metadata": {},
     "output_type": "execute_result"
    }
   ],
   "source": [
    "tracker.max_ram.main"
   ]
  },
  {
   "cell_type": "code",
   "execution_count": 10,
   "id": "47e6c47b-586a-4534-9346-76fcf3f5ab83",
   "metadata": {},
   "outputs": [
    {
     "data": {
      "text/plain": [
       "63.336448"
      ]
     },
     "execution_count": 10,
     "metadata": {},
     "output_type": "execute_result"
    }
   ],
   "source": [
    "tracker.max_ram.main.total_rss"
   ]
  },
  {
   "cell_type": "code",
   "execution_count": 11,
   "id": "421c5118-7421-4681-bd16-b9697c28078e",
   "metadata": {},
   "outputs": [
    {
     "data": {
      "text/plain": [
       "MaxGPURAM(unit='kilobytes', main=0.0, descendents=0.0, combined=0.0)"
      ]
     },
     "execution_count": 11,
     "metadata": {},
     "output_type": "execute_result"
    }
   ],
   "source": [
    "tracker.max_gpu_ram"
   ]
  },
  {
   "cell_type": "code",
   "execution_count": 12,
   "id": "8d047dfc-f7f8-4906-964a-16fd725f6e4b",
   "metadata": {},
   "outputs": [
    {
     "data": {
      "text/plain": [
       "ComputeTime(unit='seconds', time=0.06275105476379395)"
      ]
     },
     "execution_count": 12,
     "metadata": {},
     "output_type": "execute_result"
    }
   ],
   "source": [
    "tracker.compute_time"
   ]
  },
  {
   "cell_type": "markdown",
   "id": "c3db85b4-fe2b-4a5a-9b7e-6d390fe39d1c",
   "metadata": {},
   "source": [
    "## CLI"
   ]
  },
  {
   "cell_type": "markdown",
   "id": "54a3a61b-81cf-4a65-85af-7ba15a111970",
   "metadata": {},
   "source": [
    "The `gpu-tracker` package also comes with a commandline interface that can track the computational-resource-usage of any shell command, not just python code. Entering `gpu-tracker -h` in a shell will show the help message."
   ]
  },
  {
   "cell_type": "code",
   "execution_count": 13,
   "id": "f7deae10-a16b-4a38-acc6-c354911200ab",
   "metadata": {},
   "outputs": [
    {
     "name": "stdout",
     "output_type": "stream",
     "text": [
      "Tracks the computational resource usage (RAM, GPU RAM, and compute time) of a process corresponding to a given shell command.\n",
      "\n",
      "Usage:\n",
      "    gpu-tracker --execute=<command> [--output=<output>] [--format=<format>] [--st=<sleep-time>] [--ru=<ram-unit>] [--gru=<gpu-ram-unit>] [--tu=<time-unit>]\n",
      "\n",
      "Options:\n",
      "    -h --help               Show this help message.\n",
      "    -e --execute=<command>  The command to run along with its arguments all within quotes e.g. \"ls -l -a\".\n",
      "    -o --output=<output>    File path to store the computational-resource-usage measurements. If not set, prints measurements to the screen.\n",
      "    -f --format=<format>    File format of the output. Either 'json' or 'text'. Defaults to 'text'.\n",
      "    --st=<sleep-time>       The number of seconds to sleep in between usage-collection iterations.\n",
      "    --ru=<ram-unit>         One of 'bytes', 'kilobytes', 'megabytes', 'gigabytes', or 'terabytes'.\n",
      "    --gru=<gpu-ram-unit>    One of 'bytes', 'kilobytes', 'megabytes', 'gigabytes', or 'terabytes'.\n",
      "    --tu=<time-unit>        One of 'seconds', 'minutes', 'hours', or 'days'.\n"
     ]
    }
   ],
   "source": [
    "!gpu-tracker -h"
   ]
  },
  {
   "cell_type": "markdown",
   "id": "deb01bb6-27e3-446e-885e-1b017e246230",
   "metadata": {},
   "source": [
    "The `-e` or `--execute` is a required option where the desired shell command is provided, with both the command and its proceeding arguments surrounded by quotes. Below is an example of running the `sleep` command with an argument of 2 seconds. When the command completes, its status code is reported. "
   ]
  },
  {
   "cell_type": "code",
   "execution_count": 14,
   "id": "ea7c710f-a238-460d-836c-a979e1c72f4f",
   "metadata": {},
   "outputs": [
    {
     "name": "stdout",
     "output_type": "stream",
     "text": [
      "Resource tracking complete. Process completed with status code: 0\n",
      "Max RAM:\n",
      "   Unit: gigabytes\n",
      "   System capacity: 67.254\n",
      "   System: 4.398\n",
      "   Main:\n",
      "      Total RSS: 0.002\n",
      "      Private RSS: 0.0\n",
      "      Shared RSS: 0.002\n",
      "   Descendents:\n",
      "      Total RSS: 0.0\n",
      "      Private RSS: 0.0\n",
      "      Shared RSS: 0.0\n",
      "   Combined:\n",
      "      Total RSS: 0.002\n",
      "      Private RSS: 0.0\n",
      "      Shared RSS: 0.002\n",
      "Max GPU RAM:\n",
      "   Unit: gigabytes\n",
      "   Main: 0.0\n",
      "   Descendents: 0.0\n",
      "   Combined: 0.0\n",
      "Compute time:\n",
      "   Unit: hours\n",
      "   Time: 0.0\n"
     ]
    }
   ],
   "source": [
    "!gpu-tracker -e 'sleep 2'"
   ]
  },
  {
   "cell_type": "markdown",
   "id": "c45091e7-0e85-4a8d-8836-c2dce1bd547f",
   "metadata": {},
   "source": [
    "The units of the computational resources can be modified. For example, --tu stands for time-unit and --ru stands for ram-unit."
   ]
  },
  {
   "cell_type": "code",
   "execution_count": 15,
   "id": "cff099a7-1070-42ba-9f2a-008d58863fe6",
   "metadata": {},
   "outputs": [
    {
     "name": "stdout",
     "output_type": "stream",
     "text": [
      "Resource tracking complete. Process completed with status code: 0\n",
      "Max RAM:\n",
      "   Unit: megabytes\n",
      "   System capacity: 67254.161\n",
      "   System: 4425.966\n",
      "   Main:\n",
      "      Total RSS: 1.663\n",
      "      Private RSS: 0.139\n",
      "      Shared RSS: 1.524\n",
      "   Descendents:\n",
      "      Total RSS: 0.0\n",
      "      Private RSS: 0.0\n",
      "      Shared RSS: 0.0\n",
      "   Combined:\n",
      "      Total RSS: 1.663\n",
      "      Private RSS: 0.139\n",
      "      Shared RSS: 1.524\n",
      "Max GPU RAM:\n",
      "   Unit: gigabytes\n",
      "   Main: 0.0\n",
      "   Descendents: 0.0\n",
      "   Combined: 0.0\n",
      "Compute time:\n",
      "   Unit: seconds\n",
      "   Time: 1.075\n"
     ]
    }
   ],
   "source": [
    "!gpu-tracker -e 'sleep 2' --tu=seconds --ru=megabytes"
   ]
  },
  {
   "cell_type": "markdown",
   "id": "5f904cc3-17f5-4ee5-bb91-97ab71c77abe",
   "metadata": {},
   "source": [
    "By default, the computational-resource-usage statistics are printed to the screen. The `-o` or `--output` option can be specified to store that same content in a file."
   ]
  },
  {
   "cell_type": "code",
   "execution_count": 16,
   "id": "a8520fd9-0907-4c0c-a68f-8fdaec040e1a",
   "metadata": {},
   "outputs": [
    {
     "name": "stdout",
     "output_type": "stream",
     "text": [
      "Resource tracking complete. Process completed with status code: 0\n"
     ]
    }
   ],
   "source": [
    "!gpu-tracker -e 'sleep 2' -o out.txt "
   ]
  },
  {
   "cell_type": "code",
   "execution_count": 17,
   "id": "213550b7-d808-4e11-be37-f2f892e4834b",
   "metadata": {},
   "outputs": [
    {
     "name": "stdout",
     "output_type": "stream",
     "text": [
      "Max RAM:\n",
      "   Unit: gigabytes\n",
      "   System capacity: 67.254\n",
      "   System: 4.414\n",
      "   Main:\n",
      "      Total RSS: 0.002\n",
      "      Private RSS: 0.0\n",
      "      Shared RSS: 0.001\n",
      "   Descendents:\n",
      "      Total RSS: 0.0\n",
      "      Private RSS: 0.0\n",
      "      Shared RSS: 0.0\n",
      "   Combined:\n",
      "      Total RSS: 0.002\n",
      "      Private RSS: 0.0\n",
      "      Shared RSS: 0.001\n",
      "Max GPU RAM:\n",
      "   Unit: gigabytes\n",
      "   Main: 0.0\n",
      "   Descendents: 0.0\n",
      "   Combined: 0.0\n",
      "Compute time:\n",
      "   Unit: hours\n",
      "   Time: 0.0"
     ]
    }
   ],
   "source": [
    "!cat out.txt"
   ]
  },
  {
   "cell_type": "markdown",
   "id": "d1a10d46-867d-46ca-b432-c2859c308b70",
   "metadata": {},
   "source": [
    "By default, the format of the output is \"text\". The `-f` or `--format` option can specify the format to be \"json\" instead. "
   ]
  },
  {
   "cell_type": "code",
   "execution_count": 18,
   "id": "f6fd29d2-cad6-4f9c-8af8-ccf4f0e721d3",
   "metadata": {},
   "outputs": [
    {
     "name": "stdout",
     "output_type": "stream",
     "text": [
      "Resource tracking complete. Process completed with status code: 0\n",
      "{\n",
      " \"max_ram\": {\n",
      "  \"unit\": \"gigabytes\",\n",
      "  \"system_capacity\": 67.254161408,\n",
      "  \"system\": 4.414156800000001,\n",
      "  \"main\": {\n",
      "   \"total_rss\": 0.0015892480000000001,\n",
      "   \"private_rss\": 0.00013516800000000002,\n",
      "   \"shared_rss\": 0.0014540800000000002\n",
      "  },\n",
      "  \"descendents\": {\n",
      "   \"total_rss\": 0.0,\n",
      "   \"private_rss\": 0.0,\n",
      "   \"shared_rss\": 0.0\n",
      "  },\n",
      "  \"combined\": {\n",
      "   \"total_rss\": 0.0015892480000000001,\n",
      "   \"private_rss\": 0.00013516800000000002,\n",
      "   \"shared_rss\": 0.0014540800000000002\n",
      "  }\n",
      " },\n",
      " \"max_gpu_ram\": {\n",
      "  \"unit\": \"gigabytes\",\n",
      "  \"main\": 0.0,\n",
      "  \"descendents\": 0.0,\n",
      "  \"combined\": 0.0\n",
      " },\n",
      " \"compute_time\": {\n",
      "  \"unit\": \"hours\",\n",
      "  \"time\": 0.00029873490333557127\n",
      " }\n",
      "}\n"
     ]
    }
   ],
   "source": [
    "!gpu-tracker -e 'sleep 2' -f json"
   ]
  },
  {
   "cell_type": "code",
   "execution_count": 19,
   "id": "5c825e42-d100-4533-b218-c36f6380e6ed",
   "metadata": {},
   "outputs": [
    {
     "name": "stdout",
     "output_type": "stream",
     "text": [
      "Resource tracking complete. Process completed with status code: 0\n"
     ]
    }
   ],
   "source": [
    "!gpu-tracker -e 'sleep 2' -f json -o out.json"
   ]
  },
  {
   "cell_type": "code",
   "execution_count": 20,
   "id": "c821972e-0bed-4245-8933-27b0b28589de",
   "metadata": {},
   "outputs": [
    {
     "name": "stdout",
     "output_type": "stream",
     "text": [
      "{\n",
      " \"max_ram\": {\n",
      "  \"unit\": \"gigabytes\",\n",
      "  \"system_capacity\": 67.254161408,\n",
      "  \"system\": 4.407083008,\n",
      "  \"main\": {\n",
      "   \"total_rss\": 0.001830912,\n",
      "   \"private_rss\": 0.00013516800000000002,\n",
      "   \"shared_rss\": 0.0016957440000000001\n",
      "  },\n",
      "  \"descendents\": {\n",
      "   \"total_rss\": 0.0,\n",
      "   \"private_rss\": 0.0,\n",
      "   \"shared_rss\": 0.0\n",
      "  },\n",
      "  \"combined\": {\n",
      "   \"total_rss\": 0.001830912,\n",
      "   \"private_rss\": 0.00013516800000000002,\n",
      "   \"shared_rss\": 0.0016957440000000001\n",
      "  }\n",
      " },\n",
      " \"max_gpu_ram\": {\n",
      "  \"unit\": \"gigabytes\",\n",
      "  \"main\": 0.0,\n",
      "  \"descendents\": 0.0,\n",
      "  \"combined\": 0.0\n",
      " },\n",
      " \"compute_time\": {\n",
      "  \"unit\": \"hours\",\n",
      "  \"time\": 0.0002994798951678806\n",
      " }\n",
      "}"
     ]
    }
   ],
   "source": [
    "!cat out.json"
   ]
  }
 ],
 "metadata": {
  "kernelspec": {
   "display_name": "Python 3 (ipykernel)",
   "language": "python",
   "name": "python3"
  },
  "language_info": {
   "codemirror_mode": {
    "name": "ipython",
    "version": 3
   },
   "file_extension": ".py",
   "mimetype": "text/x-python",
   "name": "python",
   "nbconvert_exporter": "python",
   "pygments_lexer": "ipython3",
   "version": "3.12.2"
  }
 },
 "nbformat": 4,
 "nbformat_minor": 5
}
