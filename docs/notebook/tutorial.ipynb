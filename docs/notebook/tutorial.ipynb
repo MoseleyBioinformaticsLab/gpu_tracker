{
 "cells": [
  {
   "cell_type": "markdown",
   "id": "32566971-73e6-47c8-b27e-d6def06bec4e",
   "metadata": {},
   "source": [
    "# Tutorial"
   ]
  },
  {
   "cell_type": "markdown",
   "id": "51c6e812-ad8f-4061-b5dc-22ccfdd15b1c",
   "metadata": {},
   "source": [
    "## API"
   ]
  },
  {
   "cell_type": "markdown",
   "id": "2bb9e84a-8523-4e5f-bc01-1d6b234c19a6",
   "metadata": {},
   "source": [
    "The `gpu_tracker` package provides the `Tracker` class which uses a subprocess to measure computational resource usage, namely the compute time, maximum CPU utilization, mean CPU utilization, maximum RAM used, maximum GPU utilization, mean GPU utilization, and maximum GPU RAM used. The `start()` method starts this process which tracks usage in the background. After calling `start()`, one can write the code for which resource usage is measured, followed by calling the `stop()` method. The compute time will be the time from the call to `start()` to the call to `stop()` and the RAM, GPU RAM, CPU utilization, and GPU utilization quantities will be the respective computational resources used by the code that's in between `start()` and `stop()`."
   ]
  },
  {
   "cell_type": "code",
   "execution_count": 1,
   "id": "2ac7e291-08e4-4f88-a38c-02023dd813c1",
   "metadata": {},
   "outputs": [],
   "source": [
    "import gpu_tracker as gput\n",
    "from example_module import example_function"
   ]
  },
  {
   "cell_type": "code",
   "execution_count": 2,
   "id": "5ad59e55-2bde-4453-9727-2302aa8c231a",
   "metadata": {},
   "outputs": [],
   "source": [
    "tracker = gput.Tracker(n_expected_cores=1, sleep_time=0.1)\n",
    "tracker.start()\n",
    "example_function()\n",
    "tracker.stop()"
   ]
  },
  {
   "cell_type": "markdown",
   "id": "0a02518b-f55a-4119-8fc1-2daac6429e44",
   "metadata": {},
   "source": [
    "The `Tracker` class implements the `__str__` method so it can be printed as a string with the values and units of each computational resource formatted."
   ]
  },
  {
   "cell_type": "code",
   "execution_count": 3,
   "id": "710e11da-7a70-49fe-be6d-c1d25ce9d53f",
   "metadata": {},
   "outputs": [
    {
     "name": "stdout",
     "output_type": "stream",
     "text": [
      "Max RAM:\n",
      "   Unit: gigabytes\n",
      "   System capacity: 63.088\n",
      "   System: 1.899\n",
      "   Main:\n",
      "      Total RSS: 0.914\n",
      "      Private RSS: 0.753\n",
      "      Shared RSS: 0.161\n",
      "   Descendents:\n",
      "      Total RSS: 0.0\n",
      "      Private RSS: 0.0\n",
      "      Shared RSS: 0.0\n",
      "   Combined:\n",
      "      Total RSS: 0.883\n",
      "      Private RSS: 0.723\n",
      "      Shared RSS: 0.161\n",
      "Max GPU RAM:\n",
      "   Unit: gigabytes\n",
      "   System capacity: 2.048\n",
      "   System: 0.353\n",
      "   Main: 0.277\n",
      "   Descendents: 0.0\n",
      "   Combined: 0.277\n",
      "CPU utilization:\n",
      "   System core count: 12\n",
      "   Number of expected cores: 1\n",
      "   System:\n",
      "      Max sum percent: 169.7\n",
      "      Max hardware percent: 14.142\n",
      "      Mean sum percent: 150.183\n",
      "      Mean hardware percent: 12.515\n",
      "   Main:\n",
      "      Max sum percent: 101.2\n",
      "      Max hardware percent: 101.2\n",
      "      Mean sum percent: 93.158\n",
      "      Mean hardware percent: 93.158\n",
      "   Descendents:\n",
      "      Max sum percent: 0.0\n",
      "      Max hardware percent: 0.0\n",
      "      Mean sum percent: 0.0\n",
      "      Mean hardware percent: 0.0\n",
      "   Combined:\n",
      "      Max sum percent: 101.2\n",
      "      Max hardware percent: 101.2\n",
      "      Mean sum percent: 93.158\n",
      "      Mean hardware percent: 93.158\n",
      "   Main number of threads: 24\n",
      "   Descendents number of threads: 0\n",
      "   Combined number of threads: 24\n",
      "GPU utilization:\n",
      "   System GPU count: 1\n",
      "   Number of expected GPUs: 1\n",
      "   GPU percentages:\n",
      "      Max sum percent: 4.0\n",
      "      Max hardware percent: 4.0\n",
      "      Mean sum percent: 0.333\n",
      "      Mean hardware percent: 0.333\n",
      "Compute time:\n",
      "   Unit: hours\n",
      "   Time: 0.001\n"
     ]
    }
   ],
   "source": [
    "print(tracker)"
   ]
  },
  {
   "cell_type": "markdown",
   "id": "fc7819ab-a3fc-4a29-8a5c-1790e192a465",
   "metadata": {},
   "source": [
    "The output is organized by computational resource followed by information specific to that resource. The system capacity is a constant for the total RAM capacity across the entire operating system. There is a system capacity field both for RAM and GPU RAM. This is not to be confused with the system field, which measures the maximum RAM / GPU RAM (operating system wide) that was actually used over the duration of the computational-resource tracking. Both the RAM and GPU RAM have 3 additional fields, namely the usage of the main process itself followed by the summed usage of any descendent processes it may have (i.e. child processes, grandchild processes, etc.), and combined usage which is the sum of the main and its descendent processes. RAM is divided further to include the private RSS (RAM usage unique to the process), shared RSS (RAM that's shared by a process and at least one other process), and total RSS (the sum of private and shared RSS). The private and shared RSS values are only available on Linux distributions. So for non-linux operating systems, the private and shared RSS will remain 0 and only the total RSS will be reported. Theoretically, the combined total RSS would never exceed the overall system RAM usage, but inaccuracies resulting from shared RSS can cause this to happen, especially for non-linux operating systems (see note below).\n",
    "\n",
    "The `Tracker` assumes that GPU memory is not shared across multiple processes and if it is, the reported GPU RAM of \"descendent\" and \"combined\" may be an overestimation.\n",
    "\n",
    "The CPU utilization includes the system core count field which is the total number of cores available system-wide. Utilization is measured for the main process, its descendents, the main process and its descendents combined, and CPU utilization across the entire system. The sum percent is the sum of the percentages of all the cores being used. The hardware percent is that divided by the expected number of cores being used i.e. the optional `n_expected_cores` parameter (defaults to the number of cores in the entire system) for the main, descendents, and combined measurements. For the system measurements, hardware percent is divided by the total number of cores in the system regardless of the value of `n_expected_cores`. The max percent is the highest percentage detected through the duration of tracking while the mean percent is the average of all the percentages detected over that duration. The CPU utilization concludes with the maximum number of threads used at any time for the main process and the sum of the threads used across its descendent processes and combined.\n",
    "\n",
    "The GPU utilization is similar to the CPU utilization but rather than being based on utilization of processes, it can only measure the utilization percentages of the GPUs themselves, regardless of what processes are using them. To ameliorate this limitation, the optional `gpu_uuids` parameter can be set to specify which GPUs to measure utilization for (defaults to all the GPUs in the system). The system GPU count is the total number of GPUs in the system.  The sum percent is the sum of all the percentages of these GPUs and the hardware percent is that divided by the expected number of GPUs being used (i.e. `len(gpu_uuids)`). Likewise with CPU utilization, the max and mean of both the sum and hardware percentages are provided.\n",
    "\n",
    "The compute time is the real time that the computational-resource tracking lasted (as compared to CPU time)."
   ]
  },
  {
   "cell_type": "markdown",
   "id": "9eb6f048-68cf-4dc5-b11d-cdcdf39bde3a",
   "metadata": {},
   "source": [
    "***NOTE** The keywords \"descendents\" and \"combined\" in the output above indicate a sum of the RSS used by multiple processes. It's important to keep in mind that on non-linux operating systems, this sum does not take into account shared memory but rather adds up the total RSS of all processes, which can lead to an overestimation. For Linux distributions, however, pieces of shared memory are only counted once.*"
   ]
  },
  {
   "cell_type": "markdown",
   "id": "dbf7ad83-21d0-4cd2-adbb-278fa80d2b13",
   "metadata": {},
   "source": [
    "The `Tracker` can alternatively be used as a context manager rather than explicitly calling `start()` and `stop()`."
   ]
  },
  {
   "cell_type": "code",
   "execution_count": 4,
   "id": "08f688f4-f1b6-41dc-91f9-76f9c7e0fdb3",
   "metadata": {},
   "outputs": [],
   "source": [
    "with gput.Tracker() as tracker:\n",
    "    example_function()"
   ]
  },
  {
   "cell_type": "markdown",
   "id": "7c7afe26-b2e0-4a4a-ba88-327ed6d4bb63",
   "metadata": {},
   "source": [
    "The units of the computational resources can be modified as desired. For example, to measure the RAM in megabytes, the GPU RAM in megabytes, and the compute time in seconds:"
   ]
  },
  {
   "cell_type": "code",
   "execution_count": 5,
   "id": "09201850-de04-4864-a7e2-3747d4fb9b3a",
   "metadata": {},
   "outputs": [
    {
     "name": "stdout",
     "output_type": "stream",
     "text": [
      "Max RAM:\n",
      "   Unit: megabytes\n",
      "   System capacity: 63088.23\n",
      "   System: 2399.92\n",
      "   Main:\n",
      "      Total RSS: 890.704\n",
      "      Private RSS: 674.058\n",
      "      Shared RSS: 216.924\n",
      "   Descendents:\n",
      "      Total RSS: 0.0\n",
      "      Private RSS: 0.0\n",
      "      Shared RSS: 0.0\n",
      "   Combined:\n",
      "      Total RSS: 901.263\n",
      "      Private RSS: 684.618\n",
      "      Shared RSS: 216.678\n",
      "Max GPU RAM:\n",
      "   Unit: megabytes\n",
      "   System capacity: 2048.0\n",
      "   System: 353.0\n",
      "   Main: 277.0\n",
      "   Descendents: 0.0\n",
      "   Combined: 277.0\n",
      "CPU utilization:\n",
      "   System core count: 12\n",
      "   Number of expected cores: 12\n",
      "   System:\n",
      "      Max sum percent: 164.3\n",
      "      Max hardware percent: 13.692\n",
      "      Mean sum percent: 152.325\n",
      "      Mean hardware percent: 12.694\n",
      "   Main:\n",
      "      Max sum percent: 102.6\n",
      "      Max hardware percent: 8.55\n",
      "      Mean sum percent: 91.258\n",
      "      Mean hardware percent: 7.605\n",
      "   Descendents:\n",
      "      Max sum percent: 0.0\n",
      "      Max hardware percent: 0.0\n",
      "      Mean sum percent: 0.0\n",
      "      Mean hardware percent: 0.0\n",
      "   Combined:\n",
      "      Max sum percent: 102.6\n",
      "      Max hardware percent: 8.55\n",
      "      Mean sum percent: 91.258\n",
      "      Mean hardware percent: 7.605\n",
      "   Main number of threads: 24\n",
      "   Descendents number of threads: 0\n",
      "   Combined number of threads: 24\n",
      "GPU utilization:\n",
      "   System GPU count: 1\n",
      "   Number of expected GPUs: 1\n",
      "   GPU percentages:\n",
      "      Max sum percent: 6.0\n",
      "      Max hardware percent: 6.0\n",
      "      Mean sum percent: 0.5\n",
      "      Mean hardware percent: 0.5\n",
      "Compute time:\n",
      "   Unit: seconds\n",
      "   Time: 3.346\n"
     ]
    }
   ],
   "source": [
    "with gput.Tracker(ram_unit='megabytes', gpu_ram_unit='megabytes', time_unit='seconds', sleep_time=0.1) as tracker:\n",
    "    example_function()\n",
    "print(tracker)"
   ]
  },
  {
   "cell_type": "markdown",
   "id": "2323016e-f390-4584-b540-a330af5b635e",
   "metadata": {},
   "source": [
    "The same information as the text format can be provided as a dictionary via the `to_json()` method of the `Tracker`."
   ]
  },
  {
   "cell_type": "code",
   "execution_count": 6,
   "id": "85291150-bac7-4057-8ce6-35dfb6badb88",
   "metadata": {},
   "outputs": [
    {
     "name": "stdout",
     "output_type": "stream",
     "text": [
      "{\n",
      " \"max_ram\": {\n",
      "  \"unit\": \"megabytes\",\n",
      "  \"system_capacity\": 63088.2304,\n",
      "  \"system\": 2399.9201279999997,\n",
      "  \"main\": {\n",
      "   \"total_rss\": 890.7038719999999,\n",
      "   \"private_rss\": 674.05824,\n",
      "   \"shared_rss\": 216.92416\n",
      "  },\n",
      "  \"descendents\": {\n",
      "   \"total_rss\": 0.0,\n",
      "   \"private_rss\": 0.0,\n",
      "   \"shared_rss\": 0.0\n",
      "  },\n",
      "  \"combined\": {\n",
      "   \"total_rss\": 901.2633599999999,\n",
      "   \"private_rss\": 684.6177279999999,\n",
      "   \"shared_rss\": 216.67839999999998\n",
      "  }\n",
      " },\n",
      " \"max_gpu_ram\": {\n",
      "  \"unit\": \"megabytes\",\n",
      "  \"system_capacity\": 2048.0,\n",
      "  \"system\": 353.0,\n",
      "  \"main\": 277.0,\n",
      "  \"descendents\": 0.0,\n",
      "  \"combined\": 277.0\n",
      " },\n",
      " \"cpu_utilization\": {\n",
      "  \"system_core_count\": 12,\n",
      "  \"n_expected_cores\": 12,\n",
      "  \"system\": {\n",
      "   \"max_sum_percent\": 164.3,\n",
      "   \"max_hardware_percent\": 13.691666666666668,\n",
      "   \"mean_sum_percent\": 152.325,\n",
      "   \"mean_hardware_percent\": 12.693750000000001\n",
      "  },\n",
      "  \"main\": {\n",
      "   \"max_sum_percent\": 102.6,\n",
      "   \"max_hardware_percent\": 8.549999999999999,\n",
      "   \"mean_sum_percent\": 91.25833333333334,\n",
      "   \"mean_hardware_percent\": 7.604861111111112\n",
      "  },\n",
      "  \"descendents\": {\n",
      "   \"max_sum_percent\": 0.0,\n",
      "   \"max_hardware_percent\": 0.0,\n",
      "   \"mean_sum_percent\": 0.0,\n",
      "   \"mean_hardware_percent\": 0.0\n",
      "  },\n",
      "  \"combined\": {\n",
      "   \"max_sum_percent\": 102.6,\n",
      "   \"max_hardware_percent\": 8.549999999999999,\n",
      "   \"mean_sum_percent\": 91.25833333333334,\n",
      "   \"mean_hardware_percent\": 7.604861111111112\n",
      "  },\n",
      "  \"main_n_threads\": 24,\n",
      "  \"descendents_n_threads\": 0,\n",
      "  \"combined_n_threads\": 24\n",
      " },\n",
      " \"gpu_utilization\": {\n",
      "  \"system_gpu_count\": 1,\n",
      "  \"n_expected_gpus\": 1,\n",
      "  \"gpu_percentages\": {\n",
      "   \"max_sum_percent\": 6.0,\n",
      "   \"max_hardware_percent\": 6.0,\n",
      "   \"mean_sum_percent\": 0.5,\n",
      "   \"mean_hardware_percent\": 0.5\n",
      "  }\n",
      " },\n",
      " \"compute_time\": {\n",
      "  \"unit\": \"seconds\",\n",
      "  \"time\": 3.345628023147583\n",
      " }\n",
      "}\n"
     ]
    }
   ],
   "source": [
    "import json\n",
    "print(json.dumps(tracker.to_json(), indent=1))"
   ]
  },
  {
   "cell_type": "markdown",
   "id": "3ab1039a-09bc-44b7-b106-37e6986869d4",
   "metadata": {},
   "source": [
    "Using Python data classes, the `Tracker` class additionally has a `resource_usage` attribute containing fields that provide the usage information for each individual computational resource."
   ]
  },
  {
   "cell_type": "code",
   "execution_count": 7,
   "id": "882210f5-233f-4ca9-b2ca-8b187d0d7d7e",
   "metadata": {},
   "outputs": [
    {
     "data": {
      "text/plain": [
       "MaxRAM(unit='megabytes', system_capacity=63088.2304, system=2399.9201279999997, main=RSSValues(total_rss=890.7038719999999, private_rss=674.05824, shared_rss=216.92416), descendents=RSSValues(total_rss=0.0, private_rss=0.0, shared_rss=0.0), combined=RSSValues(total_rss=901.2633599999999, private_rss=684.6177279999999, shared_rss=216.67839999999998))"
      ]
     },
     "execution_count": 7,
     "metadata": {},
     "output_type": "execute_result"
    }
   ],
   "source": [
    "tracker.resource_usage.max_ram"
   ]
  },
  {
   "cell_type": "code",
   "execution_count": 8,
   "id": "4a380bd0-199c-4c50-9592-05519b00da7c",
   "metadata": {},
   "outputs": [
    {
     "data": {
      "text/plain": [
       "'megabytes'"
      ]
     },
     "execution_count": 8,
     "metadata": {},
     "output_type": "execute_result"
    }
   ],
   "source": [
    "tracker.resource_usage.max_ram.unit"
   ]
  },
  {
   "cell_type": "code",
   "execution_count": 9,
   "id": "0e4c0b1a-8a4c-40d7-9270-a2274456575b",
   "metadata": {},
   "outputs": [
    {
     "data": {
      "text/plain": [
       "RSSValues(total_rss=890.7038719999999, private_rss=674.05824, shared_rss=216.92416)"
      ]
     },
     "execution_count": 9,
     "metadata": {},
     "output_type": "execute_result"
    }
   ],
   "source": [
    "tracker.resource_usage.max_ram.main"
   ]
  },
  {
   "cell_type": "code",
   "execution_count": 10,
   "id": "47e6c47b-586a-4534-9346-76fcf3f5ab83",
   "metadata": {},
   "outputs": [
    {
     "data": {
      "text/plain": [
       "890.7038719999999"
      ]
     },
     "execution_count": 10,
     "metadata": {},
     "output_type": "execute_result"
    }
   ],
   "source": [
    "tracker.resource_usage.max_ram.main.total_rss"
   ]
  },
  {
   "cell_type": "code",
   "execution_count": 11,
   "id": "421c5118-7421-4681-bd16-b9697c28078e",
   "metadata": {},
   "outputs": [
    {
     "data": {
      "text/plain": [
       "MaxGPURAM(unit='megabytes', system_capacity=2048.0, system=353.0, main=277.0, descendents=0.0, combined=277.0)"
      ]
     },
     "execution_count": 11,
     "metadata": {},
     "output_type": "execute_result"
    }
   ],
   "source": [
    "tracker.resource_usage.max_gpu_ram"
   ]
  },
  {
   "cell_type": "code",
   "execution_count": 12,
   "id": "8d047dfc-f7f8-4906-964a-16fd725f6e4b",
   "metadata": {},
   "outputs": [
    {
     "data": {
      "text/plain": [
       "ComputeTime(unit='seconds', time=3.345628023147583)"
      ]
     },
     "execution_count": 12,
     "metadata": {},
     "output_type": "execute_result"
    }
   ],
   "source": [
    "tracker.resource_usage.compute_time"
   ]
  },
  {
   "cell_type": "markdown",
   "id": "c2cacaf2-316f-463b-bccd-3a9cdcd89a66",
   "metadata": {},
   "source": [
    "Sometimes the code can fail. In order to collect the resource usage up to the point of failure, use a try/except block like so:"
   ]
  },
  {
   "cell_type": "code",
   "execution_count": 13,
   "id": "8de6c83f-63b1-4fd3-ae22-a87bd760aad2",
   "metadata": {},
   "outputs": [
    {
     "name": "stdout",
     "output_type": "stream",
     "text": [
      "The following error occured while tracking: AN ERROR\n",
      "0.277\n"
     ]
    }
   ],
   "source": [
    "try:\n",
    "    with gput.Tracker() as tracker:\n",
    "        example_function()\n",
    "        raise RuntimeError('AN ERROR')\n",
    "except Exception as error:\n",
    "    print(f'The following error occured while tracking: {error}')\n",
    "finally:\n",
    "    print(tracker.resource_usage.max_gpu_ram.main)"
   ]
  },
  {
   "cell_type": "markdown",
   "id": "57c1c857-175d-4497-bee8-28c615f31ac4",
   "metadata": {},
   "source": [
    "Below is an example of using a child process. Notice the descendents fields are now non-zero."
   ]
  },
  {
   "cell_type": "code",
   "execution_count": 23,
   "id": "f429ced6-573b-4f0f-ad64-658e9c05242d",
   "metadata": {},
   "outputs": [
    {
     "name": "stdout",
     "output_type": "stream",
     "text": [
      "Max RAM:\n",
      "   Unit: gigabytes\n",
      "   System capacity: 63.088\n",
      "   System: 2.877\n",
      "   Main:\n",
      "      Total RSS: 0.844\n",
      "      Private RSS: 0.525\n",
      "      Shared RSS: 0.319\n",
      "   Descendents:\n",
      "      Total RSS: 0.831\n",
      "      Private RSS: 0.704\n",
      "      Shared RSS: 0.127\n",
      "   Combined:\n",
      "      Total RSS: 1.462\n",
      "      Private RSS: 1.148\n",
      "      Shared RSS: 0.32\n",
      "Max GPU RAM:\n",
      "   Unit: gigabytes\n",
      "   System capacity: 2.048\n",
      "   System: 0.631\n",
      "   Main: 0.277\n",
      "   Descendents: 0.277\n",
      "   Combined: 0.554\n",
      "CPU utilization:\n",
      "   System core count: 12\n",
      "   Number of expected cores: 2\n",
      "   System:\n",
      "      Max sum percent: 398.9\n",
      "      Max hardware percent: 33.242\n",
      "      Mean sum percent: 222.255\n",
      "      Mean hardware percent: 18.521\n",
      "   Main:\n",
      "      Max sum percent: 103.8\n",
      "      Max hardware percent: 51.9\n",
      "      Mean sum percent: 66.009\n",
      "      Mean hardware percent: 33.005\n",
      "   Descendents:\n",
      "      Max sum percent: 308.5\n",
      "      Max hardware percent: 154.25\n",
      "      Mean sum percent: 117.109\n",
      "      Mean hardware percent: 58.555\n",
      "   Combined:\n",
      "      Max sum percent: 409.2\n",
      "      Max hardware percent: 204.6\n",
      "      Mean sum percent: 183.118\n",
      "      Mean hardware percent: 91.559\n",
      "   Main number of threads: 24\n",
      "   Descendents number of threads: 16\n",
      "   Combined number of threads: 40\n",
      "GPU utilization:\n",
      "   System GPU count: 1\n",
      "   Number of expected GPUs: 1\n",
      "   GPU percentages:\n",
      "      Max sum percent: 6.0\n",
      "      Max hardware percent: 6.0\n",
      "      Mean sum percent: 0.545\n",
      "      Mean hardware percent: 0.545\n",
      "Compute time:\n",
      "   Unit: hours\n",
      "   Time: 0.001\n"
     ]
    }
   ],
   "source": [
    "import multiprocessing as mp\n",
    "ctx = mp.get_context(method='spawn')\n",
    "child_process = ctx.Process(target=example_function)\n",
    "with gput.Tracker(n_expected_cores=2, sleep_time=0.2) as tracker:\n",
    "    child_process.start()\n",
    "    example_function()\n",
    "    child_process.join()\n",
    "child_process.close()\n",
    "print(tracker)"
   ]
  },
  {
   "cell_type": "markdown",
   "id": "c3db85b4-fe2b-4a5a-9b7e-6d390fe39d1c",
   "metadata": {},
   "source": [
    "## CLI"
   ]
  },
  {
   "cell_type": "markdown",
   "id": "54a3a61b-81cf-4a65-85af-7ba15a111970",
   "metadata": {},
   "source": [
    "The `gpu-tracker` package also comes with a commandline interface that can track the computational-resource-usage of any shell command, not just Python code. Entering `gpu-tracker -h` in a shell will show the help message."
   ]
  },
  {
   "cell_type": "code",
   "execution_count": 15,
   "id": "f7deae10-a16b-4a38-acc6-c354911200ab",
   "metadata": {},
   "outputs": [
    {
     "name": "stdout",
     "output_type": "stream",
     "text": [
      "Tracks the computational resource usage (RAM, GPU RAM, CPU utilization, GPU utilization, and compute time) of a process corresponding to a given shell command.\n",
      "\n",
      "Usage:\n",
      "    gpu-tracker -h | --help\n",
      "    gpu-tracker -v | --version\n",
      "    gpu-tracker --execute=<command> [--output=<output>] [--format=<format>] [--st=<sleep-time>] [--ru=<ram-unit>] [--gru=<gpu-ram-unit>] [--tu=<time-unit>] [--nec=<num-cores>] [--guuids=<gpu-uuids>] [--disable-logs]\n",
      "\n",
      "Options:\n",
      "    -h --help               Show this help message and exit.\n",
      "    -v --version            Show package version and exit.\n",
      "    -e --execute=<command>  The command to run along with its arguments all within quotes e.g. \"ls -l -a\".\n",
      "    -o --output=<output>    File path to store the computational-resource-usage measurements. If not set, prints measurements to the screen.\n",
      "    -f --format=<format>    File format of the output. Either 'json' or 'text'. Defaults to 'text'.\n",
      "    --st=<sleep-time>       The number of seconds to sleep in between usage-collection iterations.\n",
      "    --ru=<ram-unit>         One of 'bytes', 'kilobytes', 'megabytes', 'gigabytes', or 'terabytes'.\n",
      "    --gru=<gpu-ram-unit>    One of 'bytes', 'kilobytes', 'megabytes', 'gigabytes', or 'terabytes'.\n",
      "    --tu=<time-unit>        One of 'seconds', 'minutes', 'hours', or 'days'.\n",
      "    --nec=<num-cores>       The number of cores expected to be used. Defaults to the number of cores in the entire operating system.\n",
      "    --guuids=<gpu-uuids>    Comma separated list of the UUIDs of the GPUs for which to track utilization e.g. gpu-uuid1,gpu-uuid2,etc. Defaults to all the GPUs in the system.\n",
      "    --disable-logs          If set, warnings are suppressed during tracking. Otherwise, the Tracker logs warnings as usual.\n"
     ]
    }
   ],
   "source": [
    "!gpu-tracker -h"
   ]
  },
  {
   "cell_type": "markdown",
   "id": "deb01bb6-27e3-446e-885e-1b017e246230",
   "metadata": {},
   "source": [
    "The `-e` or `--execute` is a required option where the desired shell command is provided, with both the command and its proceeding arguments surrounded by quotes. Below is an example of running the `bash` command with an argument of `example-script.sh`. When the command completes, its status code is reported. "
   ]
  },
  {
   "cell_type": "code",
   "execution_count": 2,
   "id": "ea7c710f-a238-460d-836c-a979e1c72f4f",
   "metadata": {},
   "outputs": [
    {
     "name": "stdout",
     "output_type": "stream",
     "text": [
      "Resource tracking complete. Process completed with status code: 0\n",
      "Max RAM:\n",
      "   Unit: gigabytes\n",
      "   System capacity: 63.088\n",
      "   System: 2.3\n",
      "   Main:\n",
      "      Total RSS: 0.003\n",
      "      Private RSS: 0.0\n",
      "      Shared RSS: 0.003\n",
      "   Descendents:\n",
      "      Total RSS: 0.917\n",
      "      Private RSS: 0.905\n",
      "      Shared RSS: 0.012\n",
      "   Combined:\n",
      "      Total RSS: 0.925\n",
      "      Private RSS: 0.912\n",
      "      Shared RSS: 0.013\n",
      "Max GPU RAM:\n",
      "   Unit: gigabytes\n",
      "   System capacity: 2.048\n",
      "   System: 0.193\n",
      "   Main: 0.0\n",
      "   Descendents: 0.117\n",
      "   Combined: 0.117\n",
      "CPU utilization:\n",
      "   System core count: 12\n",
      "   Number of expected cores: 12\n",
      "   System:\n",
      "      Max sum percent: 309.5\n",
      "      Max hardware percent: 25.792\n",
      "      Mean sum percent: 159.073\n",
      "      Mean hardware percent: 13.256\n",
      "   Main:\n",
      "      Max sum percent: 0.0\n",
      "      Max hardware percent: 0.0\n",
      "      Mean sum percent: 0.0\n",
      "      Mean hardware percent: 0.0\n",
      "   Descendents:\n",
      "      Max sum percent: 493.1\n",
      "      Max hardware percent: 41.092\n",
      "      Mean sum percent: 134.427\n",
      "      Mean hardware percent: 11.202\n",
      "   Combined:\n",
      "      Max sum percent: 493.1\n",
      "      Max hardware percent: 41.092\n",
      "      Mean sum percent: 134.427\n",
      "      Mean hardware percent: 11.202\n",
      "   Main number of threads: 1\n",
      "   Descendents number of threads: 15\n",
      "   Combined number of threads: 16\n",
      "GPU utilization:\n",
      "   System GPU count: 1\n",
      "   Number of expected GPUs: 1\n",
      "   GPU percentages:\n",
      "      Max sum percent: 4.0\n",
      "      Max hardware percent: 4.0\n",
      "      Mean sum percent: 0.364\n",
      "      Mean hardware percent: 0.364\n",
      "Compute time:\n",
      "   Unit: hours\n",
      "   Time: 0.001\n"
     ]
    }
   ],
   "source": [
    "!gpu-tracker -e \"bash example-script.sh\" --st=0.3"
   ]
  },
  {
   "cell_type": "markdown",
   "id": "c45091e7-0e85-4a8d-8836-c2dce1bd547f",
   "metadata": {},
   "source": [
    "*Notice that the RAM and GPU RAM usage primarily takes place in the descendent processes since the bash command itself calls the commands relevant to resource usage.*"
   ]
  },
  {
   "cell_type": "markdown",
   "id": "5a59585a-d89d-4900-a785-29bf4bba7d9c",
   "metadata": {},
   "source": [
    "The units of the computational resources can be modified. For example, --tu stands for time-unit, --gru stands for gpu-ram-unit, and --ru stands for ram-unit."
   ]
  },
  {
   "cell_type": "code",
   "execution_count": 8,
   "id": "cff099a7-1070-42ba-9f2a-008d58863fe6",
   "metadata": {},
   "outputs": [
    {
     "name": "stdout",
     "output_type": "stream",
     "text": [
      "Resource tracking complete. Process completed with status code: 0\n",
      "Max RAM:\n",
      "   Unit: megabytes\n",
      "   System capacity: 63088.23\n",
      "   System: 2242.593\n",
      "   Main:\n",
      "      Total RSS: 3.039\n",
      "      Private RSS: 0.315\n",
      "      Shared RSS: 2.724\n",
      "   Descendents:\n",
      "      Total RSS: 832.487\n",
      "      Private RSS: 705.831\n",
      "      Shared RSS: 126.657\n",
      "   Combined:\n",
      "      Total RSS: 841.482\n",
      "      Private RSS: 713.867\n",
      "      Shared RSS: 127.992\n",
      "Max GPU RAM:\n",
      "   Unit: megabytes\n",
      "   System capacity: 2048.0\n",
      "   System: 631.0\n",
      "   Main: 0.0\n",
      "   Descendents: 277.0\n",
      "   Combined: 277.0\n",
      "CPU utilization:\n",
      "   System core count: 12\n",
      "   Number of expected cores: 12\n",
      "   System:\n",
      "      Max sum percent: 362.6\n",
      "      Max hardware percent: 30.217\n",
      "      Mean sum percent: 156.853\n",
      "      Mean hardware percent: 13.071\n",
      "   Main:\n",
      "      Max sum percent: 0.0\n",
      "      Max hardware percent: 0.0\n",
      "      Mean sum percent: 0.0\n",
      "      Mean hardware percent: 0.0\n",
      "   Descendents:\n",
      "      Max sum percent: 512.8\n",
      "      Max hardware percent: 42.733\n",
      "      Mean sum percent: 120.333\n",
      "      Mean hardware percent: 10.028\n",
      "   Combined:\n",
      "      Max sum percent: 512.8\n",
      "      Max hardware percent: 42.733\n",
      "      Mean sum percent: 120.333\n",
      "      Mean hardware percent: 10.028\n",
      "   Main number of threads: 1\n",
      "   Descendents number of threads: 15\n",
      "   Combined number of threads: 16\n",
      "GPU utilization:\n",
      "   System GPU count: 1\n",
      "   Number of expected GPUs: 1\n",
      "   GPU percentages:\n",
      "      Max sum percent: 4.0\n",
      "      Max hardware percent: 4.0\n",
      "      Mean sum percent: 0.267\n",
      "      Mean hardware percent: 0.267\n",
      "Compute time:\n",
      "   Unit: seconds\n",
      "   Time: 4.931\n"
     ]
    }
   ],
   "source": [
    "!gpu-tracker -e 'bash example-script.sh' --tu=seconds --gru=megabytes --ru=megabytes --st=0.2"
   ]
  },
  {
   "cell_type": "markdown",
   "id": "5f904cc3-17f5-4ee5-bb91-97ab71c77abe",
   "metadata": {},
   "source": [
    "By default, the computational-resource-usage statistics are printed to the screen. The `-o` or `--output` option can be specified to store that same content in a file."
   ]
  },
  {
   "cell_type": "code",
   "execution_count": 12,
   "id": "a8520fd9-0907-4c0c-a68f-8fdaec040e1a",
   "metadata": {},
   "outputs": [
    {
     "name": "stdout",
     "output_type": "stream",
     "text": [
      "Resource tracking complete. Process completed with status code: 0\n"
     ]
    }
   ],
   "source": [
    "!gpu-tracker -e 'bash example-script.sh' -o out.txt --st=0.2"
   ]
  },
  {
   "cell_type": "code",
   "execution_count": 13,
   "id": "213550b7-d808-4e11-be37-f2f892e4834b",
   "metadata": {},
   "outputs": [
    {
     "name": "stdout",
     "output_type": "stream",
     "text": [
      "Max RAM:\n",
      "   Unit: gigabytes\n",
      "   System capacity: 63.088\n",
      "   System: 2.683\n",
      "   Main:\n",
      "      Total RSS: 0.003\n",
      "      Private RSS: 0.0\n",
      "      Shared RSS: 0.003\n",
      "   Descendents:\n",
      "      Total RSS: 0.843\n",
      "      Private RSS: 0.717\n",
      "      Shared RSS: 0.127\n",
      "   Combined:\n",
      "      Total RSS: 0.852\n",
      "      Private RSS: 0.725\n",
      "      Shared RSS: 0.128\n",
      "Max GPU RAM:\n",
      "   Unit: gigabytes\n",
      "   System capacity: 2.048\n",
      "   System: 0.631\n",
      "   Main: 0.0\n",
      "   Descendents: 0.277\n",
      "   Combined: 0.277\n",
      "CPU utilization:\n",
      "   System core count: 12\n",
      "   Number of expected cores: 12\n",
      "   System:\n",
      "      Max sum percent: 383.8\n",
      "      Max hardware percent: 31.983\n",
      "      Mean sum percent: 166.507\n",
      "      Mean hardware percent: 13.876\n",
      "   Main:\n",
      "      Max sum percent: 0.0\n",
      "      Max hardware percent: 0.0\n",
      "      Mean sum percent: 0.0\n",
      "      Mean hardware percent: 0.0\n",
      "   Descendents:\n",
      "      Max sum percent: 528.4\n",
      "      Max hardware percent: 44.033\n",
      "      Mean sum percent: 128.014\n",
      "      Mean hardware percent: 10.668\n",
      "   Combined:\n",
      "      Max sum percent: 528.4\n",
      "      Max hardware percent: 44.033\n",
      "      Mean sum percent: 128.014\n",
      "      Mean hardware percent: 10.668\n",
      "   Main number of threads: 1\n",
      "   Descendents number of threads: 15\n",
      "   Combined number of threads: 16\n",
      "GPU utilization:\n",
      "   System GPU count: 1\n",
      "   Number of expected GPUs: 1\n",
      "   GPU percentages:\n",
      "      Max sum percent: 7.0\n",
      "      Max hardware percent: 7.0\n",
      "      Mean sum percent: 0.643\n",
      "      Mean hardware percent: 0.643\n",
      "Compute time:\n",
      "   Unit: hours\n",
      "   Time: 0.001"
     ]
    }
   ],
   "source": [
    "!cat out.txt"
   ]
  },
  {
   "cell_type": "markdown",
   "id": "d1a10d46-867d-46ca-b432-c2859c308b70",
   "metadata": {},
   "source": [
    "By default, the format of the output is \"text\". The `-f` or `--format` option can specify the format to be \"json\" instead. "
   ]
  },
  {
   "cell_type": "code",
   "execution_count": 26,
   "id": "f6fd29d2-cad6-4f9c-8af8-ccf4f0e721d3",
   "metadata": {},
   "outputs": [
    {
     "name": "stdout",
     "output_type": "stream",
     "text": [
      "Resource tracking complete. Process completed with status code: 0\n",
      "{\n",
      " \"max_ram\": {\n",
      "  \"unit\": \"gigabytes\",\n",
      "  \"system_capacity\": 63.0882304,\n",
      "  \"system\": 3.111936,\n",
      "  \"main\": {\n",
      "   \"total_rss\": 0.003059712,\n",
      "   \"private_rss\": 0.000339968,\n",
      "   \"shared_rss\": 0.002719744\n",
      "  },\n",
      "  \"descendents\": {\n",
      "   \"total_rss\": 0.846565376,\n",
      "   \"private_rss\": 0.7198023680000001,\n",
      "   \"shared_rss\": 0.12713984\n",
      "  },\n",
      "  \"combined\": {\n",
      "   \"total_rss\": 0.8552325120000001,\n",
      "   \"private_rss\": 0.727576576,\n",
      "   \"shared_rss\": 0.12803276800000002\n",
      "  }\n",
      " },\n",
      " \"max_gpu_ram\": {\n",
      "  \"unit\": \"gigabytes\",\n",
      "  \"system_capacity\": 2.048,\n",
      "  \"system\": 0.631,\n",
      "  \"main\": 0.0,\n",
      "  \"descendents\": 0.277,\n",
      "  \"combined\": 0.277\n",
      " },\n",
      " \"cpu_utilization\": {\n",
      "  \"system_core_count\": 12,\n",
      "  \"n_expected_cores\": 12,\n",
      "  \"system\": {\n",
      "   \"max_sum_percent\": 384.5999999999999,\n",
      "   \"max_hardware_percent\": 32.04999999999999,\n",
      "   \"mean_sum_percent\": 167.49285714285716,\n",
      "   \"mean_hardware_percent\": 13.957738095238097\n",
      "  },\n",
      "  \"main\": {\n",
      "   \"max_sum_percent\": 0.0,\n",
      "   \"max_hardware_percent\": 0.0,\n",
      "   \"mean_sum_percent\": 0.0,\n",
      "   \"mean_hardware_percent\": 0.0\n",
      "  },\n",
      "  \"descendents\": {\n",
      "   \"max_sum_percent\": 526.0,\n",
      "   \"max_hardware_percent\": 43.833333333333336,\n",
      "   \"mean_sum_percent\": 128.65,\n",
      "   \"mean_hardware_percent\": 10.720833333333333\n",
      "  },\n",
      "  \"combined\": {\n",
      "   \"max_sum_percent\": 526.0,\n",
      "   \"max_hardware_percent\": 43.833333333333336,\n",
      "   \"mean_sum_percent\": 128.65,\n",
      "   \"mean_hardware_percent\": 10.720833333333333\n",
      "  },\n",
      "  \"main_n_threads\": 1,\n",
      "  \"descendents_n_threads\": 15,\n",
      "  \"combined_n_threads\": 16\n",
      " },\n",
      " \"gpu_utilization\": {\n",
      "  \"system_gpu_count\": 1,\n",
      "  \"n_expected_gpus\": 1,\n",
      "  \"gpu_percentages\": {\n",
      "   \"max_sum_percent\": 7.0,\n",
      "   \"max_hardware_percent\": 7.0,\n",
      "   \"mean_sum_percent\": 0.5,\n",
      "   \"mean_hardware_percent\": 0.5\n",
      "  }\n",
      " },\n",
      " \"compute_time\": {\n",
      "  \"unit\": \"hours\",\n",
      "  \"time\": 0.0012672905127207438\n",
      " }\n",
      "}\n"
     ]
    }
   ],
   "source": [
    "!gpu-tracker -e 'bash example-script.sh' -f json --st=0.2"
   ]
  },
  {
   "cell_type": "code",
   "execution_count": 27,
   "id": "5c825e42-d100-4533-b218-c36f6380e6ed",
   "metadata": {},
   "outputs": [
    {
     "name": "stdout",
     "output_type": "stream",
     "text": [
      "Resource tracking complete. Process completed with status code: 0\n"
     ]
    }
   ],
   "source": [
    "!gpu-tracker -e 'bash example-script.sh' -f json -o out.json --st=0.3"
   ]
  },
  {
   "cell_type": "code",
   "execution_count": 28,
   "id": "c821972e-0bed-4245-8933-27b0b28589de",
   "metadata": {},
   "outputs": [
    {
     "name": "stdout",
     "output_type": "stream",
     "text": [
      "{\n",
      " \"max_ram\": {\n",
      "  \"unit\": \"gigabytes\",\n",
      "  \"system_capacity\": 63.0882304,\n",
      "  \"system\": 2.878910464,\n",
      "  \"main\": {\n",
      "   \"total_rss\": 0.0029777920000000004,\n",
      "   \"private_rss\": 0.00031948800000000004,\n",
      "   \"shared_rss\": 0.0026583040000000002\n",
      "  },\n",
      "  \"descendents\": {\n",
      "   \"total_rss\": 0.8333844480000001,\n",
      "   \"private_rss\": 0.7066091520000001,\n",
      "   \"shared_rss\": 0.127152128\n",
      "  },\n",
      "  \"combined\": {\n",
      "   \"total_rss\": 0.841486336,\n",
      "   \"private_rss\": 0.713818112,\n",
      "   \"shared_rss\": 0.12804505600000002\n",
      "  }\n",
      " },\n",
      " \"max_gpu_ram\": {\n",
      "  \"unit\": \"gigabytes\",\n",
      "  \"system_capacity\": 2.048,\n",
      "  \"system\": 0.631,\n",
      "  \"main\": 0.0,\n",
      "  \"descendents\": 0.277,\n",
      "  \"combined\": 0.277\n",
      " },\n",
      " \"cpu_utilization\": {\n",
      "  \"system_core_count\": 12,\n",
      "  \"n_expected_cores\": 12,\n",
      "  \"system\": {\n",
      "   \"max_sum_percent\": 306.09999999999997,\n",
      "   \"max_hardware_percent\": 25.50833333333333,\n",
      "   \"mean_sum_percent\": 161.4272727272727,\n",
      "   \"mean_hardware_percent\": 13.452272727272724\n",
      "  },\n",
      "  \"main\": {\n",
      "   \"max_sum_percent\": 0.0,\n",
      "   \"max_hardware_percent\": 0.0,\n",
      "   \"mean_sum_percent\": 0.0,\n",
      "   \"mean_hardware_percent\": 0.0\n",
      "  },\n",
      "  \"descendents\": {\n",
      "   \"max_sum_percent\": 440.2,\n",
      "   \"max_hardware_percent\": 36.68333333333333,\n",
      "   \"mean_sum_percent\": 128.27272727272728,\n",
      "   \"mean_hardware_percent\": 10.68939393939394\n",
      "  },\n",
      "  \"combined\": {\n",
      "   \"max_sum_percent\": 440.2,\n",
      "   \"max_hardware_percent\": 36.68333333333333,\n",
      "   \"mean_sum_percent\": 128.27272727272728,\n",
      "   \"mean_hardware_percent\": 10.68939393939394\n",
      "  },\n",
      "  \"main_n_threads\": 1,\n",
      "  \"descendents_n_threads\": 15,\n",
      "  \"combined_n_threads\": 16\n",
      " },\n",
      " \"gpu_utilization\": {\n",
      "  \"system_gpu_count\": 1,\n",
      "  \"n_expected_gpus\": 1,\n",
      "  \"gpu_percentages\": {\n",
      "   \"max_sum_percent\": 7.0,\n",
      "   \"max_hardware_percent\": 7.0,\n",
      "   \"mean_sum_percent\": 0.6363636363636364,\n",
      "   \"mean_hardware_percent\": 0.6363636363636364\n",
      "  }\n",
      " },\n",
      " \"compute_time\": {\n",
      "  \"unit\": \"hours\",\n",
      "  \"time\": 0.0012816817230648465\n",
      " }\n",
      "}"
     ]
    }
   ],
   "source": [
    "!cat out.json"
   ]
  }
 ],
 "metadata": {
  "kernelspec": {
   "display_name": "Python 3 (ipykernel)",
   "language": "python",
   "name": "python3"
  },
  "language_info": {
   "codemirror_mode": {
    "name": "ipython",
    "version": 3
   },
   "file_extension": ".py",
   "mimetype": "text/x-python",
   "name": "python",
   "nbconvert_exporter": "python",
   "pygments_lexer": "ipython3",
   "version": "3.12.2"
  }
 },
 "nbformat": 4,
 "nbformat_minor": 5
}
