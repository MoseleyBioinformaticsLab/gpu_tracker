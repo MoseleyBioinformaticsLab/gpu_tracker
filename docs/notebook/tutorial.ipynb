{
 "cells": [
  {
   "cell_type": "markdown",
   "id": "32566971-73e6-47c8-b27e-d6def06bec4e",
   "metadata": {},
   "source": [
    "# Tutorial"
   ]
  },
  {
   "cell_type": "markdown",
   "id": "51c6e812-ad8f-4061-b5dc-22ccfdd15b1c",
   "metadata": {},
   "source": [
    "## API"
   ]
  },
  {
   "cell_type": "markdown",
   "id": "2bb9e84a-8523-4e5f-bc01-1d6b234c19a6",
   "metadata": {},
   "source": [
    "The `gpu_tracker` package provides the `Tracker` class which uses a subprocess to measure computational resource usage, namely the compute time, CPU utilization, maximum RAM used, and maximum GPU RAM used. The `start()` method starts this process which tracks usage in the background. After calling `start()`, one can write the code for which resource usage is measured, followed by calling the `stop()` method. The compute time will be the time from the call to `start()` to the call to `stop()` and the RAM, GPU RAM, and CPU utilization quantities will be the respective computational resources used by the code that's in between `start()` and `stop()`."
   ]
  },
  {
   "cell_type": "code",
   "execution_count": 1,
   "id": "2ac7e291-08e4-4f88-a38c-02023dd813c1",
   "metadata": {},
   "outputs": [],
   "source": [
    "import gpu_tracker as gput\n",
    "from example_module import example_function"
   ]
  },
  {
   "cell_type": "code",
   "execution_count": 2,
   "id": "5ad59e55-2bde-4453-9727-2302aa8c231a",
   "metadata": {},
   "outputs": [],
   "source": [
    "tracker = gput.Tracker()\n",
    "tracker.start()\n",
    "example_function()\n",
    "tracker.stop()"
   ]
  },
  {
   "cell_type": "markdown",
   "id": "0a02518b-f55a-4119-8fc1-2daac6429e44",
   "metadata": {},
   "source": [
    "The `Tracker` class implements the `__str__` method so it can be printed as a string with the values and units of each computational resource formatted."
   ]
  },
  {
   "cell_type": "code",
   "execution_count": 3,
   "id": "710e11da-7a70-49fe-be6d-c1d25ce9d53f",
   "metadata": {},
   "outputs": [
    {
     "name": "stdout",
     "output_type": "stream",
     "text": [
      "Max RAM:\n",
      "   Unit: gigabytes\n",
      "   System capacity: 67.254\n",
      "   System: 5.21\n",
      "   Main:\n",
      "      Total RSS: 0.827\n",
      "      Private RSS: 0.674\n",
      "      Shared RSS: 0.154\n",
      "   Descendents:\n",
      "      Total RSS: 0.0\n",
      "      Private RSS: 0.0\n",
      "      Shared RSS: 0.0\n",
      "   Combined:\n",
      "      Total RSS: 0.834\n",
      "      Private RSS: 0.681\n",
      "      Shared RSS: 0.154\n",
      "Max GPU RAM:\n",
      "   Unit: gigabytes\n",
      "   System capacity: 16.376\n",
      "   System: 0.535\n",
      "   Main: 0.314\n",
      "   Descendents: 0.0\n",
      "   Combined: 0.314\n",
      "CPU utilization:\n",
      "   System core count: 12\n",
      "   System:\n",
      "      Max core percent: 150.6\n",
      "      Max CPU percent: 12.55\n",
      "      Mean core percent: 122.9\n",
      "      Mean CPU percent: 10.242\n",
      "   Main:\n",
      "      Max core percent: 98.6\n",
      "      Max CPU percent: 8.217\n",
      "      Mean core percent: 96.8\n",
      "      Mean CPU percent: 8.067\n",
      "   Descendents:\n",
      "      Max core percent: 0.0\n",
      "      Max CPU percent: 0.0\n",
      "      Mean core percent: 0.0\n",
      "      Mean CPU percent: 0.0\n",
      "   Combined:\n",
      "      Max core percent: 98.6\n",
      "      Max CPU percent: 8.217\n",
      "      Mean core percent: 96.8\n",
      "      Mean CPU percent: 8.067\n",
      "   Main number of threads: 15\n",
      "   Descendents number of threads: 0\n",
      "   Combined number of threads: 15\n",
      "Compute time:\n",
      "   Unit: hours\n",
      "   Time: 0.001\n"
     ]
    }
   ],
   "source": [
    "print(tracker)"
   ]
  },
  {
   "cell_type": "markdown",
   "id": "fc7819ab-a3fc-4a29-8a5c-1790e192a465",
   "metadata": {},
   "source": [
    "The output is organized by computational resource followed by information specific to that resource. The system capacity is a constant for the total RAM capacity across the entire operating system. There is a system capacity field both for RAM and GPU RAM. This is not to be confused with the system field, which measures the maximum RAM / GPU RAM (operating system wide) that was actually used over the duration of the computational-resource tracking. Both the RAM and GPU RAM have 3 additional fields, namely the usage of the main process itself followed by the summed usage of any descendent processes it may have (i.e. child processes, grandchild processes, etc.), and combined usage which is the sum of the main and its descendent processes. RAM is divided further to include the private RSS (RAM usage unique to the process), shared RSS (RAM that's shared by a process and at least one other process), and total RSS (the sum of private and shared RSS). The private and shared RSS values are only available on Linux distributions. So for non-linux operating systems, the private and shared RSS will remain 0 and only the total RSS will be reported. Theoretically, the combined total RSS would never exceed the overall system RAM usage, but inaccuracies resulting from shared RSS can cause this to happen, especially for non-linux operating systems (see note below).\n",
    "\n",
    "The `Tracker` assumes that GPU memory is not shared accross multiple processes and if it is, the reported GPU RAM of \"descendent\" and \"combined\" may be an overestimation.\n",
    "\n",
    "The CPU utilization includes the system core count field which is the total number of cores available system-wide. Utilization is measured for the main process, its descendents, the main process and its descendents combined, and CPU utilization across the entire system. The core percent is the sum of the percentages of all the cores being used. The CPU percent is that divided by the system core count. The max percent is the highest percentage detected through the duration of tracking while the mean percent is the average of all the percentages detected over that duration. The CPU utilization concludes with the maximum number of threads used at any time for the main process and the sum of the threads used accross its descendent processes and combined.\n",
    "\n",
    "The compute time is the real time that the computational-resource tracking lasted (as compared to CPU time)."
   ]
  },
  {
   "cell_type": "markdown",
   "id": "9eb6f048-68cf-4dc5-b11d-cdcdf39bde3a",
   "metadata": {},
   "source": [
    "***NOTE** The keywords \"descendents\" and \"combined\" in the output above indicate a sum of the RSS used by multiple processes. It's important to keep in mind that on non-linux operating systems, this sum does not take into account shared memory but rather adds up the total RSS of all processes, which can lead to an overestimation. For Linux distributions, however, pieces of shared memory are only counted once.*"
   ]
  },
  {
   "cell_type": "markdown",
   "id": "dbf7ad83-21d0-4cd2-adbb-278fa80d2b13",
   "metadata": {},
   "source": [
    "The `Tracker` can alternatively be used as a context manager rather than explicitly calling `start()` and `stop()`."
   ]
  },
  {
   "cell_type": "code",
   "execution_count": 4,
   "id": "08f688f4-f1b6-41dc-91f9-76f9c7e0fdb3",
   "metadata": {},
   "outputs": [],
   "source": [
    "with gput.Tracker() as tracker:\n",
    "    example_function()"
   ]
  },
  {
   "cell_type": "markdown",
   "id": "7c7afe26-b2e0-4a4a-ba88-327ed6d4bb63",
   "metadata": {},
   "source": [
    "The units of the computational resources can be modified as desired. For example, to measure the RAM in megabytes, the GPU RAM in megabytes, and the compute time in seconds:"
   ]
  },
  {
   "cell_type": "code",
   "execution_count": 5,
   "id": "09201850-de04-4864-a7e2-3747d4fb9b3a",
   "metadata": {},
   "outputs": [
    {
     "name": "stdout",
     "output_type": "stream",
     "text": [
      "Max RAM:\n",
      "   Unit: megabytes\n",
      "   System capacity: 67254.17\n",
      "   System: 5721.395\n",
      "   Main:\n",
      "      Total RSS: 850.399\n",
      "      Private RSS: 634.077\n",
      "      Shared RSS: 216.547\n",
      "   Descendents:\n",
      "      Total RSS: 0.0\n",
      "      Private RSS: 0.0\n",
      "      Shared RSS: 0.0\n",
      "   Combined:\n",
      "      Total RSS: 858.763\n",
      "      Private RSS: 642.445\n",
      "      Shared RSS: 216.527\n",
      "Max GPU RAM:\n",
      "   Unit: megabytes\n",
      "   System capacity: 16376.0\n",
      "   System: 727.0\n",
      "   Main: 506.0\n",
      "   Descendents: 0.0\n",
      "   Combined: 506.0\n",
      "CPU utilization:\n",
      "   System core count: 12\n",
      "   System:\n",
      "      Max core percent: 148.9\n",
      "      Max CPU percent: 12.408\n",
      "      Mean core percent: 124.7\n",
      "      Mean CPU percent: 10.392\n",
      "   Main:\n",
      "      Max core percent: 99.9\n",
      "      Max CPU percent: 8.325\n",
      "      Mean core percent: 97.533\n",
      "      Mean CPU percent: 8.128\n",
      "   Descendents:\n",
      "      Max core percent: 0.0\n",
      "      Max CPU percent: 0.0\n",
      "      Mean core percent: 0.0\n",
      "      Mean CPU percent: 0.0\n",
      "   Combined:\n",
      "      Max core percent: 99.9\n",
      "      Max CPU percent: 8.325\n",
      "      Mean core percent: 97.533\n",
      "      Mean CPU percent: 8.128\n",
      "   Main number of threads: 15\n",
      "   Descendents number of threads: 0\n",
      "   Combined number of threads: 15\n",
      "Compute time:\n",
      "   Unit: seconds\n",
      "   Time: 2.52\n"
     ]
    }
   ],
   "source": [
    "with gput.Tracker(ram_unit='megabytes', gpu_ram_unit='megabytes', time_unit='seconds') as tracker:\n",
    "    example_function()\n",
    "print(tracker)"
   ]
  },
  {
   "cell_type": "markdown",
   "id": "2323016e-f390-4584-b540-a330af5b635e",
   "metadata": {},
   "source": [
    "The same information as the text format can be provided as a dictionary via the `to_json()` method of the `Tracker`."
   ]
  },
  {
   "cell_type": "code",
   "execution_count": 6,
   "id": "85291150-bac7-4057-8ce6-35dfb6badb88",
   "metadata": {},
   "outputs": [
    {
     "name": "stdout",
     "output_type": "stream",
     "text": [
      "{\n",
      " \"max_ram\": {\n",
      "  \"unit\": \"megabytes\",\n",
      "  \"system_capacity\": 67254.1696,\n",
      "  \"system\": 5721.3952,\n",
      "  \"main\": {\n",
      "   \"total_rss\": 850.399232,\n",
      "   \"private_rss\": 634.077184,\n",
      "   \"shared_rss\": 216.547328\n",
      "  },\n",
      "  \"descendents\": {\n",
      "   \"total_rss\": 0.0,\n",
      "   \"private_rss\": 0.0,\n",
      "   \"shared_rss\": 0.0\n",
      "  },\n",
      "  \"combined\": {\n",
      "   \"total_rss\": 858.7632639999999,\n",
      "   \"private_rss\": 642.445312,\n",
      "   \"shared_rss\": 216.526848\n",
      "  }\n",
      " },\n",
      " \"max_gpu_ram\": {\n",
      "  \"unit\": \"megabytes\",\n",
      "  \"system_capacity\": 16376.0,\n",
      "  \"system\": 727.0,\n",
      "  \"main\": 506.0,\n",
      "  \"descendents\": 0.0,\n",
      "  \"combined\": 506.0\n",
      " },\n",
      " \"cpu_utilization\": {\n",
      "  \"system_core_count\": 12,\n",
      "  \"system\": {\n",
      "   \"max_core_percent\": 148.90000000000003,\n",
      "   \"max_cpu_percent\": 12.408333333333337,\n",
      "   \"mean_core_percent\": 124.70000000000003,\n",
      "   \"mean_cpu_percent\": 10.39166666666667\n",
      "  },\n",
      "  \"main\": {\n",
      "   \"max_core_percent\": 99.9,\n",
      "   \"max_cpu_percent\": 8.325000000000001,\n",
      "   \"mean_core_percent\": 97.53333333333335,\n",
      "   \"mean_cpu_percent\": 8.127777777777778\n",
      "  },\n",
      "  \"descendents\": {\n",
      "   \"max_core_percent\": 0.0,\n",
      "   \"max_cpu_percent\": 0.0,\n",
      "   \"mean_core_percent\": 0.0,\n",
      "   \"mean_cpu_percent\": 0.0\n",
      "  },\n",
      "  \"combined\": {\n",
      "   \"max_core_percent\": 99.9,\n",
      "   \"max_cpu_percent\": 8.325000000000001,\n",
      "   \"mean_core_percent\": 97.53333333333335,\n",
      "   \"mean_cpu_percent\": 8.127777777777778\n",
      "  },\n",
      "  \"main_n_threads\": 15,\n",
      "  \"descendents_n_threads\": 0,\n",
      "  \"combined_n_threads\": 15\n",
      " },\n",
      " \"compute_time\": {\n",
      "  \"unit\": \"seconds\",\n",
      "  \"time\": 2.5198354721069336\n",
      " }\n",
      "}\n"
     ]
    }
   ],
   "source": [
    "import json\n",
    "print(json.dumps(tracker.to_json(), indent=1))"
   ]
  },
  {
   "cell_type": "markdown",
   "id": "3ab1039a-09bc-44b7-b106-37e6986869d4",
   "metadata": {},
   "source": [
    "Using Python data classes, the `Tracker` class additionally has a `resource_usage` attribute containing fields that provide the usage information for each individual computational resource."
   ]
  },
  {
   "cell_type": "code",
   "execution_count": 7,
   "id": "882210f5-233f-4ca9-b2ca-8b187d0d7d7e",
   "metadata": {},
   "outputs": [
    {
     "data": {
      "text/plain": [
       "MaxRAM(unit='megabytes', system_capacity=67254.1696, system=5721.3952, main=RSSValues(total_rss=850.399232, private_rss=634.077184, shared_rss=216.547328), descendents=RSSValues(total_rss=0.0, private_rss=0.0, shared_rss=0.0), combined=RSSValues(total_rss=858.7632639999999, private_rss=642.445312, shared_rss=216.526848))"
      ]
     },
     "execution_count": 7,
     "metadata": {},
     "output_type": "execute_result"
    }
   ],
   "source": [
    "tracker.resource_usage.max_ram"
   ]
  },
  {
   "cell_type": "code",
   "execution_count": 8,
   "id": "4a380bd0-199c-4c50-9592-05519b00da7c",
   "metadata": {},
   "outputs": [
    {
     "data": {
      "text/plain": [
       "'megabytes'"
      ]
     },
     "execution_count": 8,
     "metadata": {},
     "output_type": "execute_result"
    }
   ],
   "source": [
    "tracker.resource_usage.max_ram.unit"
   ]
  },
  {
   "cell_type": "code",
   "execution_count": 9,
   "id": "0e4c0b1a-8a4c-40d7-9270-a2274456575b",
   "metadata": {},
   "outputs": [
    {
     "data": {
      "text/plain": [
       "RSSValues(total_rss=850.399232, private_rss=634.077184, shared_rss=216.547328)"
      ]
     },
     "execution_count": 9,
     "metadata": {},
     "output_type": "execute_result"
    }
   ],
   "source": [
    "tracker.resource_usage.max_ram.main"
   ]
  },
  {
   "cell_type": "code",
   "execution_count": 10,
   "id": "47e6c47b-586a-4534-9346-76fcf3f5ab83",
   "metadata": {},
   "outputs": [
    {
     "data": {
      "text/plain": [
       "850.399232"
      ]
     },
     "execution_count": 10,
     "metadata": {},
     "output_type": "execute_result"
    }
   ],
   "source": [
    "tracker.resource_usage.max_ram.main.total_rss"
   ]
  },
  {
   "cell_type": "code",
   "execution_count": 11,
   "id": "421c5118-7421-4681-bd16-b9697c28078e",
   "metadata": {},
   "outputs": [
    {
     "data": {
      "text/plain": [
       "MaxGPURAM(unit='megabytes', system_capacity=16376.0, system=727.0, main=506.0, descendents=0.0, combined=506.0)"
      ]
     },
     "execution_count": 11,
     "metadata": {},
     "output_type": "execute_result"
    }
   ],
   "source": [
    "tracker.resource_usage.max_gpu_ram"
   ]
  },
  {
   "cell_type": "code",
   "execution_count": 12,
   "id": "8d047dfc-f7f8-4906-964a-16fd725f6e4b",
   "metadata": {},
   "outputs": [
    {
     "data": {
      "text/plain": [
       "ComputeTime(unit='seconds', time=2.5198354721069336)"
      ]
     },
     "execution_count": 12,
     "metadata": {},
     "output_type": "execute_result"
    }
   ],
   "source": [
    "tracker.resource_usage.compute_time"
   ]
  },
  {
   "cell_type": "markdown",
   "id": "c2cacaf2-316f-463b-bccd-3a9cdcd89a66",
   "metadata": {},
   "source": [
    "Sometimes the code can fail. In order to collect the resource usage up to the point of failure, use a try/except block like so:"
   ]
  },
  {
   "cell_type": "code",
   "execution_count": 13,
   "id": "8de6c83f-63b1-4fd3-ae22-a87bd760aad2",
   "metadata": {},
   "outputs": [
    {
     "name": "stdout",
     "output_type": "stream",
     "text": [
      "The following error occured while tracking: AN ERROR\n",
      "0.506\n"
     ]
    }
   ],
   "source": [
    "try:\n",
    "    with gput.Tracker() as tracker:\n",
    "        example_function()\n",
    "        raise RuntimeError('AN ERROR')\n",
    "except Exception as error:\n",
    "    print(f'The following error occured while tracking: {error}')\n",
    "finally:\n",
    "    print(tracker.resource_usage.max_gpu_ram.main)"
   ]
  },
  {
   "cell_type": "markdown",
   "id": "57c1c857-175d-4497-bee8-28c615f31ac4",
   "metadata": {},
   "source": [
    "Below is an example of using a child process. Notice the descendents fields are now non-zero."
   ]
  },
  {
   "cell_type": "code",
   "execution_count": 14,
   "id": "f429ced6-573b-4f0f-ad64-658e9c05242d",
   "metadata": {},
   "outputs": [
    {
     "name": "stdout",
     "output_type": "stream",
     "text": [
      "Max RAM:\n",
      "   Unit: gigabytes\n",
      "   System capacity: 67.254\n",
      "   System: 5.938\n",
      "   Main:\n",
      "      Total RSS: 0.798\n",
      "      Private RSS: 0.491\n",
      "      Shared RSS: 0.311\n",
      "   Descendents:\n",
      "      Total RSS: 0.85\n",
      "      Private RSS: 0.728\n",
      "      Shared RSS: 0.122\n",
      "   Combined:\n",
      "      Total RSS: 1.451\n",
      "      Private RSS: 1.144\n",
      "      Shared RSS: 0.311\n",
      "Max GPU RAM:\n",
      "   Unit: gigabytes\n",
      "   System capacity: 16.376\n",
      "   System: 1.043\n",
      "   Main: 0.506\n",
      "   Descendents: 0.314\n",
      "   Combined: 0.82\n",
      "CPU utilization:\n",
      "   System core count: 12\n",
      "   System:\n",
      "      Max core percent: 225.5\n",
      "      Max CPU percent: 18.792\n",
      "      Mean core percent: 187.575\n",
      "      Mean CPU percent: 15.631\n",
      "   Main:\n",
      "      Max core percent: 99.6\n",
      "      Max CPU percent: 8.3\n",
      "      Mean core percent: 74.15\n",
      "      Mean CPU percent: 6.179\n",
      "   Descendents:\n",
      "      Max core percent: 101.2\n",
      "      Max CPU percent: 8.433\n",
      "      Mean core percent: 74.125\n",
      "      Mean CPU percent: 6.177\n",
      "   Combined:\n",
      "      Max core percent: 198.7\n",
      "      Max CPU percent: 16.558\n",
      "      Mean core percent: 148.275\n",
      "      Mean CPU percent: 12.356\n",
      "   Main number of threads: 15\n",
      "   Descendents number of threads: 5\n",
      "   Combined number of threads: 20\n",
      "Compute time:\n",
      "   Unit: hours\n",
      "   Time: 0.001\n"
     ]
    }
   ],
   "source": [
    "import multiprocessing as mp\n",
    "ctx = mp.get_context(method='spawn')\n",
    "child_process = ctx.Process(target=example_function)\n",
    "with gput.Tracker() as tracker:\n",
    "    child_process.start()\n",
    "    example_function()\n",
    "    child_process.join()\n",
    "    child_process.close()\n",
    "print(tracker)"
   ]
  },
  {
   "cell_type": "markdown",
   "id": "c3db85b4-fe2b-4a5a-9b7e-6d390fe39d1c",
   "metadata": {},
   "source": [
    "## CLI"
   ]
  },
  {
   "cell_type": "markdown",
   "id": "54a3a61b-81cf-4a65-85af-7ba15a111970",
   "metadata": {},
   "source": [
    "The `gpu-tracker` package also comes with a commandline interface that can track the computational-resource-usage of any shell command, not just Python code. Entering `gpu-tracker -h` in a shell will show the help message."
   ]
  },
  {
   "cell_type": "code",
   "execution_count": 15,
   "id": "f7deae10-a16b-4a38-acc6-c354911200ab",
   "metadata": {},
   "outputs": [
    {
     "name": "stdout",
     "output_type": "stream",
     "text": [
      "Tracks the computational resource usage (RAM, GPU RAM, and compute time) of a process corresponding to a given shell command.\n",
      "\n",
      "Usage:\n",
      "    gpu-tracker -h | --help\n",
      "    gpu-tracker -v | --version\n",
      "    gpu-tracker --execute=<command> [--output=<output>] [--format=<format>] [--st=<sleep-time>] [--ru=<ram-unit>] [--gru=<gpu-ram-unit>] [--tu=<time-unit>] [--disable-logs]\n",
      "\n",
      "Options:\n",
      "    -h --help               Show this help message and exit.\n",
      "    -v --version            Show package version and exit.\n",
      "    -e --execute=<command>  The command to run along with its arguments all within quotes e.g. \"ls -l -a\".\n",
      "    -o --output=<output>    File path to store the computational-resource-usage measurements. If not set, prints measurements to the screen.\n",
      "    -f --format=<format>    File format of the output. Either 'json' or 'text'. Defaults to 'text'.\n",
      "    --st=<sleep-time>       The number of seconds to sleep in between usage-collection iterations.\n",
      "    --ru=<ram-unit>         One of 'bytes', 'kilobytes', 'megabytes', 'gigabytes', or 'terabytes'.\n",
      "    --gru=<gpu-ram-unit>    One of 'bytes', 'kilobytes', 'megabytes', 'gigabytes', or 'terabytes'.\n",
      "    --tu=<time-unit>        One of 'seconds', 'minutes', 'hours', or 'days'.\n",
      "    --disable-logs          If set, warnings are suppressed during tracking. Otherwise, the Tracker logs warnings as usual.\n"
     ]
    }
   ],
   "source": [
    "!gpu-tracker -h"
   ]
  },
  {
   "cell_type": "markdown",
   "id": "deb01bb6-27e3-446e-885e-1b017e246230",
   "metadata": {},
   "source": [
    "The `-e` or `--execute` is a required option where the desired shell command is provided, with both the command and its proceeding arguments surrounded by quotes. Below is an example of running the `bash` command with an argument of `example-script.sh`. When the command completes, its status code is reported. "
   ]
  },
  {
   "cell_type": "code",
   "execution_count": 16,
   "id": "ea7c710f-a238-460d-836c-a979e1c72f4f",
   "metadata": {},
   "outputs": [
    {
     "name": "stdout",
     "output_type": "stream",
     "text": [
      "Resource tracking complete. Process completed with status code: 0\n",
      "Max RAM:\n",
      "   Unit: gigabytes\n",
      "   System capacity: 67.254\n",
      "   System: 5.964\n",
      "   Main:\n",
      "      Total RSS: 0.003\n",
      "      Private RSS: 0.0\n",
      "      Shared RSS: 0.003\n",
      "   Descendents:\n",
      "      Total RSS: 0.847\n",
      "      Private RSS: 0.724\n",
      "      Shared RSS: 0.122\n",
      "   Combined:\n",
      "      Total RSS: 0.856\n",
      "      Private RSS: 0.733\n",
      "      Shared RSS: 0.123\n",
      "Max GPU RAM:\n",
      "   Unit: gigabytes\n",
      "   System capacity: 16.376\n",
      "   System: 1.043\n",
      "   Main: 0.0\n",
      "   Descendents: 0.314\n",
      "   Combined: 0.314\n",
      "CPU utilization:\n",
      "   System core count: 12\n",
      "   System:\n",
      "      Max core percent: 177.6\n",
      "      Max CPU percent: 14.8\n",
      "      Mean core percent: 134.375\n",
      "      Mean CPU percent: 11.198\n",
      "   Main:\n",
      "      Max core percent: 0.0\n",
      "      Max CPU percent: 0.0\n",
      "      Mean core percent: 0.0\n",
      "      Mean CPU percent: 0.0\n",
      "   Descendents:\n",
      "      Max core percent: 100.4\n",
      "      Max CPU percent: 8.367\n",
      "      Mean core percent: 95.45\n",
      "      Mean CPU percent: 7.954\n",
      "   Combined:\n",
      "      Max core percent: 100.4\n",
      "      Max CPU percent: 8.367\n",
      "      Mean core percent: 95.45\n",
      "      Mean CPU percent: 7.954\n",
      "   Main number of threads: 1\n",
      "   Descendents number of threads: 4\n",
      "   Combined number of threads: 5\n",
      "Compute time:\n",
      "   Unit: hours\n",
      "   Time: 0.001\n"
     ]
    }
   ],
   "source": [
    "!gpu-tracker -e \"bash example-script.sh\""
   ]
  },
  {
   "cell_type": "markdown",
   "id": "c45091e7-0e85-4a8d-8836-c2dce1bd547f",
   "metadata": {},
   "source": [
    "*Notice that the RAM and GPU RAM usage primarily takes place in the descendent processes since the bash command itself calls the commands relevant to resource usage.*"
   ]
  },
  {
   "cell_type": "markdown",
   "id": "5a59585a-d89d-4900-a785-29bf4bba7d9c",
   "metadata": {},
   "source": [
    "The units of the computational resources can be modified. For example, --tu stands for time-unit, --gru stands for gpu-ram-unit, and --ru stands for ram-unit."
   ]
  },
  {
   "cell_type": "code",
   "execution_count": 17,
   "id": "cff099a7-1070-42ba-9f2a-008d58863fe6",
   "metadata": {},
   "outputs": [
    {
     "name": "stdout",
     "output_type": "stream",
     "text": [
      "Resource tracking complete. Process completed with status code: 0\n",
      "Max RAM:\n",
      "   Unit: megabytes\n",
      "   System capacity: 67254.17\n",
      "   System: 5784.379\n",
      "   Main:\n",
      "      Total RSS: 3.076\n",
      "      Private RSS: 0.324\n",
      "      Shared RSS: 2.753\n",
      "   Descendents:\n",
      "      Total RSS: 838.545\n",
      "      Private RSS: 716.681\n",
      "      Shared RSS: 121.864\n",
      "   Combined:\n",
      "      Total RSS: 847.249\n",
      "      Private RSS: 724.492\n",
      "      Shared RSS: 122.757\n",
      "Max GPU RAM:\n",
      "   Unit: megabytes\n",
      "   System capacity: 16376.0\n",
      "   System: 1043.0\n",
      "   Main: 0.0\n",
      "   Descendents: 314.0\n",
      "   Combined: 314.0\n",
      "CPU utilization:\n",
      "   System core count: 12\n",
      "   System:\n",
      "      Max core percent: 188.7\n",
      "      Max CPU percent: 15.725\n",
      "      Mean core percent: 136.45\n",
      "      Mean CPU percent: 11.371\n",
      "   Main:\n",
      "      Max core percent: 0.0\n",
      "      Max CPU percent: 0.0\n",
      "      Mean core percent: 0.0\n",
      "      Mean CPU percent: 0.0\n",
      "   Descendents:\n",
      "      Max core percent: 96.2\n",
      "      Max CPU percent: 8.017\n",
      "      Mean core percent: 94.55\n",
      "      Mean CPU percent: 7.879\n",
      "   Combined:\n",
      "      Max core percent: 96.2\n",
      "      Max CPU percent: 8.017\n",
      "      Mean core percent: 94.55\n",
      "      Mean CPU percent: 7.879\n",
      "   Main number of threads: 1\n",
      "   Descendents number of threads: 4\n",
      "   Combined number of threads: 5\n",
      "Compute time:\n",
      "   Unit: seconds\n",
      "   Time: 3.566\n"
     ]
    }
   ],
   "source": [
    "!gpu-tracker -e 'bash example-script.sh' --tu=seconds --gru=megabytes --ru=megabytes"
   ]
  },
  {
   "cell_type": "markdown",
   "id": "5f904cc3-17f5-4ee5-bb91-97ab71c77abe",
   "metadata": {},
   "source": [
    "By default, the computational-resource-usage statistics are printed to the screen. The `-o` or `--output` option can be specified to store that same content in a file."
   ]
  },
  {
   "cell_type": "code",
   "execution_count": 18,
   "id": "a8520fd9-0907-4c0c-a68f-8fdaec040e1a",
   "metadata": {},
   "outputs": [
    {
     "name": "stdout",
     "output_type": "stream",
     "text": [
      "Resource tracking complete. Process completed with status code: 0\n"
     ]
    }
   ],
   "source": [
    "!gpu-tracker -e 'bash example-script.sh' -o out.txt "
   ]
  },
  {
   "cell_type": "code",
   "execution_count": 19,
   "id": "213550b7-d808-4e11-be37-f2f892e4834b",
   "metadata": {},
   "outputs": [
    {
     "name": "stdout",
     "output_type": "stream",
     "text": [
      "Max RAM:\n",
      "   Unit: gigabytes\n",
      "   System capacity: 67.254\n",
      "   System: 5.584\n",
      "   Main:\n",
      "      Total RSS: 0.003\n",
      "      Private RSS: 0.0\n",
      "      Shared RSS: 0.003\n",
      "   Descendents:\n",
      "      Total RSS: 0.853\n",
      "      Private RSS: 0.731\n",
      "      Shared RSS: 0.122\n",
      "   Combined:\n",
      "      Total RSS: 0.862\n",
      "      Private RSS: 0.739\n",
      "      Shared RSS: 0.123\n",
      "Max GPU RAM:\n",
      "   Unit: gigabytes\n",
      "   System capacity: 16.376\n",
      "   System: 1.043\n",
      "   Main: 0.0\n",
      "   Descendents: 0.314\n",
      "   Combined: 0.314\n",
      "CPU utilization:\n",
      "   System core count: 12\n",
      "   System:\n",
      "      Max core percent: 187.6\n",
      "      Max CPU percent: 15.633\n",
      "      Mean core percent: 137.675\n",
      "      Mean CPU percent: 11.473\n",
      "   Main:\n",
      "      Max core percent: 0.0\n",
      "      Max CPU percent: 0.0\n",
      "      Mean core percent: 0.0\n",
      "      Mean CPU percent: 0.0\n",
      "   Descendents:\n",
      "      Max core percent: 101.3\n",
      "      Max CPU percent: 8.442\n",
      "      Mean core percent: 97.675\n",
      "      Mean CPU percent: 8.14\n",
      "   Combined:\n",
      "      Max core percent: 101.3\n",
      "      Max CPU percent: 8.442\n",
      "      Mean core percent: 97.675\n",
      "      Mean CPU percent: 8.14\n",
      "   Main number of threads: 1\n",
      "   Descendents number of threads: 4\n",
      "   Combined number of threads: 5\n",
      "Compute time:\n",
      "   Unit: hours\n",
      "   Time: 0.001"
     ]
    }
   ],
   "source": [
    "!cat out.txt"
   ]
  },
  {
   "cell_type": "markdown",
   "id": "d1a10d46-867d-46ca-b432-c2859c308b70",
   "metadata": {},
   "source": [
    "By default, the format of the output is \"text\". The `-f` or `--format` option can specify the format to be \"json\" instead. "
   ]
  },
  {
   "cell_type": "code",
   "execution_count": 20,
   "id": "f6fd29d2-cad6-4f9c-8af8-ccf4f0e721d3",
   "metadata": {},
   "outputs": [
    {
     "name": "stdout",
     "output_type": "stream",
     "text": [
      "Resource tracking complete. Process completed with status code: 0\n",
      "{\n",
      " \"max_ram\": {\n",
      "  \"unit\": \"gigabytes\",\n",
      "  \"system_capacity\": 67.2541696,\n",
      "  \"system\": 5.720379392000001,\n",
      "  \"main\": {\n",
      "   \"total_rss\": 0.003084288,\n",
      "   \"private_rss\": 0.00031948800000000004,\n",
      "   \"shared_rss\": 0.0027648\n",
      "  },\n",
      "  \"descendents\": {\n",
      "   \"total_rss\": 0.854237184,\n",
      "   \"private_rss\": 0.73218048,\n",
      "   \"shared_rss\": 0.122056704\n",
      "  },\n",
      "  \"combined\": {\n",
      "   \"total_rss\": 0.863256576,\n",
      "   \"private_rss\": 0.7403069440000001,\n",
      "   \"shared_rss\": 0.122949632\n",
      "  }\n",
      " },\n",
      " \"max_gpu_ram\": {\n",
      "  \"unit\": \"gigabytes\",\n",
      "  \"system_capacity\": 16.376,\n",
      "  \"system\": 1.043,\n",
      "  \"main\": 0.0,\n",
      "  \"descendents\": 0.314,\n",
      "  \"combined\": 0.314\n",
      " },\n",
      " \"cpu_utilization\": {\n",
      "  \"system_core_count\": 12,\n",
      "  \"system\": {\n",
      "   \"max_core_percent\": 260.00000000000006,\n",
      "   \"max_cpu_percent\": 21.66666666666667,\n",
      "   \"mean_core_percent\": 159.35000000000002,\n",
      "   \"mean_cpu_percent\": 13.279166666666669\n",
      "  },\n",
      "  \"main\": {\n",
      "   \"max_core_percent\": 0.0,\n",
      "   \"max_cpu_percent\": 0.0,\n",
      "   \"mean_core_percent\": 0.0,\n",
      "   \"mean_cpu_percent\": 0.0\n",
      "  },\n",
      "  \"descendents\": {\n",
      "   \"max_core_percent\": 102.9,\n",
      "   \"max_cpu_percent\": 8.575000000000001,\n",
      "   \"mean_core_percent\": 97.475,\n",
      "   \"mean_cpu_percent\": 8.122916666666667\n",
      "  },\n",
      "  \"combined\": {\n",
      "   \"max_core_percent\": 102.9,\n",
      "   \"max_cpu_percent\": 8.575000000000001,\n",
      "   \"mean_core_percent\": 97.475,\n",
      "   \"mean_cpu_percent\": 8.122916666666667\n",
      "  },\n",
      "  \"main_n_threads\": 1,\n",
      "  \"descendents_n_threads\": 4,\n",
      "  \"combined_n_threads\": 5\n",
      " },\n",
      " \"compute_time\": {\n",
      "  \"unit\": \"hours\",\n",
      "  \"time\": 0.001005272732840644\n",
      " }\n",
      "}\n"
     ]
    }
   ],
   "source": [
    "!gpu-tracker -e 'bash example-script.sh' -f json"
   ]
  },
  {
   "cell_type": "code",
   "execution_count": 21,
   "id": "5c825e42-d100-4533-b218-c36f6380e6ed",
   "metadata": {},
   "outputs": [
    {
     "name": "stdout",
     "output_type": "stream",
     "text": [
      "Resource tracking complete. Process completed with status code: 0\n"
     ]
    }
   ],
   "source": [
    "!gpu-tracker -e 'bash example-script.sh' -f json -o out.json"
   ]
  },
  {
   "cell_type": "code",
   "execution_count": 22,
   "id": "c821972e-0bed-4245-8933-27b0b28589de",
   "metadata": {},
   "outputs": [
    {
     "name": "stdout",
     "output_type": "stream",
     "text": [
      "{\n",
      " \"max_ram\": {\n",
      "  \"unit\": \"gigabytes\",\n",
      "  \"system_capacity\": 67.2541696,\n",
      "  \"system\": 5.560373248,\n",
      "  \"main\": {\n",
      "   \"total_rss\": 0.002957312,\n",
      "   \"private_rss\": 0.000323584,\n",
      "   \"shared_rss\": 0.002633728\n",
      "  },\n",
      "  \"descendents\": {\n",
      "   \"total_rss\": 0.848539648,\n",
      "   \"private_rss\": 0.726519808,\n",
      "   \"shared_rss\": 0.12201984\n",
      "  },\n",
      "  \"combined\": {\n",
      "   \"total_rss\": 0.857731072,\n",
      "   \"private_rss\": 0.734818304,\n",
      "   \"shared_rss\": 0.122912768\n",
      "  }\n",
      " },\n",
      " \"max_gpu_ram\": {\n",
      "  \"unit\": \"gigabytes\",\n",
      "  \"system_capacity\": 16.376,\n",
      "  \"system\": 1.043,\n",
      "  \"main\": 0.0,\n",
      "  \"descendents\": 0.314,\n",
      "  \"combined\": 0.314\n",
      " },\n",
      " \"cpu_utilization\": {\n",
      "  \"system_core_count\": 12,\n",
      "  \"system\": {\n",
      "   \"max_core_percent\": 192.5,\n",
      "   \"max_cpu_percent\": 16.041666666666668,\n",
      "   \"mean_core_percent\": 154.22500000000002,\n",
      "   \"mean_cpu_percent\": 12.852083333333335\n",
      "  },\n",
      "  \"main\": {\n",
      "   \"max_core_percent\": 0.0,\n",
      "   \"max_cpu_percent\": 0.0,\n",
      "   \"mean_core_percent\": 0.0,\n",
      "   \"mean_cpu_percent\": 0.0\n",
      "  },\n",
      "  \"descendents\": {\n",
      "   \"max_core_percent\": 104.1,\n",
      "   \"max_cpu_percent\": 8.674999999999999,\n",
      "   \"mean_core_percent\": 97.7,\n",
      "   \"mean_cpu_percent\": 8.141666666666667\n",
      "  },\n",
      "  \"combined\": {\n",
      "   \"max_core_percent\": 104.1,\n",
      "   \"max_cpu_percent\": 8.674999999999999,\n",
      "   \"mean_core_percent\": 97.7,\n",
      "   \"mean_cpu_percent\": 8.141666666666667\n",
      "  },\n",
      "  \"main_n_threads\": 1,\n",
      "  \"descendents_n_threads\": 4,\n",
      "  \"combined_n_threads\": 5\n",
      " },\n",
      " \"compute_time\": {\n",
      "  \"unit\": \"hours\",\n",
      "  \"time\": 0.000995432734489441\n",
      " }\n",
      "}"
     ]
    }
   ],
   "source": [
    "!cat out.json"
   ]
  }
 ],
 "metadata": {
  "kernelspec": {
   "display_name": "Python 3 (ipykernel)",
   "language": "python",
   "name": "python3"
  },
  "language_info": {
   "codemirror_mode": {
    "name": "ipython",
    "version": 3
   },
   "file_extension": ".py",
   "mimetype": "text/x-python",
   "name": "python",
   "nbconvert_exporter": "python",
   "pygments_lexer": "ipython3",
   "version": "3.10.12"
  }
 },
 "nbformat": 4,
 "nbformat_minor": 5
}
